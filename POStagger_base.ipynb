{
 "cells": [
  {
   "cell_type": "code",
   "execution_count": 1,
   "metadata": {
    "colab": {
     "base_uri": "https://localhost:8080/",
     "height": 391
    },
    "colab_type": "code",
    "id": "BVLciLNFwPM6",
    "outputId": "82fcbd66-f587-4e86-d888-9807227e2d10"
   },
   "outputs": [
    {
     "name": "stdout",
     "output_type": "stream",
     "text": [
      "--2019-12-16 11:15:06--  https://raw.githubusercontent.com/HSE-CROSS-LING-DL/cma/master/data/trk-uncovered-train-transliterated.csv\n",
      "Resolving raw.githubusercontent.com (raw.githubusercontent.com)... 151.101.0.133, 151.101.64.133, 151.101.128.133, ...\n",
      "Connecting to raw.githubusercontent.com (raw.githubusercontent.com)|151.101.0.133|:443... connected.\n",
      "HTTP request sent, awaiting response... 200 OK\n",
      "Length: 5650505 (5.4M) [text/plain]\n",
      "Saving to: ‘train.csv’\n",
      "\n",
      "\r",
      "train.csv             0%[                    ]       0  --.-KB/s               \r",
      "train.csv           100%[===================>]   5.39M  --.-KB/s    in 0.06s   \n",
      "\n",
      "2019-12-16 11:15:06 (85.4 MB/s) - ‘train.csv’ saved [5650505/5650505]\n",
      "\n",
      "--2019-12-16 11:15:08--  https://raw.githubusercontent.com/HSE-CROSS-LING-DL/cma/master/data/trk-uncovered-dev-transliterated.csv\n",
      "Resolving raw.githubusercontent.com (raw.githubusercontent.com)... 151.101.0.133, 151.101.64.133, 151.101.128.133, ...\n",
      "Connecting to raw.githubusercontent.com (raw.githubusercontent.com)|151.101.0.133|:443... connected.\n",
      "HTTP request sent, awaiting response... 200 OK\n",
      "Length: 92536 (90K) [text/plain]\n",
      "Saving to: ‘test.csv’\n",
      "\n",
      "test.csv            100%[===================>]  90.37K  --.-KB/s    in 0.01s   \n",
      "\n",
      "2019-12-16 11:15:08 (6.18 MB/s) - ‘test.csv’ saved [92536/92536]\n",
      "\n"
     ]
    }
   ],
   "source": [
    "!wget https://raw.githubusercontent.com/HSE-CROSS-LING-DL/cma/master/data/trk-uncovered-train-transliterated.csv -O train.csv\n",
    "!wget https://raw.githubusercontent.com/HSE-CROSS-LING-DL/cma/master/data/trk-uncovered-dev-transliterated.csv -O test.csv"
   ]
  },
  {
   "cell_type": "code",
   "execution_count": 0,
   "metadata": {
    "colab": {},
    "colab_type": "code",
    "id": "6cbfFqc8wqIN"
   },
   "outputs": [],
   "source": [
    "import pandas as pd\n",
    "from tqdm import tqdm"
   ]
  },
  {
   "cell_type": "code",
   "execution_count": 0,
   "metadata": {
    "colab": {},
    "colab_type": "code",
    "id": "sk9ByVKVxDA6"
   },
   "outputs": [],
   "source": [
    "data = pd.read_csv('train.csv')\n",
    "test = pd.read_csv('test.csv')"
   ]
  },
  {
   "cell_type": "code",
   "execution_count": 6,
   "metadata": {
    "colab": {
     "base_uri": "https://localhost:8080/",
     "height": 34
    },
    "colab_type": "code",
    "id": "DxabTNWpdvQ2",
    "outputId": "8e9babad-2b94-4374-c706-a75d27483f5b"
   },
   "outputs": [
    {
     "data": {
      "text/plain": [
       "(79228, 5)"
      ]
     },
     "execution_count": 6,
     "metadata": {
      "tags": []
     },
     "output_type": "execute_result"
    }
   ],
   "source": [
    "data.shape"
   ]
  },
  {
   "cell_type": "code",
   "execution_count": 7,
   "metadata": {
    "colab": {
     "base_uri": "https://localhost:8080/",
     "height": 34
    },
    "colab_type": "code",
    "id": "Ld2jRMn521iy",
    "outputId": "87bd0d62-d65e-4802-c87e-7c8b803f9d1a"
   },
   "outputs": [
    {
     "data": {
      "text/plain": [
       "(79228, 5)"
      ]
     },
     "execution_count": 7,
     "metadata": {
      "tags": []
     },
     "output_type": "execute_result"
    }
   ],
   "source": [
    "data = data.dropna()\n",
    "data = data.reset_index(drop=True)\n",
    "data.shape"
   ]
  },
  {
   "cell_type": "code",
   "execution_count": 8,
   "metadata": {
    "colab": {
     "base_uri": "https://localhost:8080/",
     "height": 34
    },
    "colab_type": "code",
    "id": "RG24GN92xGOT",
    "outputId": "0ef4134f-79e3-4b1f-fae3-cef3ff1f7b7b"
   },
   "outputs": [
    {
     "data": {
      "text/plain": [
       "(1245, 5)"
      ]
     },
     "execution_count": 8,
     "metadata": {
      "tags": []
     },
     "output_type": "execute_result"
    }
   ],
   "source": [
    "test = test.dropna()\n",
    "test = test.reset_index(drop=True)\n",
    "test.shape"
   ]
  },
  {
   "cell_type": "code",
   "execution_count": 9,
   "metadata": {
    "colab": {
     "base_uri": "https://localhost:8080/",
     "height": 102
    },
    "colab_type": "code",
    "id": "B7gPKat9xNHR",
    "outputId": "d374be1c-83e6-432e-f825-5e993fe84594"
   },
   "outputs": [
    {
     "data": {
      "text/plain": [
       "NOUN    53.789064\n",
       "VERB    40.141112\n",
       "ADJ      5.231736\n",
       "ADV      0.838088\n",
       "Name: pos, dtype: float64"
      ]
     },
     "execution_count": 9,
     "metadata": {
      "tags": []
     },
     "output_type": "execute_result"
    }
   ],
   "source": [
    "data['pos'].value_counts() * 100 / data.shape[0]"
   ]
  },
  {
   "cell_type": "code",
   "execution_count": 10,
   "metadata": {
    "colab": {
     "base_uri": "https://localhost:8080/",
     "height": 204
    },
    "colab_type": "code",
    "id": "19Qug3FxySTU",
    "outputId": "eb6e15fd-92ec-49aa-99a9-e03ef20124de"
   },
   "outputs": [
    {
     "data": {
      "text/html": [
       "<div>\n",
       "<style scoped>\n",
       "    .dataframe tbody tr th:only-of-type {\n",
       "        vertical-align: middle;\n",
       "    }\n",
       "\n",
       "    .dataframe tbody tr th {\n",
       "        vertical-align: top;\n",
       "    }\n",
       "\n",
       "    .dataframe thead th {\n",
       "        text-align: right;\n",
       "    }\n",
       "</style>\n",
       "<table border=\"1\" class=\"dataframe\">\n",
       "  <thead>\n",
       "    <tr style=\"text-align: right;\">\n",
       "      <th></th>\n",
       "      <th>lang</th>\n",
       "      <th>word</th>\n",
       "      <th>lemma</th>\n",
       "      <th>pos</th>\n",
       "      <th>morph</th>\n",
       "    </tr>\n",
       "  </thead>\n",
       "  <tbody>\n",
       "    <tr>\n",
       "      <th>0</th>\n",
       "      <td>tat</td>\n",
       "      <td>казак</td>\n",
       "      <td>казак</td>\n",
       "      <td>NOUN</td>\n",
       "      <td>Case=Nom</td>\n",
       "    </tr>\n",
       "    <tr>\n",
       "      <th>1</th>\n",
       "      <td>tur</td>\n",
       "      <td>мuамеле</td>\n",
       "      <td>мuамеле</td>\n",
       "      <td>NOUN</td>\n",
       "      <td>Case=Nom</td>\n",
       "    </tr>\n",
       "    <tr>\n",
       "      <th>2</th>\n",
       "      <td>tat</td>\n",
       "      <td>заманы</td>\n",
       "      <td>заман</td>\n",
       "      <td>NOUN</td>\n",
       "      <td>Case=Nom|Number[psor]=Sing,Plur|Person[psor]=3</td>\n",
       "    </tr>\n",
       "    <tr>\n",
       "      <th>3</th>\n",
       "      <td>tur</td>\n",
       "      <td>конuт</td>\n",
       "      <td>конuт</td>\n",
       "      <td>NOUN</td>\n",
       "      <td>Case=Nom</td>\n",
       "    </tr>\n",
       "    <tr>\n",
       "      <th>4</th>\n",
       "      <td>tur</td>\n",
       "      <td>корuмасы</td>\n",
       "      <td>корu</td>\n",
       "      <td>VERB</td>\n",
       "      <td>Case=Nom|Number[psor]=Sing,Plur|Person[psor]=3...</td>\n",
       "    </tr>\n",
       "  </tbody>\n",
       "</table>\n",
       "</div>"
      ],
      "text/plain": [
       "  lang      word  ...   pos                                              morph\n",
       "0  tat     казак  ...  NOUN                                           Case=Nom\n",
       "1  tur   мuамеле  ...  NOUN                                           Case=Nom\n",
       "2  tat    заманы  ...  NOUN     Case=Nom|Number[psor]=Sing,Plur|Person[psor]=3\n",
       "3  tur     конuт  ...  NOUN                                           Case=Nom\n",
       "4  tur  корuмасы  ...  VERB  Case=Nom|Number[psor]=Sing,Plur|Person[psor]=3...\n",
       "\n",
       "[5 rows x 5 columns]"
      ]
     },
     "execution_count": 10,
     "metadata": {
      "tags": []
     },
     "output_type": "execute_result"
    }
   ],
   "source": [
    "data.head()"
   ]
  },
  {
   "cell_type": "markdown",
   "metadata": {
    "colab_type": "text",
    "id": "qbAI1pLE2d3v"
   },
   "source": [
    "POS-теги:"
   ]
  },
  {
   "cell_type": "code",
   "execution_count": 0,
   "metadata": {
    "colab": {},
    "colab_type": "code",
    "id": "_MwGXMx8xIOP"
   },
   "outputs": [],
   "source": [
    "pos_mapper = {pos: n for n, pos in enumerate(data.pos.unique())}\n",
    "data['pos_num'] = data.pos.map(pos_mapper)\n",
    "test['pos_num'] = test.pos.map(pos_mapper)"
   ]
  },
  {
   "cell_type": "code",
   "execution_count": 13,
   "metadata": {
    "colab": {
     "base_uri": "https://localhost:8080/",
     "height": 204
    },
    "colab_type": "code",
    "id": "zVQkyec02-L6",
    "outputId": "50daff9b-9edc-4bb7-ebd3-e05410db0671"
   },
   "outputs": [
    {
     "data": {
      "text/html": [
       "<div>\n",
       "<style scoped>\n",
       "    .dataframe tbody tr th:only-of-type {\n",
       "        vertical-align: middle;\n",
       "    }\n",
       "\n",
       "    .dataframe tbody tr th {\n",
       "        vertical-align: top;\n",
       "    }\n",
       "\n",
       "    .dataframe thead th {\n",
       "        text-align: right;\n",
       "    }\n",
       "</style>\n",
       "<table border=\"1\" class=\"dataframe\">\n",
       "  <thead>\n",
       "    <tr style=\"text-align: right;\">\n",
       "      <th></th>\n",
       "      <th>lang</th>\n",
       "      <th>word</th>\n",
       "      <th>lemma</th>\n",
       "      <th>pos</th>\n",
       "      <th>morph</th>\n",
       "      <th>pos_num</th>\n",
       "    </tr>\n",
       "  </thead>\n",
       "  <tbody>\n",
       "    <tr>\n",
       "      <th>0</th>\n",
       "      <td>tat</td>\n",
       "      <td>казак</td>\n",
       "      <td>казак</td>\n",
       "      <td>NOUN</td>\n",
       "      <td>Case=Nom</td>\n",
       "      <td>0</td>\n",
       "    </tr>\n",
       "    <tr>\n",
       "      <th>1</th>\n",
       "      <td>tur</td>\n",
       "      <td>мuамеле</td>\n",
       "      <td>мuамеле</td>\n",
       "      <td>NOUN</td>\n",
       "      <td>Case=Nom</td>\n",
       "      <td>0</td>\n",
       "    </tr>\n",
       "    <tr>\n",
       "      <th>2</th>\n",
       "      <td>tat</td>\n",
       "      <td>заманы</td>\n",
       "      <td>заман</td>\n",
       "      <td>NOUN</td>\n",
       "      <td>Case=Nom|Number[psor]=Sing,Plur|Person[psor]=3</td>\n",
       "      <td>0</td>\n",
       "    </tr>\n",
       "    <tr>\n",
       "      <th>3</th>\n",
       "      <td>tur</td>\n",
       "      <td>конuт</td>\n",
       "      <td>конuт</td>\n",
       "      <td>NOUN</td>\n",
       "      <td>Case=Nom</td>\n",
       "      <td>0</td>\n",
       "    </tr>\n",
       "    <tr>\n",
       "      <th>4</th>\n",
       "      <td>tur</td>\n",
       "      <td>корuмасы</td>\n",
       "      <td>корu</td>\n",
       "      <td>VERB</td>\n",
       "      <td>Case=Nom|Number[psor]=Sing,Plur|Person[psor]=3...</td>\n",
       "      <td>1</td>\n",
       "    </tr>\n",
       "  </tbody>\n",
       "</table>\n",
       "</div>"
      ],
      "text/plain": [
       "  lang      word  ...                                              morph pos_num\n",
       "0  tat     казак  ...                                           Case=Nom       0\n",
       "1  tur   мuамеле  ...                                           Case=Nom       0\n",
       "2  tat    заманы  ...     Case=Nom|Number[psor]=Sing,Plur|Person[psor]=3       0\n",
       "3  tur     конuт  ...                                           Case=Nom       0\n",
       "4  tur  корuмасы  ...  Case=Nom|Number[psor]=Sing,Plur|Person[psor]=3...       1\n",
       "\n",
       "[5 rows x 6 columns]"
      ]
     },
     "execution_count": 13,
     "metadata": {
      "tags": []
     },
     "output_type": "execute_result"
    }
   ],
   "source": [
    "data.head()"
   ]
  },
  {
   "cell_type": "code",
   "execution_count": 14,
   "metadata": {
    "colab": {
     "base_uri": "https://localhost:8080/",
     "height": 204
    },
    "colab_type": "code",
    "id": "4bMlaNmr_fAo",
    "outputId": "803d1eea-70c3-42ca-f906-a98695df2f7e"
   },
   "outputs": [
    {
     "data": {
      "text/html": [
       "<div>\n",
       "<style scoped>\n",
       "    .dataframe tbody tr th:only-of-type {\n",
       "        vertical-align: middle;\n",
       "    }\n",
       "\n",
       "    .dataframe tbody tr th {\n",
       "        vertical-align: top;\n",
       "    }\n",
       "\n",
       "    .dataframe thead th {\n",
       "        text-align: right;\n",
       "    }\n",
       "</style>\n",
       "<table border=\"1\" class=\"dataframe\">\n",
       "  <thead>\n",
       "    <tr style=\"text-align: right;\">\n",
       "      <th></th>\n",
       "      <th>lang</th>\n",
       "      <th>word</th>\n",
       "      <th>lemma</th>\n",
       "      <th>pos</th>\n",
       "      <th>morph</th>\n",
       "      <th>pos_num</th>\n",
       "    </tr>\n",
       "  </thead>\n",
       "  <tbody>\n",
       "    <tr>\n",
       "      <th>0</th>\n",
       "      <td>crh</td>\n",
       "      <td>егленcелер</td>\n",
       "      <td>егленcе</td>\n",
       "      <td>NOUN</td>\n",
       "      <td>Case=Nom|Number=Plur</td>\n",
       "      <td>0</td>\n",
       "    </tr>\n",
       "    <tr>\n",
       "      <th>1</th>\n",
       "      <td>crh</td>\n",
       "      <td>сüргüнликниң</td>\n",
       "      <td>сüргüнлик</td>\n",
       "      <td>NOUN</td>\n",
       "      <td>Case=Gen</td>\n",
       "      <td>0</td>\n",
       "    </tr>\n",
       "    <tr>\n",
       "      <th>2</th>\n",
       "      <td>crh</td>\n",
       "      <td>монархийада</td>\n",
       "      <td>монархийа</td>\n",
       "      <td>NOUN</td>\n",
       "      <td>Case=Loc</td>\n",
       "      <td>0</td>\n",
       "    </tr>\n",
       "    <tr>\n",
       "      <th>3</th>\n",
       "      <td>crh</td>\n",
       "      <td>кöстергенлери</td>\n",
       "      <td>кöстер</td>\n",
       "      <td>VERB</td>\n",
       "      <td>Case=Nom|Number=Plur|Number[psor]=Sing,Plur|Pe...</td>\n",
       "      <td>1</td>\n",
       "    </tr>\n",
       "    <tr>\n",
       "      <th>4</th>\n",
       "      <td>crh</td>\n",
       "      <td>öксüз</td>\n",
       "      <td>öксüз</td>\n",
       "      <td>NOUN</td>\n",
       "      <td>Case=Nom</td>\n",
       "      <td>0</td>\n",
       "    </tr>\n",
       "  </tbody>\n",
       "</table>\n",
       "</div>"
      ],
      "text/plain": [
       "  lang  ... pos_num\n",
       "0  crh  ...       0\n",
       "1  crh  ...       0\n",
       "2  crh  ...       0\n",
       "3  crh  ...       1\n",
       "4  crh  ...       0\n",
       "\n",
       "[5 rows x 6 columns]"
      ]
     },
     "execution_count": 14,
     "metadata": {
      "tags": []
     },
     "output_type": "execute_result"
    }
   ],
   "source": [
    "test.head()"
   ]
  },
  {
   "cell_type": "markdown",
   "metadata": {
    "colab_type": "text",
    "id": "CfDzMkKBrR_L"
   },
   "source": [
    "Data Loader"
   ]
  },
  {
   "cell_type": "code",
   "execution_count": 0,
   "metadata": {
    "colab": {},
    "colab_type": "code",
    "id": "YcIcfh7krTpr"
   },
   "outputs": [],
   "source": [
    "import torch\n",
    "from torch.utils.data import Dataset, DataLoader"
   ]
  },
  {
   "cell_type": "code",
   "execution_count": 16,
   "metadata": {
    "colab": {
     "base_uri": "https://localhost:8080/",
     "height": 34
    },
    "colab_type": "code",
    "id": "Hg9vt8dHlcGK",
    "outputId": "dfedd727-07de-4d05-961e-d69e7119fca0"
   },
   "outputs": [
    {
     "name": "stderr",
     "output_type": "stream",
     "text": [
      "100%|██████████| 79228/79228 [00:00<00:00, 653945.48it/s]\n"
     ]
    }
   ],
   "source": [
    "char2index = {'PAD': 0}\n",
    "MAX_LEN = 0\n",
    "lengths = []\n",
    "\n",
    "for word in tqdm(data.word):\n",
    "  l = len(word)\n",
    "  lengths.append(l)\n",
    "  if l > MAX_LEN:\n",
    "    MAX_LEN = l\n",
    "  \n",
    "  for char in word:\n",
    "    if char not in char2index:\n",
    "      char2index[char] = len(char2index)"
   ]
  },
  {
   "cell_type": "code",
   "execution_count": 17,
   "metadata": {
    "colab": {
     "base_uri": "https://localhost:8080/",
     "height": 295
    },
    "colab_type": "code",
    "id": "Vmjb_QtMrHfT",
    "outputId": "f1105dd9-ce3c-4e66-a5b7-aeca9dad466f"
   },
   "outputs": [
    {
     "data": {
      "image/png": "[encoded data removed]",
      "text/plain": [
       "<Figure size 432x288 with 1 Axes>"
      ]
     },
     "metadata": {
      "tags": []
     },
     "output_type": "display_data"
    }
   ],
   "source": [
    "from matplotlib import pyplot as plt\n",
    "\n",
    "plt.title('Распределение длин слов')\n",
    "plt.xlabel('Длина слова')\n",
    "plt.hist(lengths)\n",
    "plt.show()"
   ]
  },
  {
   "cell_type": "code",
   "execution_count": 0,
   "metadata": {
    "colab": {},
    "colab_type": "code",
    "id": "iakvAEJFrdmf"
   },
   "outputs": [],
   "source": [
    "class LoadData(Dataset):\n",
    "    \n",
    "    def __init__(self, x_data, y_data, char2index=char2index, sequence_length=16,\\\n",
    "                 pad_token='PAD', verbose=True):\n",
    "        \n",
    "        super().__init__()\n",
    "        \n",
    "        self.x_data = []\n",
    "        self.y_data = y_data\n",
    "        self.char2index = char2index\n",
    "\n",
    "        self.sequence_length = sequence_length\n",
    "        self.pad_token = pad_token\n",
    "        self.pad_index = self.char2index[self.pad_token]\n",
    "\n",
    "        self.load(x_data, verbose=verbose)\n",
    "\n",
    "    def preprocess(self, word):\n",
    "      return [c for c in word]\n",
    "\n",
    "    def indexing(self, chars):\n",
    "        return [self.char2index[char] for char in chars if char in self.char2index]\n",
    "\n",
    "    def load(self, data, verbose=True):\n",
    "        data_iterator = tqdm(data, desc='Loading data', disable=not verbose)\n",
    "        \n",
    "        for word in data_iterator:\n",
    "            chars = self.preprocess(word)\n",
    "            indexed_chars = self.indexing(chars)\n",
    "            self.x_data.append(indexed_chars)\n",
    "\n",
    "    def padding(self, sequence):\n",
    "        if len(sequence) > self.sequence_length:\n",
    "          sequence = sequence[:self.sequence_length]\n",
    "        elif len(sequence) < self.sequence_length:\n",
    "          sequence = sequence + [self.pad_index] * (self.sequence_length - len(sequence))\n",
    "        return sequence\n",
    "\n",
    "    def __len__(self):\n",
    "        return len(self.x_data)\n",
    "    \n",
    "    def __getitem__(self, idx):\n",
    "        x = self.x_data[idx]\n",
    "        x = self.padding(x)\n",
    "        x = torch.Tensor(x).long()\n",
    "        y = self.y_data[idx]\n",
    "        \n",
    "        return x, y"
   ]
  },
  {
   "cell_type": "code",
   "execution_count": 20,
   "metadata": {
    "colab": {
     "base_uri": "https://localhost:8080/",
     "height": 34
    },
    "colab_type": "code",
    "id": "qwQ5SqRvvvUb",
    "outputId": "ba1529b3-eeab-4ff7-cdae-31376cc9d38b"
   },
   "outputs": [
    {
     "name": "stderr",
     "output_type": "stream",
     "text": [
      "Loading data: 100%|██████████| 79228/79228 [00:00<00:00, 299761.78it/s]\n"
     ]
    }
   ],
   "source": [
    "train_dataset = LoadData(data.word, data.pos_num)"
   ]
  },
  {
   "cell_type": "code",
   "execution_count": 21,
   "metadata": {
    "colab": {
     "base_uri": "https://localhost:8080/",
     "height": 34
    },
    "colab_type": "code",
    "id": "PGDwm6_F_oWN",
    "outputId": "3c914f85-1b1d-4486-95b5-a20e46c4e8b7"
   },
   "outputs": [
    {
     "name": "stderr",
     "output_type": "stream",
     "text": [
      "Loading data: 100%|██████████| 1245/1245 [00:00<00:00, 153427.60it/s]\n"
     ]
    }
   ],
   "source": [
    "test_dataset = LoadData(test.word, test.pos_num)"
   ]
  },
  {
   "cell_type": "code",
   "execution_count": 0,
   "metadata": {
    "colab": {},
    "colab_type": "code",
    "id": "NqDyI6ysxKxI"
   },
   "outputs": [],
   "source": [
    "train_data_loader = DataLoader(train_dataset, batch_size=64)\n",
    "test_data_loader = DataLoader(test_dataset, batch_size=64)"
   ]
  },
  {
   "cell_type": "markdown",
   "metadata": {
    "colab_type": "text",
    "id": "nQjHAZ3MzBi1"
   },
   "source": [
    "Модель"
   ]
  },
  {
   "cell_type": "code",
   "execution_count": 0,
   "metadata": {
    "colab": {},
    "colab_type": "code",
    "id": "UArPpzKJz7eh"
   },
   "outputs": [],
   "source": [
    "from torch import nn\n",
    "import numpy as np\n",
    "from sklearn.utils.multiclass import unique_labels\n",
    "from sklearn.metrics import f1_score, accuracy_score, precision_score, recall_score, confusion_matrix"
   ]
  },
  {
   "cell_type": "code",
   "execution_count": 27,
   "metadata": {
    "colab": {
     "base_uri": "https://localhost:8080/",
     "height": 34
    },
    "colab_type": "code",
    "id": "wqQiNfDdsTrk",
    "outputId": "2ddc163d-39b9-4447-c596-272a35039272"
   },
   "outputs": [
    {
     "data": {
      "text/plain": [
       "tensor([ 0.4648,  0.6228,  4.7785, 29.8298])"
      ]
     },
     "execution_count": 27,
     "metadata": {
      "tags": []
     },
     "output_type": "execute_result"
    }
   ],
   "source": [
    "from sklearn.utils.class_weight import compute_class_weight\n",
    "\n",
    "weights = compute_class_weight('balanced', np.unique(data.pos_num), data.pos_num)\n",
    "weights = torch.FloatTensor(weights)\n",
    "weights"
   ]
  },
  {
   "cell_type": "code",
   "execution_count": 0,
   "metadata": {
    "colab": {},
    "colab_type": "code",
    "id": "QmsWKJiRzDR8"
   },
   "outputs": [],
   "source": [
    "class POSTagger(nn.Module):\n",
    "\n",
    "  def __init__(self, embedding_dim=64, vocab_size=len(char2index), hidden_dim=64, \n",
    "               ngrams=[2,3,4], seq_len=16, n_classes=4, keep_proba=0.5):\n",
    "\n",
    "    super().__init__()\n",
    "\n",
    "    self.vocab_size = vocab_size\n",
    "    self.embedding_dim = embedding_dim\n",
    "    self.hidden_dim = hidden_dim\n",
    "\n",
    "    self.dropout = nn.Dropout(p=keep_proba)\n",
    "\n",
    "    self.embedding_layer = nn.Embedding(num_embeddings=self.vocab_size, \\\n",
    "                                        embedding_dim=self.embedding_dim)\n",
    "\n",
    "    self.convs = nn.ModuleList([nn.Conv1d(in_channels=self.embedding_dim, \n",
    "                                          out_channels=self.hidden_dim, \n",
    "                                          kernel_size=n) for n in ngrams])\n",
    "    \n",
    "    self.pooling = nn.ModuleList([nn.MaxPool1d(kernel_size=seq_len-n+1) for n in ngrams])\n",
    "    self.linear = nn.Linear(in_features=len(ngrams) * self.hidden_dim, out_features=n_classes)\n",
    "\n",
    "  def forward(self, x):\n",
    "    x = self.embedding_layer(x).transpose(1,2)\n",
    "    conved = [conv(x) for conv in self.convs]\n",
    "    pooled = [pool(conv).squeeze(-1) for pool, conv in zip(self.pooling, conved)]\n",
    "    cat = self.dropout(torch.cat(pooled, 1))\n",
    "\n",
    "    return self.linear(cat)"
   ]
  },
  {
   "cell_type": "code",
   "execution_count": 0,
   "metadata": {
    "colab": {},
    "colab_type": "code",
    "id": "AlbUKkWFEwWe"
   },
   "outputs": [],
   "source": [
    "model = POSTagger()\n",
    "\n",
    "criterion = nn.CrossEntropyLoss(weight=weights)\n",
    "optimizer = torch.optim.Adam(params=model.parameters())"
   ]
  },
  {
   "cell_type": "code",
   "execution_count": 30,
   "metadata": {
    "colab": {
     "base_uri": "https://localhost:8080/",
     "height": 238
    },
    "colab_type": "code",
    "id": "-XH15CwcFAKe",
    "outputId": "127078f7-0a6c-4f74-fe32-a912bab932ce"
   },
   "outputs": [
    {
     "name": "stderr",
     "output_type": "stream",
     "text": [
      "Epoch 1: 100%|██████████| 79228/79228 [00:19<00:00, 4109.64it/s, train_loss=1.1]\n",
      "Epoch 2:   1%|          | 768/79228 [00:00<00:19, 4096.27it/s, train_loss=1.1]"
     ]
    },
    {
     "name": "stdout",
     "output_type": "stream",
     "text": [
      "\n",
      "Losses: train - 1.175, test - 1.125\n",
      "Test: accuracy - 0.627, precision - 0.442, recall - 0.457, f1 macro - 0.407\n"
     ]
    },
    {
     "name": "stderr",
     "output_type": "stream",
     "text": [
      "Epoch 2: 100%|██████████| 79228/79228 [00:18<00:00, 4184.19it/s, train_loss=0.996]\n",
      "Epoch 3:   1%|          | 768/79228 [00:00<00:17, 4449.81it/s, train_loss=0.995]"
     ]
    },
    {
     "name": "stdout",
     "output_type": "stream",
     "text": [
      "\n",
      "Losses: train - 1.020, test - 1.070\n",
      "Test: accuracy - 0.630, precision - 0.456, recall - 0.528, f1 macro - 0.417\n"
     ]
    },
    {
     "name": "stderr",
     "output_type": "stream",
     "text": [
      "Epoch 3: 100%|██████████| 79228/79228 [00:19<00:00, 4153.51it/s, train_loss=0.943]\n"
     ]
    },
    {
     "name": "stdout",
     "output_type": "stream",
     "text": [
      "\n",
      "Losses: train - 0.955, test - 1.099\n",
      "Test: accuracy - 0.663, precision - 0.459, recall - 0.493, f1 macro - 0.422\n",
      "Early stopping\n"
     ]
    }
   ],
   "source": [
    "epochs = 15\n",
    "losses = []\n",
    "best_test_loss = 10.\n",
    "\n",
    "acc, macros, prec, rec = [], [], [], []\n",
    "for n_epoch in range(epochs):\n",
    "    \n",
    "    train_losses = []\n",
    "    test_losses = []\n",
    "    test_preds = []\n",
    "    test_targets = []\n",
    "    test_pred_class = []\n",
    "    \n",
    "    progress_bar = tqdm(total=len(train_data_loader.dataset), desc='Epoch {}'.format(n_epoch + 1))\n",
    "    \n",
    "    for x, y in train_data_loader:     \n",
    "        optimizer.zero_grad()\n",
    "        \n",
    "        pred = model(x)\n",
    "        loss = criterion(pred, y)\n",
    "        \n",
    "        loss.backward()\n",
    "        \n",
    "        optimizer.step()\n",
    "        \n",
    "        train_losses.append(loss.item())\n",
    "        losses.append(loss.item())\n",
    "        \n",
    "        progress_bar.set_postfix(train_loss = np.mean(losses[-500:]))\n",
    "\n",
    "        progress_bar.update(x.shape[0])\n",
    "        \n",
    "    progress_bar.close()\n",
    "    \n",
    "    for x, y in test_data_loader:\n",
    "\n",
    "      with torch.no_grad():\n",
    "            \n",
    "        pred = model(x)\n",
    "\n",
    "        test_preds.append(pred.numpy())\n",
    "        test_targets.append(y.numpy())\n",
    "        test_pred_class.append(np.argmax(pred, axis=1))\n",
    "\n",
    "        loss = criterion(pred, y)\n",
    "\n",
    "        test_losses.append(loss.item())\n",
    "        \n",
    "    mean_test_loss = np.mean(test_losses)\n",
    "\n",
    "    test_targets = np.concatenate(test_targets).squeeze()\n",
    "    test_pred_class = np.concatenate(test_pred_class).squeeze()\n",
    "    \n",
    "    accuracy = accuracy_score(test_targets, test_pred_class)\n",
    "    precision = precision_score(test_targets, test_pred_class, average='macro')\n",
    "    recall = recall_score(test_targets, test_pred_class, average='macro')\n",
    "    f1 = f1_score(test_targets, test_pred_class, average='macro')\n",
    "\n",
    "    acc.append(accuracy)\n",
    "    macros.append(f1)\n",
    "    prec.append(precision)\n",
    "    rec.append(recall)\n",
    "    \n",
    "    print()\n",
    "    print('Losses: train - {:.3f}, test - {:.3f}'.format(np.mean(train_losses), mean_test_loss))\n",
    "\n",
    "    print('Test: accuracy - {:.3f}, precision - {:.3f}, recall - {:.3f}, f1 macro - {:.3f}'.format(accuracy, precision, recall, f1))\n",
    "\n",
    "    if mean_test_loss < best_test_loss:\n",
    "        best_test_loss = mean_test_loss\n",
    "    else:\n",
    "        print('Early stopping')\n",
    "        break"
   ]
  },
  {
   "cell_type": "code",
   "execution_count": 31,
   "metadata": {
    "colab": {
     "base_uri": "https://localhost:8080/",
     "height": 729
    },
    "colab_type": "code",
    "id": "ljp2QixE1c5s",
    "outputId": "c8df88f4-8ee7-4e20-d3b8-7bbf4770e19e"
   },
   "outputs": [
    {
     "data": {
      "image/png": "[encoded data removed]",
      "text/plain": [
       "<Figure size 720x720 with 2 Axes>"
      ]
     },
     "metadata": {
      "tags": []
     },
     "output_type": "display_data"
    }
   ],
   "source": [
    "cm = confusion_matrix(test_targets, test_pred_class)\n",
    "cm = cm.astype('float') / cm.sum(axis=1)[:, np.newaxis]\n",
    "\n",
    "classes = unique_labels(test_targets, test_pred_class)\n",
    "pos_mapper = sorted(pos_mapper.items(), key=lambda x: x[1])\n",
    "\n",
    "fig, ax = plt.subplots(figsize=(10,10))\n",
    "im = ax.imshow(cm, interpolation='nearest', cmap=plt.cm.Blues)\n",
    "ax.figure.colorbar(im, ax=ax)\n",
    "ax.set(xticks=np.arange(cm.shape[1]), yticks=np.arange(cm.shape[0]),\n",
    "       xticklabels=[k[0] for k in pos_mapper], yticklabels=[k[0] for k in pos_mapper],\n",
    "       title='Confusion matrix', ylabel='True label', xlabel='Predicted label')\n",
    "\n",
    "fmt = '.2f'\n",
    "thresh = cm.max() / 2.\n",
    "for i in range(cm.shape[0]):\n",
    "  for j in range(cm.shape[1]):\n",
    "    ax.text(j, i, format(cm[i, j], fmt), ha=\"center\", va=\"center\",\n",
    "                    color=\"white\" if cm[i, j] > thresh else \"black\")\n",
    "fig.tight_layout()\n",
    "\n",
    "\n",
    "plt.show()"
   ]
  }
 ],
 "metadata": {
  "accelerator": "GPU",
  "colab": {
   "collapsed_sections": [],
   "name": "POStagger_base.ipynb",
   "provenance": []
  },
  "kernelspec": {
   "display_name": "Python 3",
   "language": "python",
   "name": "python3"
  },
  "language_info": {
   "codemirror_mode": {
    "name": "ipython",
    "version": 3
   },
   "file_extension": ".py",
   "mimetype": "text/x-python",
   "name": "python",
   "nbconvert_exporter": "python",
   "pygments_lexer": "ipython3",
   "version": "3.7.4"
  }
 },
 "nbformat": 4,
 "nbformat_minor": 1
}
