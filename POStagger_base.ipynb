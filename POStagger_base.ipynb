{
  "nbformat": 4,
  "nbformat_minor": 0,
  "metadata": {
    "colab": {
      "name": "DL_project_POS.ipynb",
      "provenance": [],
      "collapsed_sections": []
    },
    "kernelspec": {
      "name": "python3",
      "display_name": "Python 3"
    },
    "accelerator": "GPU"
  },
  "cells": [
    {
      "cell_type": "code",
      "metadata": {
        "id": "BVLciLNFwPM6",
        "colab_type": "code",
        "outputId": "39e92494-37a7-42d1-84dd-22671e8fff4c",
        "colab": {
          "base_uri": "https://localhost:8080/",
          "height": 391
        }
      },
      "source": [
        "!wget https://raw.githubusercontent.com/HSE-CROSS-LING-DL/cma/master/data/trk-uncovered-train-transliterated.csv -O train.csv\n",
        "!wget https://raw.githubusercontent.com/HSE-CROSS-LING-DL/cma/master/data/trk-uncovered-dev-transliterated.csv -O test.csv"
      ],
      "execution_count": 1,
      "outputs": [
        {
          "output_type": "stream",
          "text": [
            "--2019-12-12 14:49:58--  https://raw.githubusercontent.com/HSE-CROSS-LING-DL/cma/master/data/trk-uncovered-train-transliterated.csv\n",
            "Resolving raw.githubusercontent.com (raw.githubusercontent.com)... 151.101.0.133, 151.101.64.133, 151.101.128.133, ...\n",
            "Connecting to raw.githubusercontent.com (raw.githubusercontent.com)|151.101.0.133|:443... connected.\n",
            "HTTP request sent, awaiting response... 200 OK\n",
            "Length: 5650505 (5.4M) [text/plain]\n",
            "Saving to: ‘train.csv’\n",
            "\n",
            "train.csv           100%[===================>]   5.39M  --.-KB/s    in 0.1s    \n",
            "\n",
            "2019-12-12 14:49:58 (46.0 MB/s) - ‘train.csv’ saved [5650505/5650505]\n",
            "\n",
            "--2019-12-12 14:50:00--  https://raw.githubusercontent.com/HSE-CROSS-LING-DL/cma/master/data/trk-uncovered-dev-transliterated.csv\n",
            "Resolving raw.githubusercontent.com (raw.githubusercontent.com)... 151.101.0.133, 151.101.64.133, 151.101.128.133, ...\n",
            "Connecting to raw.githubusercontent.com (raw.githubusercontent.com)|151.101.0.133|:443... connected.\n",
            "HTTP request sent, awaiting response... 200 OK\n",
            "Length: 92536 (90K) [text/plain]\n",
            "Saving to: ‘test.csv’\n",
            "\n",
            "test.csv            100%[===================>]  90.37K  --.-KB/s    in 0.02s   \n",
            "\n",
            "2019-12-12 14:50:00 (3.57 MB/s) - ‘test.csv’ saved [92536/92536]\n",
            "\n"
          ],
          "name": "stdout"
        }
      ]
    },
    {
      "cell_type": "code",
      "metadata": {
        "id": "yDIE0r6pdm3f",
        "colab_type": "code",
        "outputId": "f9b4800d-10f8-411f-c66a-29229d3fdd4b",
        "colab": {
          "base_uri": "https://localhost:8080/",
          "height": 34
        }
      },
      "source": [
        "from google.colab import drive\n",
        "drive.mount('/content/drive')"
      ],
      "execution_count": 2,
      "outputs": [
        {
          "output_type": "stream",
          "text": [
            "Drive already mounted at /content/drive; to attempt to forcibly remount, call drive.mount(\"/content/drive\", force_remount=True).\n"
          ],
          "name": "stdout"
        }
      ]
    },
    {
      "cell_type": "code",
      "metadata": {
        "id": "6cbfFqc8wqIN",
        "colab_type": "code",
        "colab": {}
      },
      "source": [
        "import pandas as pd\n",
        "from tqdm import tqdm"
      ],
      "execution_count": 0,
      "outputs": []
    },
    {
      "cell_type": "code",
      "metadata": {
        "id": "sk9ByVKVxDA6",
        "colab_type": "code",
        "colab": {}
      },
      "source": [
        "data = pd.read_csv('train.csv')\n",
        "test = pd.read_csv('test.csv')"
      ],
      "execution_count": 0,
      "outputs": []
    },
    {
      "cell_type": "code",
      "metadata": {
        "id": "DxabTNWpdvQ2",
        "colab_type": "code",
        "colab": {
          "base_uri": "https://localhost:8080/",
          "height": 34
        },
        "outputId": "689b248e-60d2-4723-aa8f-61641385ac2e"
      },
      "source": [
        "data.shape"
      ],
      "execution_count": 5,
      "outputs": [
        {
          "output_type": "execute_result",
          "data": {
            "text/plain": [
              "(79228, 5)"
            ]
          },
          "metadata": {
            "tags": []
          },
          "execution_count": 5
        }
      ]
    },
    {
      "cell_type": "code",
      "metadata": {
        "id": "Ld2jRMn521iy",
        "colab_type": "code",
        "outputId": "ec11e835-a432-42e3-9da7-081d72e11d71",
        "colab": {
          "base_uri": "https://localhost:8080/",
          "height": 34
        }
      },
      "source": [
        "data = data.dropna()\n",
        "data = data.reset_index(drop=True)\n",
        "data.shape"
      ],
      "execution_count": 6,
      "outputs": [
        {
          "output_type": "execute_result",
          "data": {
            "text/plain": [
              "(79228, 5)"
            ]
          },
          "metadata": {
            "tags": []
          },
          "execution_count": 6
        }
      ]
    },
    {
      "cell_type": "code",
      "metadata": {
        "id": "RG24GN92xGOT",
        "colab_type": "code",
        "outputId": "aec2f952-ddf2-4edb-dd0f-2112daecef60",
        "colab": {
          "base_uri": "https://localhost:8080/",
          "height": 34
        }
      },
      "source": [
        "test = test.dropna()\n",
        "test = test.reset_index(drop=True)\n",
        "test.shape"
      ],
      "execution_count": 7,
      "outputs": [
        {
          "output_type": "execute_result",
          "data": {
            "text/plain": [
              "(1245, 5)"
            ]
          },
          "metadata": {
            "tags": []
          },
          "execution_count": 7
        }
      ]
    },
    {
      "cell_type": "code",
      "metadata": {
        "id": "B7gPKat9xNHR",
        "colab_type": "code",
        "outputId": "9cad4b06-d553-4c98-eb08-f6877f3fb24f",
        "colab": {
          "base_uri": "https://localhost:8080/",
          "height": 102
        }
      },
      "source": [
        "data['pos'].value_counts() * 100 / data.shape[0]"
      ],
      "execution_count": 8,
      "outputs": [
        {
          "output_type": "execute_result",
          "data": {
            "text/plain": [
              "NOUN    53.789064\n",
              "VERB    40.141112\n",
              "ADJ      5.231736\n",
              "ADV      0.838088\n",
              "Name: pos, dtype: float64"
            ]
          },
          "metadata": {
            "tags": []
          },
          "execution_count": 8
        }
      ]
    },
    {
      "cell_type": "code",
      "metadata": {
        "id": "19Qug3FxySTU",
        "colab_type": "code",
        "outputId": "0dae67bc-cf0b-4b94-8830-ef92d4c504fc",
        "colab": {
          "base_uri": "https://localhost:8080/",
          "height": 204
        }
      },
      "source": [
        "data.head()"
      ],
      "execution_count": 9,
      "outputs": [
        {
          "output_type": "execute_result",
          "data": {
            "text/html": [
              "<div>\n",
              "<style scoped>\n",
              "    .dataframe tbody tr th:only-of-type {\n",
              "        vertical-align: middle;\n",
              "    }\n",
              "\n",
              "    .dataframe tbody tr th {\n",
              "        vertical-align: top;\n",
              "    }\n",
              "\n",
              "    .dataframe thead th {\n",
              "        text-align: right;\n",
              "    }\n",
              "</style>\n",
              "<table border=\"1\" class=\"dataframe\">\n",
              "  <thead>\n",
              "    <tr style=\"text-align: right;\">\n",
              "      <th></th>\n",
              "      <th>lang</th>\n",
              "      <th>word</th>\n",
              "      <th>lemma</th>\n",
              "      <th>pos</th>\n",
              "      <th>morph</th>\n",
              "    </tr>\n",
              "  </thead>\n",
              "  <tbody>\n",
              "    <tr>\n",
              "      <th>0</th>\n",
              "      <td>tat</td>\n",
              "      <td>казак</td>\n",
              "      <td>казак</td>\n",
              "      <td>NOUN</td>\n",
              "      <td>Case=Nom</td>\n",
              "    </tr>\n",
              "    <tr>\n",
              "      <th>1</th>\n",
              "      <td>tur</td>\n",
              "      <td>мuамеле</td>\n",
              "      <td>мuамеле</td>\n",
              "      <td>NOUN</td>\n",
              "      <td>Case=Nom</td>\n",
              "    </tr>\n",
              "    <tr>\n",
              "      <th>2</th>\n",
              "      <td>tat</td>\n",
              "      <td>заманы</td>\n",
              "      <td>заман</td>\n",
              "      <td>NOUN</td>\n",
              "      <td>Case=Nom|Number[psor]=Sing,Plur|Person[psor]=3</td>\n",
              "    </tr>\n",
              "    <tr>\n",
              "      <th>3</th>\n",
              "      <td>tur</td>\n",
              "      <td>конuт</td>\n",
              "      <td>конuт</td>\n",
              "      <td>NOUN</td>\n",
              "      <td>Case=Nom</td>\n",
              "    </tr>\n",
              "    <tr>\n",
              "      <th>4</th>\n",
              "      <td>tur</td>\n",
              "      <td>корuмасы</td>\n",
              "      <td>корu</td>\n",
              "      <td>VERB</td>\n",
              "      <td>Case=Nom|Number[psor]=Sing,Plur|Person[psor]=3...</td>\n",
              "    </tr>\n",
              "  </tbody>\n",
              "</table>\n",
              "</div>"
            ],
            "text/plain": [
              "  lang      word  ...   pos                                              morph\n",
              "0  tat     казак  ...  NOUN                                           Case=Nom\n",
              "1  tur   мuамеле  ...  NOUN                                           Case=Nom\n",
              "2  tat    заманы  ...  NOUN     Case=Nom|Number[psor]=Sing,Plur|Person[psor]=3\n",
              "3  tur     конuт  ...  NOUN                                           Case=Nom\n",
              "4  tur  корuмасы  ...  VERB  Case=Nom|Number[psor]=Sing,Plur|Person[psor]=3...\n",
              "\n",
              "[5 rows x 5 columns]"
            ]
          },
          "metadata": {
            "tags": []
          },
          "execution_count": 9
        }
      ]
    },
    {
      "cell_type": "code",
      "metadata": {
        "id": "vZxcAW8drtZq",
        "colab_type": "code",
        "colab": {}
      },
      "source": [
        "import gensim\n",
        "\n",
        "ft_model = gensim.models.FastText.load_fasttext_format('drive/My Drive/fasttext_multilingual/multilingual.bin')"
      ],
      "execution_count": 0,
      "outputs": []
    },
    {
      "cell_type": "markdown",
      "metadata": {
        "id": "qbAI1pLE2d3v",
        "colab_type": "text"
      },
      "source": [
        "POS-теги:"
      ]
    },
    {
      "cell_type": "code",
      "metadata": {
        "id": "_MwGXMx8xIOP",
        "colab_type": "code",
        "colab": {}
      },
      "source": [
        "pos_mapper = {pos: n for n, pos in enumerate(data.pos.unique())}\n",
        "data['pos_num'] = data.pos.map(pos_mapper)\n",
        "test['pos_num'] = test.pos.map(pos_mapper)"
      ],
      "execution_count": 0,
      "outputs": []
    },
    {
      "cell_type": "code",
      "metadata": {
        "id": "zVQkyec02-L6",
        "colab_type": "code",
        "outputId": "294aa883-1ab4-4e92-f67f-af936119d13c",
        "colab": {
          "base_uri": "https://localhost:8080/",
          "height": 204
        }
      },
      "source": [
        "data.head()"
      ],
      "execution_count": 12,
      "outputs": [
        {
          "output_type": "execute_result",
          "data": {
            "text/html": [
              "<div>\n",
              "<style scoped>\n",
              "    .dataframe tbody tr th:only-of-type {\n",
              "        vertical-align: middle;\n",
              "    }\n",
              "\n",
              "    .dataframe tbody tr th {\n",
              "        vertical-align: top;\n",
              "    }\n",
              "\n",
              "    .dataframe thead th {\n",
              "        text-align: right;\n",
              "    }\n",
              "</style>\n",
              "<table border=\"1\" class=\"dataframe\">\n",
              "  <thead>\n",
              "    <tr style=\"text-align: right;\">\n",
              "      <th></th>\n",
              "      <th>lang</th>\n",
              "      <th>word</th>\n",
              "      <th>lemma</th>\n",
              "      <th>pos</th>\n",
              "      <th>morph</th>\n",
              "      <th>pos_num</th>\n",
              "    </tr>\n",
              "  </thead>\n",
              "  <tbody>\n",
              "    <tr>\n",
              "      <th>0</th>\n",
              "      <td>tat</td>\n",
              "      <td>казак</td>\n",
              "      <td>казак</td>\n",
              "      <td>NOUN</td>\n",
              "      <td>Case=Nom</td>\n",
              "      <td>0</td>\n",
              "    </tr>\n",
              "    <tr>\n",
              "      <th>1</th>\n",
              "      <td>tur</td>\n",
              "      <td>мuамеле</td>\n",
              "      <td>мuамеле</td>\n",
              "      <td>NOUN</td>\n",
              "      <td>Case=Nom</td>\n",
              "      <td>0</td>\n",
              "    </tr>\n",
              "    <tr>\n",
              "      <th>2</th>\n",
              "      <td>tat</td>\n",
              "      <td>заманы</td>\n",
              "      <td>заман</td>\n",
              "      <td>NOUN</td>\n",
              "      <td>Case=Nom|Number[psor]=Sing,Plur|Person[psor]=3</td>\n",
              "      <td>0</td>\n",
              "    </tr>\n",
              "    <tr>\n",
              "      <th>3</th>\n",
              "      <td>tur</td>\n",
              "      <td>конuт</td>\n",
              "      <td>конuт</td>\n",
              "      <td>NOUN</td>\n",
              "      <td>Case=Nom</td>\n",
              "      <td>0</td>\n",
              "    </tr>\n",
              "    <tr>\n",
              "      <th>4</th>\n",
              "      <td>tur</td>\n",
              "      <td>корuмасы</td>\n",
              "      <td>корu</td>\n",
              "      <td>VERB</td>\n",
              "      <td>Case=Nom|Number[psor]=Sing,Plur|Person[psor]=3...</td>\n",
              "      <td>1</td>\n",
              "    </tr>\n",
              "  </tbody>\n",
              "</table>\n",
              "</div>"
            ],
            "text/plain": [
              "  lang      word  ...                                              morph pos_num\n",
              "0  tat     казак  ...                                           Case=Nom       0\n",
              "1  tur   мuамеле  ...                                           Case=Nom       0\n",
              "2  tat    заманы  ...     Case=Nom|Number[psor]=Sing,Plur|Person[psor]=3       0\n",
              "3  tur     конuт  ...                                           Case=Nom       0\n",
              "4  tur  корuмасы  ...  Case=Nom|Number[psor]=Sing,Plur|Person[psor]=3...       1\n",
              "\n",
              "[5 rows x 6 columns]"
            ]
          },
          "metadata": {
            "tags": []
          },
          "execution_count": 12
        }
      ]
    },
    {
      "cell_type": "code",
      "metadata": {
        "id": "4bMlaNmr_fAo",
        "colab_type": "code",
        "colab": {
          "base_uri": "https://localhost:8080/",
          "height": 204
        },
        "outputId": "a993b400-d781-47dc-e18e-32408882be12"
      },
      "source": [
        "test.head()"
      ],
      "execution_count": 13,
      "outputs": [
        {
          "output_type": "execute_result",
          "data": {
            "text/html": [
              "<div>\n",
              "<style scoped>\n",
              "    .dataframe tbody tr th:only-of-type {\n",
              "        vertical-align: middle;\n",
              "    }\n",
              "\n",
              "    .dataframe tbody tr th {\n",
              "        vertical-align: top;\n",
              "    }\n",
              "\n",
              "    .dataframe thead th {\n",
              "        text-align: right;\n",
              "    }\n",
              "</style>\n",
              "<table border=\"1\" class=\"dataframe\">\n",
              "  <thead>\n",
              "    <tr style=\"text-align: right;\">\n",
              "      <th></th>\n",
              "      <th>lang</th>\n",
              "      <th>word</th>\n",
              "      <th>lemma</th>\n",
              "      <th>pos</th>\n",
              "      <th>morph</th>\n",
              "      <th>pos_num</th>\n",
              "    </tr>\n",
              "  </thead>\n",
              "  <tbody>\n",
              "    <tr>\n",
              "      <th>0</th>\n",
              "      <td>crh</td>\n",
              "      <td>егленcелер</td>\n",
              "      <td>егленcе</td>\n",
              "      <td>NOUN</td>\n",
              "      <td>Case=Nom|Number=Plur</td>\n",
              "      <td>0</td>\n",
              "    </tr>\n",
              "    <tr>\n",
              "      <th>1</th>\n",
              "      <td>crh</td>\n",
              "      <td>сüргüнликниң</td>\n",
              "      <td>сüргüнлик</td>\n",
              "      <td>NOUN</td>\n",
              "      <td>Case=Gen</td>\n",
              "      <td>0</td>\n",
              "    </tr>\n",
              "    <tr>\n",
              "      <th>2</th>\n",
              "      <td>crh</td>\n",
              "      <td>монархийада</td>\n",
              "      <td>монархийа</td>\n",
              "      <td>NOUN</td>\n",
              "      <td>Case=Loc</td>\n",
              "      <td>0</td>\n",
              "    </tr>\n",
              "    <tr>\n",
              "      <th>3</th>\n",
              "      <td>crh</td>\n",
              "      <td>кöстергенлери</td>\n",
              "      <td>кöстер</td>\n",
              "      <td>VERB</td>\n",
              "      <td>Case=Nom|Number=Plur|Number[psor]=Sing,Plur|Pe...</td>\n",
              "      <td>1</td>\n",
              "    </tr>\n",
              "    <tr>\n",
              "      <th>4</th>\n",
              "      <td>crh</td>\n",
              "      <td>öксüз</td>\n",
              "      <td>öксüз</td>\n",
              "      <td>NOUN</td>\n",
              "      <td>Case=Nom</td>\n",
              "      <td>0</td>\n",
              "    </tr>\n",
              "  </tbody>\n",
              "</table>\n",
              "</div>"
            ],
            "text/plain": [
              "  lang  ... pos_num\n",
              "0  crh  ...       0\n",
              "1  crh  ...       0\n",
              "2  crh  ...       0\n",
              "3  crh  ...       1\n",
              "4  crh  ...       0\n",
              "\n",
              "[5 rows x 6 columns]"
            ]
          },
          "metadata": {
            "tags": []
          },
          "execution_count": 13
        }
      ]
    },
    {
      "cell_type": "markdown",
      "metadata": {
        "id": "CfDzMkKBrR_L",
        "colab_type": "text"
      },
      "source": [
        "Data Loader"
      ]
    },
    {
      "cell_type": "code",
      "metadata": {
        "id": "YcIcfh7krTpr",
        "colab_type": "code",
        "colab": {}
      },
      "source": [
        "import torch\n",
        "from torch.utils.data import Dataset, DataLoader"
      ],
      "execution_count": 0,
      "outputs": []
    },
    {
      "cell_type": "code",
      "metadata": {
        "id": "iakvAEJFrdmf",
        "colab_type": "code",
        "colab": {}
      },
      "source": [
        "class VectorizedData(Dataset):\n",
        "    \n",
        "    def __init__(self, x_data, y_data, fasttext_model=ft_model, verbose=True):\n",
        "        \n",
        "        super().__init__()\n",
        "        \n",
        "        self.x_data = []\n",
        "        self.y_data = y_data\n",
        "        self.fasttext_model = fasttext_model\n",
        "\n",
        "        self.load(x_data, verbose=verbose)\n",
        "\n",
        "    def vectorize(self, word, fasttext_model=ft_model):\n",
        "      try:\n",
        "        return self.fasttext_model[word]\n",
        "      except KeyError:\n",
        "        pass\n",
        "\n",
        "    def load(self, data, fasttext_model=ft_model, verbose=True):\n",
        "        \n",
        "        data_iterator = tqdm(data, desc='Loading data', disable=not verbose)\n",
        "        \n",
        "        for word in data_iterator:\n",
        "            ft_vector = self.vectorize(word, fasttext_model)\n",
        "            self.x_data.append(ft_vector)\n",
        "\n",
        "    def __len__(self):\n",
        "        return len(self.x_data)\n",
        "    \n",
        "    def __getitem__(self, idx):\n",
        "        x = self.x_data[idx]\n",
        "        y = self.y_data[idx]\n",
        "        \n",
        "        return x, y"
      ],
      "execution_count": 0,
      "outputs": []
    },
    {
      "cell_type": "code",
      "metadata": {
        "id": "qwQ5SqRvvvUb",
        "colab_type": "code",
        "colab": {
          "base_uri": "https://localhost:8080/",
          "height": 88
        },
        "outputId": "b40eaae1-4099-44aa-ee14-957ebea4da33"
      },
      "source": [
        "train_dataset = VectorizedData(data.word, data.pos_num)"
      ],
      "execution_count": 16,
      "outputs": [
        {
          "output_type": "stream",
          "text": [
            "Loading data:   0%|          | 0/79228 [00:00<?, ?it/s]/usr/local/lib/python3.6/dist-packages/ipykernel_launcher.py:15: DeprecationWarning: Call to deprecated `__getitem__` (Method will be removed in 4.0.0, use self.wv.__getitem__() instead).\n",
            "  from ipykernel import kernelapp as app\n",
            "Loading data: 100%|██████████| 79228/79228 [00:00<00:00, 82525.56it/s]\n"
          ],
          "name": "stderr"
        }
      ]
    },
    {
      "cell_type": "code",
      "metadata": {
        "id": "PGDwm6_F_oWN",
        "colab_type": "code",
        "colab": {
          "base_uri": "https://localhost:8080/",
          "height": 88
        },
        "outputId": "4ef357ac-5488-4841-b3ca-fc8a87fb54c7"
      },
      "source": [
        "test_dataset = VectorizedData(test.word, test.pos_num)"
      ],
      "execution_count": 17,
      "outputs": [
        {
          "output_type": "stream",
          "text": [
            "\rLoading data:   0%|          | 0/1245 [00:00<?, ?it/s]/usr/local/lib/python3.6/dist-packages/ipykernel_launcher.py:15: DeprecationWarning: Call to deprecated `__getitem__` (Method will be removed in 4.0.0, use self.wv.__getitem__() instead).\n",
            "  from ipykernel import kernelapp as app\n",
            "Loading data: 100%|██████████| 1245/1245 [00:00<00:00, 14307.77it/s]\n"
          ],
          "name": "stderr"
        }
      ]
    },
    {
      "cell_type": "code",
      "metadata": {
        "id": "NqDyI6ysxKxI",
        "colab_type": "code",
        "colab": {}
      },
      "source": [
        "train_data_loader = DataLoader(train_dataset, batch_size=64)\n",
        "test_data_loader = DataLoader(test_dataset, batch_size=64)"
      ],
      "execution_count": 0,
      "outputs": []
    },
    {
      "cell_type": "markdown",
      "metadata": {
        "id": "nQjHAZ3MzBi1",
        "colab_type": "text"
      },
      "source": [
        "Модель"
      ]
    },
    {
      "cell_type": "code",
      "metadata": {
        "id": "UArPpzKJz7eh",
        "colab_type": "code",
        "colab": {}
      },
      "source": [
        "from torch import nn\n",
        "import numpy as np\n",
        "from sklearn.metrics import f1_score, accuracy_score, precision_score, recall_score"
      ],
      "execution_count": 0,
      "outputs": []
    },
    {
      "cell_type": "code",
      "metadata": {
        "id": "QmsWKJiRzDR8",
        "colab_type": "code",
        "colab": {}
      },
      "source": [
        "class POSTagger(nn.Module):\n",
        "\n",
        "  def __init__(self, embedding_dim=100, n_classes=4):\n",
        "\n",
        "    super().__init__()\n",
        "    self.linear = nn.Linear(in_features=embedding_dim, out_features=n_classes)\n",
        "\n",
        "  def forward(self, x):\n",
        "    return self.linear(x)"
      ],
      "execution_count": 0,
      "outputs": []
    },
    {
      "cell_type": "code",
      "metadata": {
        "id": "AlbUKkWFEwWe",
        "colab_type": "code",
        "colab": {}
      },
      "source": [
        "model = POSTagger()\n",
        "\n",
        "criterion = nn.CrossEntropyLoss()\n",
        "optimizer = torch.optim.Adam(params=model.parameters())"
      ],
      "execution_count": 0,
      "outputs": []
    },
    {
      "cell_type": "code",
      "metadata": {
        "id": "-XH15CwcFAKe",
        "colab_type": "code",
        "colab": {
          "base_uri": "https://localhost:8080/",
          "height": 1000
        },
        "outputId": "699d2a43-a35f-449e-f313-5c8f1028e0c3"
      },
      "source": [
        "epochs = 15\n",
        "losses = []\n",
        "\n",
        "acc, macros, prec, rec = [], [], [], []\n",
        "for n_epoch in range(epochs):\n",
        "    \n",
        "    train_losses = []\n",
        "    test_losses = []\n",
        "    test_preds = []\n",
        "    test_targets = []\n",
        "    test_pred_class = []\n",
        "    \n",
        "    progress_bar = tqdm(total=len(train_data_loader.dataset), desc='Epoch {}'.format(n_epoch + 1))\n",
        "    \n",
        "    for x, y in train_data_loader:     \n",
        "        optimizer.zero_grad()\n",
        "        \n",
        "        pred = model(x)\n",
        "        loss = criterion(pred, y)\n",
        "        \n",
        "        loss.backward()\n",
        "        \n",
        "        optimizer.step()\n",
        "        \n",
        "        train_losses.append(loss.item())\n",
        "        losses.append(loss.item())\n",
        "        \n",
        "        progress_bar.set_postfix(train_loss = np.mean(losses[-500:]))\n",
        "\n",
        "        progress_bar.update(x.shape[0])\n",
        "        \n",
        "    progress_bar.close()\n",
        "    \n",
        "    for x, y in test_data_loader:\n",
        "\n",
        "      with torch.no_grad():\n",
        "            \n",
        "        pred = model(x)\n",
        "\n",
        "        test_preds.append(pred.numpy())\n",
        "        test_targets.append(y.numpy())\n",
        "        test_pred_class.append(np.argmax(pred, axis=1))\n",
        "\n",
        "        loss = criterion(pred, y)\n",
        "\n",
        "        test_losses.append(loss.item())\n",
        "        \n",
        "    mean_test_loss = np.mean(test_losses)\n",
        "\n",
        "    test_targets = np.concatenate(test_targets).squeeze()\n",
        "    test_pred_class = np.concatenate(test_pred_class).squeeze()\n",
        "    \n",
        "    accuracy = accuracy_score(test_targets, test_pred_class)\n",
        "    precision = precision_score(test_targets, test_pred_class, average='macro')\n",
        "    recall = recall_score(test_targets, test_pred_class, average='macro')\n",
        "    f1 = f1_score(test_targets, test_pred_class, average='macro')\n",
        "\n",
        "    acc.append(accuracy)\n",
        "    macros.append(f1)\n",
        "    prec.append(precision)\n",
        "    rec.append(recall)\n",
        "    \n",
        "    print()\n",
        "    print('Losses: train - {:.3f}, test - {:.3f}'.format(np.mean(train_losses), mean_test_loss))\n",
        "\n",
        "    print('Test: accuracy - {:.3f}, precision - {:.3f}, recall - {:.3f}, f1 macro - {:.3f}'.format(accuracy, precision, recall, f1))"
      ],
      "execution_count": 22,
      "outputs": [
        {
          "output_type": "stream",
          "text": [
            "Epoch 1: 100%|██████████| 79228/79228 [00:07<00:00, 10973.48it/s, train_loss=0.975]\n",
            "/usr/local/lib/python3.6/dist-packages/sklearn/metrics/classification.py:1437: UndefinedMetricWarning: Precision is ill-defined and being set to 0.0 in labels with no predicted samples.\n",
            "  'precision', 'predicted', average, warn_for)\n",
            "/usr/local/lib/python3.6/dist-packages/sklearn/metrics/classification.py:1437: UndefinedMetricWarning: F-score is ill-defined and being set to 0.0 in labels with no predicted samples.\n",
            "  'precision', 'predicted', average, warn_for)\n",
            "Epoch 2:   3%|▎         | 2048/79228 [00:00<00:07, 10540.33it/s, train_loss=0.97]"
          ],
          "name": "stderr"
        },
        {
          "output_type": "stream",
          "text": [
            "\n",
            "Losses: train - 1.076, test - 0.921\n",
            "Test: accuracy - 0.607, precision - 0.258, recall - 0.256, f1 macro - 0.216\n"
          ],
          "name": "stdout"
        },
        {
          "output_type": "stream",
          "text": [
            "Epoch 2: 100%|██████████| 79228/79228 [00:07<00:00, 11208.62it/s, train_loss=0.901]\n",
            "Epoch 3:   3%|▎         | 2240/79228 [00:00<00:06, 11576.67it/s, train_loss=0.9]  "
          ],
          "name": "stderr"
        },
        {
          "output_type": "stream",
          "text": [
            "\n",
            "Losses: train - 0.913, test - 0.865\n",
            "Test: accuracy - 0.607, precision - 0.259, recall - 0.257, f1 macro - 0.221\n"
          ],
          "name": "stdout"
        },
        {
          "output_type": "stream",
          "text": [
            "Epoch 3: 100%|██████████| 79228/79228 [00:06<00:00, 11392.15it/s, train_loss=0.885]\n",
            "Epoch 4:   3%|▎         | 2112/79228 [00:00<00:06, 11663.34it/s, train_loss=0.885]"
          ],
          "name": "stderr"
        },
        {
          "output_type": "stream",
          "text": [
            "\n",
            "Losses: train - 0.887, test - 0.852\n",
            "Test: accuracy - 0.598, precision - 0.238, recall - 0.251, f1 macro - 0.211\n"
          ],
          "name": "stdout"
        },
        {
          "output_type": "stream",
          "text": [
            "Epoch 4: 100%|██████████| 79228/79228 [00:06<00:00, 11480.71it/s, train_loss=0.879]\n",
            "Epoch 5:   3%|▎         | 2304/79228 [00:00<00:06, 12194.35it/s, train_loss=0.878]"
          ],
          "name": "stderr"
        },
        {
          "output_type": "stream",
          "text": [
            "\n",
            "Losses: train - 0.879, test - 0.847\n",
            "Test: accuracy - 0.596, precision - 0.237, recall - 0.251, f1 macro - 0.212\n"
          ],
          "name": "stdout"
        },
        {
          "output_type": "stream",
          "text": [
            "Epoch 5: 100%|██████████| 79228/79228 [00:07<00:00, 11026.87it/s, train_loss=0.876]\n",
            "Epoch 6:   3%|▎         | 2176/79228 [00:00<00:06, 11292.45it/s, train_loss=0.876]"
          ],
          "name": "stderr"
        },
        {
          "output_type": "stream",
          "text": [
            "\n",
            "Losses: train - 0.875, test - 0.845\n",
            "Test: accuracy - 0.594, precision - 0.233, recall - 0.250, f1 macro - 0.211\n"
          ],
          "name": "stdout"
        },
        {
          "output_type": "stream",
          "text": [
            "Epoch 6: 100%|██████████| 79228/79228 [00:06<00:00, 11521.50it/s, train_loss=0.875]\n",
            "Epoch 7:   3%|▎         | 2112/79228 [00:00<00:06, 11109.03it/s, train_loss=0.875]"
          ],
          "name": "stderr"
        },
        {
          "output_type": "stream",
          "text": [
            "\n",
            "Losses: train - 0.873, test - 0.844\n",
            "Test: accuracy - 0.597, precision - 0.239, recall - 0.252, f1 macro - 0.214\n"
          ],
          "name": "stdout"
        },
        {
          "output_type": "stream",
          "text": [
            "Epoch 7: 100%|██████████| 79228/79228 [00:06<00:00, 11623.77it/s, train_loss=0.874]\n",
            "Epoch 8:   3%|▎         | 2368/79228 [00:00<00:06, 12303.54it/s, train_loss=0.873]"
          ],
          "name": "stderr"
        },
        {
          "output_type": "stream",
          "text": [
            "\n",
            "Losses: train - 0.872, test - 0.844\n",
            "Test: accuracy - 0.600, precision - 0.249, recall - 0.255, f1 macro - 0.220\n"
          ],
          "name": "stdout"
        },
        {
          "output_type": "stream",
          "text": [
            "Epoch 8: 100%|██████████| 79228/79228 [00:06<00:00, 11907.91it/s, train_loss=0.873]\n",
            "Epoch 9:   3%|▎         | 2368/79228 [00:00<00:05, 13314.06it/s, train_loss=0.872]"
          ],
          "name": "stderr"
        },
        {
          "output_type": "stream",
          "text": [
            "\n",
            "Losses: train - 0.871, test - 0.843\n",
            "Test: accuracy - 0.606, precision - 0.508, recall - 0.263, f1 macro - 0.235\n"
          ],
          "name": "stdout"
        },
        {
          "output_type": "stream",
          "text": [
            "Epoch 9: 100%|██████████| 79228/79228 [00:06<00:00, 11325.10it/s, train_loss=0.872]\n",
            "Epoch 10:   3%|▎         | 2176/79228 [00:00<00:06, 11094.72it/s, train_loss=0.872]"
          ],
          "name": "stderr"
        },
        {
          "output_type": "stream",
          "text": [
            "\n",
            "Losses: train - 0.871, test - 0.843\n",
            "Test: accuracy - 0.609, precision - 0.514, recall - 0.265, f1 macro - 0.239\n"
          ],
          "name": "stdout"
        },
        {
          "output_type": "stream",
          "text": [
            "Epoch 10: 100%|██████████| 79228/79228 [00:07<00:00, 11121.65it/s, train_loss=0.872]\n",
            "Epoch 11:   3%|▎         | 2240/79228 [00:00<00:06, 11266.34it/s, train_loss=0.872]"
          ],
          "name": "stderr"
        },
        {
          "output_type": "stream",
          "text": [
            "\n",
            "Losses: train - 0.870, test - 0.843\n",
            "Test: accuracy - 0.608, precision - 0.513, recall - 0.265, f1 macro - 0.240\n"
          ],
          "name": "stdout"
        },
        {
          "output_type": "stream",
          "text": [
            "Epoch 11: 100%|██████████| 79228/79228 [00:06<00:00, 11418.72it/s, train_loss=0.871]\n",
            "Epoch 12:   3%|▎         | 2368/79228 [00:00<00:06, 12716.79it/s, train_loss=0.871]"
          ],
          "name": "stderr"
        },
        {
          "output_type": "stream",
          "text": [
            "\n",
            "Losses: train - 0.870, test - 0.843\n",
            "Test: accuracy - 0.610, precision - 0.514, recall - 0.266, f1 macro - 0.240\n"
          ],
          "name": "stdout"
        },
        {
          "output_type": "stream",
          "text": [
            "Epoch 12: 100%|██████████| 79228/79228 [00:06<00:00, 11493.99it/s, train_loss=0.871]\n",
            "Epoch 13:   3%|▎         | 2240/79228 [00:00<00:06, 11740.53it/s, train_loss=0.871]"
          ],
          "name": "stderr"
        },
        {
          "output_type": "stream",
          "text": [
            "\n",
            "Losses: train - 0.870, test - 0.843\n",
            "Test: accuracy - 0.606, precision - 0.509, recall - 0.265, f1 macro - 0.239\n"
          ],
          "name": "stdout"
        },
        {
          "output_type": "stream",
          "text": [
            "Epoch 13: 100%|██████████| 79228/79228 [00:07<00:00, 11159.03it/s, train_loss=0.871]\n",
            "Epoch 14:   3%|▎         | 2176/79228 [00:00<00:06, 11715.61it/s, train_loss=0.871]"
          ],
          "name": "stderr"
        },
        {
          "output_type": "stream",
          "text": [
            "\n",
            "Losses: train - 0.869, test - 0.843\n",
            "Test: accuracy - 0.606, precision - 0.508, recall - 0.264, f1 macro - 0.239\n"
          ],
          "name": "stdout"
        },
        {
          "output_type": "stream",
          "text": [
            "Epoch 14: 100%|██████████| 79228/79228 [00:07<00:00, 11208.72it/s, train_loss=0.871]\n",
            "Epoch 15:   3%|▎         | 2368/79228 [00:00<00:06, 12040.36it/s, train_loss=0.87]"
          ],
          "name": "stderr"
        },
        {
          "output_type": "stream",
          "text": [
            "\n",
            "Losses: train - 0.869, test - 0.843\n",
            "Test: accuracy - 0.604, precision - 0.505, recall - 0.264, f1 macro - 0.239\n"
          ],
          "name": "stdout"
        },
        {
          "output_type": "stream",
          "text": [
            "Epoch 15: 100%|██████████| 79228/79228 [00:06<00:00, 11647.40it/s, train_loss=0.87]\n"
          ],
          "name": "stderr"
        },
        {
          "output_type": "stream",
          "text": [
            "\n",
            "Losses: train - 0.869, test - 0.843\n",
            "Test: accuracy - 0.603, precision - 0.504, recall - 0.263, f1 macro - 0.238\n"
          ],
          "name": "stdout"
        }
      ]
    }
  ]
}