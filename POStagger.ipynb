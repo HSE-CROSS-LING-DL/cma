{
  "nbformat": 4,
  "nbformat_minor": 0,
  "metadata": {
    "colab": {
      "name": "POStagger.ipynb",
      "provenance": [],
      "collapsed_sections": []
    },
    "kernelspec": {
      "name": "python3",
      "display_name": "Python 3"
    },
    "accelerator": "GPU"
  },
  "cells": [
    {
      "cell_type": "code",
      "metadata": {
        "id": "BVLciLNFwPM6",
        "colab_type": "code",
        "outputId": "2ba2635a-205d-44c2-9997-09a5a81ea1ed",
        "colab": {
          "base_uri": "https://localhost:8080/",
          "height": 578
        }
      },
      "source": [
        "!wget https://raw.githubusercontent.com/HSE-CROSS-LING-DL/cma/master/data/trk-uncovered-train-transliterated.csv -O train.csv\n",
        "!wget https://raw.githubusercontent.com/HSE-CROSS-LING-DL/cma/master/data/trk-uncovered-dev-transliterated.csv -O dev.csv\n",
        "!wget https://raw.githubusercontent.com/HSE-CROSS-LING-DL/cma/master/data/trk-uncovered-test-transliterated.csv -O test.csv"
      ],
      "execution_count": 1,
      "outputs": [
        {
          "output_type": "stream",
          "text": [
            "--2019-12-20 09:30:59--  https://raw.githubusercontent.com/HSE-CROSS-LING-DL/cma/master/data/trk-uncovered-train-transliterated.csv\n",
            "Resolving raw.githubusercontent.com (raw.githubusercontent.com)... 151.101.0.133, 151.101.64.133, 151.101.128.133, ...\n",
            "Connecting to raw.githubusercontent.com (raw.githubusercontent.com)|151.101.0.133|:443... connected.\n",
            "HTTP request sent, awaiting response... 200 OK\n",
            "Length: 5650505 (5.4M) [text/plain]\n",
            "Saving to: ‘train.csv’\n",
            "\n",
            "\rtrain.csv             0%[                    ]       0  --.-KB/s               \rtrain.csv           100%[===================>]   5.39M  --.-KB/s    in 0.08s   \n",
            "\n",
            "2019-12-20 09:30:59 (64.2 MB/s) - ‘train.csv’ saved [5650505/5650505]\n",
            "\n",
            "--2019-12-20 09:31:01--  https://raw.githubusercontent.com/HSE-CROSS-LING-DL/cma/master/data/trk-uncovered-dev-transliterated.csv\n",
            "Resolving raw.githubusercontent.com (raw.githubusercontent.com)... 151.101.0.133, 151.101.64.133, 151.101.128.133, ...\n",
            "Connecting to raw.githubusercontent.com (raw.githubusercontent.com)|151.101.0.133|:443... connected.\n",
            "HTTP request sent, awaiting response... 200 OK\n",
            "Length: 92536 (90K) [text/plain]\n",
            "Saving to: ‘dev.csv’\n",
            "\n",
            "dev.csv             100%[===================>]  90.37K  --.-KB/s    in 0.001s  \n",
            "\n",
            "2019-12-20 09:31:01 (133 MB/s) - ‘dev.csv’ saved [92536/92536]\n",
            "\n",
            "--2019-12-20 09:31:03--  https://raw.githubusercontent.com/HSE-CROSS-LING-DL/cma/master/data/trk-uncovered-test-transliterated.csv\n",
            "Resolving raw.githubusercontent.com (raw.githubusercontent.com)... 151.101.0.133, 151.101.64.133, 151.101.128.133, ...\n",
            "Connecting to raw.githubusercontent.com (raw.githubusercontent.com)|151.101.0.133|:443... connected.\n",
            "HTTP request sent, awaiting response... 200 OK\n",
            "Length: 877772 (857K) [text/plain]\n",
            "Saving to: ‘test.csv’\n",
            "\n",
            "test.csv            100%[===================>] 857.20K  --.-KB/s    in 0.02s   \n",
            "\n",
            "2019-12-20 09:31:03 (47.7 MB/s) - ‘test.csv’ saved [877772/877772]\n",
            "\n"
          ],
          "name": "stdout"
        }
      ]
    },
    {
      "cell_type": "code",
      "metadata": {
        "id": "6cbfFqc8wqIN",
        "colab_type": "code",
        "colab": {}
      },
      "source": [
        "import pandas as pd\n",
        "import numpy as np\n",
        "from tqdm import tqdm\n",
        "import torch"
      ],
      "execution_count": 0,
      "outputs": []
    },
    {
      "cell_type": "code",
      "metadata": {
        "id": "sk9ByVKVxDA6",
        "colab_type": "code",
        "colab": {}
      },
      "source": [
        "data = pd.read_csv('train.csv')\n",
        "dev = pd.read_csv('dev.csv')\n",
        "test = pd.read_csv('test.csv')"
      ],
      "execution_count": 0,
      "outputs": []
    },
    {
      "cell_type": "code",
      "metadata": {
        "id": "DxabTNWpdvQ2",
        "colab_type": "code",
        "outputId": "67d1cd6f-9fda-49f8-c908-71d1a583c4a5",
        "colab": {
          "base_uri": "https://localhost:8080/",
          "height": 34
        }
      },
      "source": [
        "data.shape, dev.shape, test.shape"
      ],
      "execution_count": 4,
      "outputs": [
        {
          "output_type": "execute_result",
          "data": {
            "text/plain": [
              "((79228, 5), (1245, 5), (12926, 5))"
            ]
          },
          "metadata": {
            "tags": []
          },
          "execution_count": 4
        }
      ]
    },
    {
      "cell_type": "code",
      "metadata": {
        "id": "Ld2jRMn521iy",
        "colab_type": "code",
        "outputId": "fb991c1f-f806-404f-b5ad-71f94312c23a",
        "colab": {
          "base_uri": "https://localhost:8080/",
          "height": 34
        }
      },
      "source": [
        "data = data.dropna()\n",
        "data = data.reset_index(drop=True)\n",
        "data.shape"
      ],
      "execution_count": 5,
      "outputs": [
        {
          "output_type": "execute_result",
          "data": {
            "text/plain": [
              "(79228, 5)"
            ]
          },
          "metadata": {
            "tags": []
          },
          "execution_count": 5
        }
      ]
    },
    {
      "cell_type": "code",
      "metadata": {
        "id": "RG24GN92xGOT",
        "colab_type": "code",
        "outputId": "fa65413c-62ba-4eef-b7cd-9a8208c9745b",
        "colab": {
          "base_uri": "https://localhost:8080/",
          "height": 34
        }
      },
      "source": [
        "test = test.dropna()\n",
        "test = test.reset_index(drop=True)\n",
        "test.shape"
      ],
      "execution_count": 6,
      "outputs": [
        {
          "output_type": "execute_result",
          "data": {
            "text/plain": [
              "(12926, 5)"
            ]
          },
          "metadata": {
            "tags": []
          },
          "execution_count": 6
        }
      ]
    },
    {
      "cell_type": "code",
      "metadata": {
        "id": "-w1eW9GcZwDU",
        "colab_type": "code",
        "colab": {
          "base_uri": "https://localhost:8080/",
          "height": 34
        },
        "outputId": "5a4599a1-bfd8-450f-fa1c-c3fe0e4081bb"
      },
      "source": [
        "dev = dev.dropna()\n",
        "dev = dev.reset_index(drop=True)\n",
        "dev.shape"
      ],
      "execution_count": 7,
      "outputs": [
        {
          "output_type": "execute_result",
          "data": {
            "text/plain": [
              "(1245, 5)"
            ]
          },
          "metadata": {
            "tags": []
          },
          "execution_count": 7
        }
      ]
    },
    {
      "cell_type": "code",
      "metadata": {
        "id": "B7gPKat9xNHR",
        "colab_type": "code",
        "outputId": "6e4b694f-3b73-4ce0-c2f1-4ceccef7b885",
        "colab": {
          "base_uri": "https://localhost:8080/",
          "height": 102
        }
      },
      "source": [
        "data['pos'].value_counts() * 100 / data.shape[0]"
      ],
      "execution_count": 8,
      "outputs": [
        {
          "output_type": "execute_result",
          "data": {
            "text/plain": [
              "NOUN    53.789064\n",
              "VERB    40.141112\n",
              "ADJ      5.231736\n",
              "ADV      0.838088\n",
              "Name: pos, dtype: float64"
            ]
          },
          "metadata": {
            "tags": []
          },
          "execution_count": 8
        }
      ]
    },
    {
      "cell_type": "code",
      "metadata": {
        "id": "naTZ_tQtSqlc",
        "colab_type": "code",
        "outputId": "7cc1284e-c5f5-4e91-aa0d-12c2772234cb",
        "colab": {
          "base_uri": "https://localhost:8080/",
          "height": 102
        }
      },
      "source": [
        "test['pos'].value_counts() * 100 / test.shape[0]"
      ],
      "execution_count": 9,
      "outputs": [
        {
          "output_type": "execute_result",
          "data": {
            "text/plain": [
              "NOUN    68.280984\n",
              "VERB    27.587808\n",
              "ADJ      3.496828\n",
              "ADV      0.634380\n",
              "Name: pos, dtype: float64"
            ]
          },
          "metadata": {
            "tags": []
          },
          "execution_count": 9
        }
      ]
    },
    {
      "cell_type": "code",
      "metadata": {
        "id": "19Qug3FxySTU",
        "colab_type": "code",
        "outputId": "828afa64-e2fe-4a7b-e447-1faf17fe4723",
        "colab": {
          "base_uri": "https://localhost:8080/",
          "height": 204
        }
      },
      "source": [
        "data.head()"
      ],
      "execution_count": 10,
      "outputs": [
        {
          "output_type": "execute_result",
          "data": {
            "text/html": [
              "<div>\n",
              "<style scoped>\n",
              "    .dataframe tbody tr th:only-of-type {\n",
              "        vertical-align: middle;\n",
              "    }\n",
              "\n",
              "    .dataframe tbody tr th {\n",
              "        vertical-align: top;\n",
              "    }\n",
              "\n",
              "    .dataframe thead th {\n",
              "        text-align: right;\n",
              "    }\n",
              "</style>\n",
              "<table border=\"1\" class=\"dataframe\">\n",
              "  <thead>\n",
              "    <tr style=\"text-align: right;\">\n",
              "      <th></th>\n",
              "      <th>lang</th>\n",
              "      <th>word</th>\n",
              "      <th>lemma</th>\n",
              "      <th>pos</th>\n",
              "      <th>morph</th>\n",
              "    </tr>\n",
              "  </thead>\n",
              "  <tbody>\n",
              "    <tr>\n",
              "      <th>0</th>\n",
              "      <td>tat</td>\n",
              "      <td>казак</td>\n",
              "      <td>казак</td>\n",
              "      <td>NOUN</td>\n",
              "      <td>Case=Nom</td>\n",
              "    </tr>\n",
              "    <tr>\n",
              "      <th>1</th>\n",
              "      <td>tur</td>\n",
              "      <td>мuамеле</td>\n",
              "      <td>мuамеле</td>\n",
              "      <td>NOUN</td>\n",
              "      <td>Case=Nom</td>\n",
              "    </tr>\n",
              "    <tr>\n",
              "      <th>2</th>\n",
              "      <td>tat</td>\n",
              "      <td>заманы</td>\n",
              "      <td>заман</td>\n",
              "      <td>NOUN</td>\n",
              "      <td>Case=Nom|Number[psor]=Sing,Plur|Person[psor]=3</td>\n",
              "    </tr>\n",
              "    <tr>\n",
              "      <th>3</th>\n",
              "      <td>tur</td>\n",
              "      <td>конuт</td>\n",
              "      <td>конuт</td>\n",
              "      <td>NOUN</td>\n",
              "      <td>Case=Nom</td>\n",
              "    </tr>\n",
              "    <tr>\n",
              "      <th>4</th>\n",
              "      <td>tur</td>\n",
              "      <td>корuмасы</td>\n",
              "      <td>корu</td>\n",
              "      <td>VERB</td>\n",
              "      <td>Case=Nom|Number[psor]=Sing,Plur|Person[psor]=3...</td>\n",
              "    </tr>\n",
              "  </tbody>\n",
              "</table>\n",
              "</div>"
            ],
            "text/plain": [
              "  lang      word  ...   pos                                              morph\n",
              "0  tat     казак  ...  NOUN                                           Case=Nom\n",
              "1  tur   мuамеле  ...  NOUN                                           Case=Nom\n",
              "2  tat    заманы  ...  NOUN     Case=Nom|Number[psor]=Sing,Plur|Person[psor]=3\n",
              "3  tur     конuт  ...  NOUN                                           Case=Nom\n",
              "4  tur  корuмасы  ...  VERB  Case=Nom|Number[psor]=Sing,Plur|Person[psor]=3...\n",
              "\n",
              "[5 rows x 5 columns]"
            ]
          },
          "metadata": {
            "tags": []
          },
          "execution_count": 10
        }
      ]
    },
    {
      "cell_type": "code",
      "metadata": {
        "id": "fD_aZdwvbEpt",
        "colab_type": "code",
        "colab": {
          "base_uri": "https://localhost:8080/",
          "height": 204
        },
        "outputId": "9eeec3bd-aca9-4dd4-eb3b-48238b841743"
      },
      "source": [
        "dev.head()"
      ],
      "execution_count": 11,
      "outputs": [
        {
          "output_type": "execute_result",
          "data": {
            "text/html": [
              "<div>\n",
              "<style scoped>\n",
              "    .dataframe tbody tr th:only-of-type {\n",
              "        vertical-align: middle;\n",
              "    }\n",
              "\n",
              "    .dataframe tbody tr th {\n",
              "        vertical-align: top;\n",
              "    }\n",
              "\n",
              "    .dataframe thead th {\n",
              "        text-align: right;\n",
              "    }\n",
              "</style>\n",
              "<table border=\"1\" class=\"dataframe\">\n",
              "  <thead>\n",
              "    <tr style=\"text-align: right;\">\n",
              "      <th></th>\n",
              "      <th>lang</th>\n",
              "      <th>word</th>\n",
              "      <th>lemma</th>\n",
              "      <th>pos</th>\n",
              "      <th>morph</th>\n",
              "    </tr>\n",
              "  </thead>\n",
              "  <tbody>\n",
              "    <tr>\n",
              "      <th>0</th>\n",
              "      <td>crh</td>\n",
              "      <td>егленcелер</td>\n",
              "      <td>егленcе</td>\n",
              "      <td>NOUN</td>\n",
              "      <td>Case=Nom|Number=Plur</td>\n",
              "    </tr>\n",
              "    <tr>\n",
              "      <th>1</th>\n",
              "      <td>crh</td>\n",
              "      <td>сüргüнликниң</td>\n",
              "      <td>сüргüнлик</td>\n",
              "      <td>NOUN</td>\n",
              "      <td>Case=Gen</td>\n",
              "    </tr>\n",
              "    <tr>\n",
              "      <th>2</th>\n",
              "      <td>crh</td>\n",
              "      <td>монархийада</td>\n",
              "      <td>монархийа</td>\n",
              "      <td>NOUN</td>\n",
              "      <td>Case=Loc</td>\n",
              "    </tr>\n",
              "    <tr>\n",
              "      <th>3</th>\n",
              "      <td>crh</td>\n",
              "      <td>кöстергенлери</td>\n",
              "      <td>кöстер</td>\n",
              "      <td>VERB</td>\n",
              "      <td>Case=Nom|Number=Plur|Number[psor]=Sing,Plur|Pe...</td>\n",
              "    </tr>\n",
              "    <tr>\n",
              "      <th>4</th>\n",
              "      <td>crh</td>\n",
              "      <td>öксüз</td>\n",
              "      <td>öксüз</td>\n",
              "      <td>NOUN</td>\n",
              "      <td>Case=Nom</td>\n",
              "    </tr>\n",
              "  </tbody>\n",
              "</table>\n",
              "</div>"
            ],
            "text/plain": [
              "  lang           word  ...   pos                                              morph\n",
              "0  crh     егленcелер  ...  NOUN                               Case=Nom|Number=Plur\n",
              "1  crh   сüргüнликниң  ...  NOUN                                           Case=Gen\n",
              "2  crh    монархийада  ...  NOUN                                           Case=Loc\n",
              "3  crh  кöстергенлери  ...  VERB  Case=Nom|Number=Plur|Number[psor]=Sing,Plur|Pe...\n",
              "4  crh          öксüз  ...  NOUN                                           Case=Nom\n",
              "\n",
              "[5 rows x 5 columns]"
            ]
          },
          "metadata": {
            "tags": []
          },
          "execution_count": 11
        }
      ]
    },
    {
      "cell_type": "markdown",
      "metadata": {
        "id": "qbAI1pLE2d3v",
        "colab_type": "text"
      },
      "source": [
        "POS-теги:"
      ]
    },
    {
      "cell_type": "code",
      "metadata": {
        "id": "_MwGXMx8xIOP",
        "colab_type": "code",
        "colab": {}
      },
      "source": [
        "pos_mapper = {pos: n for n, pos in enumerate(data.pos.unique())}\n",
        "data['pos_num'] = data.pos.map(pos_mapper)\n",
        "test['pos_num'] = test.pos.map(pos_mapper)\n",
        "dev['pos_num'] = dev.pos.map(pos_mapper)"
      ],
      "execution_count": 0,
      "outputs": []
    },
    {
      "cell_type": "code",
      "metadata": {
        "id": "zVQkyec02-L6",
        "colab_type": "code",
        "outputId": "8375b3d1-4082-4d12-d756-b6cee3a9a022",
        "colab": {
          "base_uri": "https://localhost:8080/",
          "height": 204
        }
      },
      "source": [
        "test.head()"
      ],
      "execution_count": 13,
      "outputs": [
        {
          "output_type": "execute_result",
          "data": {
            "text/html": [
              "<div>\n",
              "<style scoped>\n",
              "    .dataframe tbody tr th:only-of-type {\n",
              "        vertical-align: middle;\n",
              "    }\n",
              "\n",
              "    .dataframe tbody tr th {\n",
              "        vertical-align: top;\n",
              "    }\n",
              "\n",
              "    .dataframe thead th {\n",
              "        text-align: right;\n",
              "    }\n",
              "</style>\n",
              "<table border=\"1\" class=\"dataframe\">\n",
              "  <thead>\n",
              "    <tr style=\"text-align: right;\">\n",
              "      <th></th>\n",
              "      <th>lang</th>\n",
              "      <th>word</th>\n",
              "      <th>lemma</th>\n",
              "      <th>pos</th>\n",
              "      <th>morph</th>\n",
              "      <th>pos_num</th>\n",
              "    </tr>\n",
              "  </thead>\n",
              "  <tbody>\n",
              "    <tr>\n",
              "      <th>0</th>\n",
              "      <td>krc</td>\n",
              "      <td>джыл</td>\n",
              "      <td>джыл</td>\n",
              "      <td>NOUN</td>\n",
              "      <td>Case=Nom</td>\n",
              "      <td>0</td>\n",
              "    </tr>\n",
              "    <tr>\n",
              "      <th>1</th>\n",
              "      <td>krc</td>\n",
              "      <td>эм</td>\n",
              "      <td>эм</td>\n",
              "      <td>ADV</td>\n",
              "      <td>_</td>\n",
              "      <td>3</td>\n",
              "    </tr>\n",
              "    <tr>\n",
              "      <th>2</th>\n",
              "      <td>krc</td>\n",
              "      <td>эм</td>\n",
              "      <td>эм</td>\n",
              "      <td>NOUN</td>\n",
              "      <td>Case=Nom</td>\n",
              "      <td>0</td>\n",
              "    </tr>\n",
              "    <tr>\n",
              "      <th>3</th>\n",
              "      <td>krc</td>\n",
              "      <td>джылны</td>\n",
              "      <td>джыл</td>\n",
              "      <td>NOUN</td>\n",
              "      <td>Case=Acc</td>\n",
              "      <td>0</td>\n",
              "    </tr>\n",
              "    <tr>\n",
              "      <th>4</th>\n",
              "      <td>krc</td>\n",
              "      <td>джылны</td>\n",
              "      <td>джыл</td>\n",
              "      <td>NOUN</td>\n",
              "      <td>Case=Gen</td>\n",
              "      <td>0</td>\n",
              "    </tr>\n",
              "  </tbody>\n",
              "</table>\n",
              "</div>"
            ],
            "text/plain": [
              "  lang    word lemma   pos     morph  pos_num\n",
              "0  krc    джыл  джыл  NOUN  Case=Nom        0\n",
              "1  krc      эм    эм   ADV         _        3\n",
              "2  krc      эм    эм  NOUN  Case=Nom        0\n",
              "3  krc  джылны  джыл  NOUN  Case=Acc        0\n",
              "4  krc  джылны  джыл  NOUN  Case=Gen        0"
            ]
          },
          "metadata": {
            "tags": []
          },
          "execution_count": 13
        }
      ]
    },
    {
      "cell_type": "code",
      "metadata": {
        "id": "e3z6jjAiZ4Xr",
        "colab_type": "code",
        "colab": {}
      },
      "source": [
        "def multihot(words, pos):\n",
        "  multihot_dict = {}\n",
        "  for word, pos_num in tqdm(zip(words, pos)):\n",
        "    if word in multihot_dict:\n",
        "      multihot_dict[word][pos_num] = 1\n",
        "    else:\n",
        "      multihot_dict[word] = torch.Tensor(np.zeros(4))\n",
        "      multihot_dict[word][pos_num] = 1\n",
        "\n",
        "  return multihot_dict"
      ],
      "execution_count": 0,
      "outputs": []
    },
    {
      "cell_type": "code",
      "metadata": {
        "id": "enlpDslYaN-0",
        "colab_type": "code",
        "colab": {
          "base_uri": "https://localhost:8080/",
          "height": 34
        },
        "outputId": "f0566d4d-ae7e-4c9e-f7f8-dc2a133b3cde"
      },
      "source": [
        "multihot_train = multihot(data.word, data.pos_num)"
      ],
      "execution_count": 15,
      "outputs": [
        {
          "output_type": "stream",
          "text": [
            "79228it [00:01, 69265.55it/s]\n"
          ],
          "name": "stderr"
        }
      ]
    },
    {
      "cell_type": "code",
      "metadata": {
        "id": "XRAONQFKbBL5",
        "colab_type": "code",
        "colab": {
          "base_uri": "https://localhost:8080/",
          "height": 34
        },
        "outputId": "bd2b770e-12b0-4030-9fc2-46d85f16a213"
      },
      "source": [
        "multihot_test = multihot(test.word, test.pos_num)"
      ],
      "execution_count": 16,
      "outputs": [
        {
          "output_type": "stream",
          "text": [
            "12926it [00:00, 65699.60it/s]\n"
          ],
          "name": "stderr"
        }
      ]
    },
    {
      "cell_type": "code",
      "metadata": {
        "id": "0XZKswSbbNqd",
        "colab_type": "code",
        "colab": {
          "base_uri": "https://localhost:8080/",
          "height": 34
        },
        "outputId": "5e7a5c5f-ae42-4af1-e672-eb54b71014bc"
      },
      "source": [
        "multihot_dev = multihot(dev.word, dev.pos_num)"
      ],
      "execution_count": 17,
      "outputs": [
        {
          "output_type": "stream",
          "text": [
            "1245it [00:00, 42003.09it/s]\n"
          ],
          "name": "stderr"
        }
      ]
    },
    {
      "cell_type": "markdown",
      "metadata": {
        "id": "CfDzMkKBrR_L",
        "colab_type": "text"
      },
      "source": [
        "Data Loader"
      ]
    },
    {
      "cell_type": "code",
      "metadata": {
        "id": "YcIcfh7krTpr",
        "colab_type": "code",
        "colab": {}
      },
      "source": [
        "from torch.utils.data import Dataset, DataLoader"
      ],
      "execution_count": 0,
      "outputs": []
    },
    {
      "cell_type": "code",
      "metadata": {
        "id": "Hg9vt8dHlcGK",
        "colab_type": "code",
        "outputId": "990f1089-e055-4a1e-8f9b-92f5110c598f",
        "colab": {
          "base_uri": "https://localhost:8080/",
          "height": 34
        }
      },
      "source": [
        "char2index = {'PAD': 0}\n",
        "MAX_LEN = 0\n",
        "lengths = []\n",
        "\n",
        "for word in tqdm(data.word):\n",
        "  l = len(word)\n",
        "  lengths.append(l)\n",
        "  \n",
        "  for char in word:\n",
        "    if char not in char2index:\n",
        "      char2index[char] = len(char2index)"
      ],
      "execution_count": 19,
      "outputs": [
        {
          "output_type": "stream",
          "text": [
            "100%|██████████| 79228/79228 [00:00<00:00, 478025.10it/s]\n"
          ],
          "name": "stderr"
        }
      ]
    },
    {
      "cell_type": "code",
      "metadata": {
        "id": "Vmjb_QtMrHfT",
        "colab_type": "code",
        "outputId": "a637adb5-7984-45fd-f31f-5334fa7d482b",
        "colab": {
          "base_uri": "https://localhost:8080/",
          "height": 295
        }
      },
      "source": [
        "from matplotlib import pyplot as plt\n",
        "\n",
        "plt.title('Распределение длин слов')\n",
        "plt.xlabel('Длина слова')\n",
        "plt.hist(lengths)\n",
        "plt.show()"
      ],
      "execution_count": 20,
      "outputs": [
        {
          "output_type": "display_data",
          "data": {
            "image/png": "[encoded data removed]",
            "text/plain": [
              "<Figure size 432x288 with 1 Axes>"
            ]
          },
          "metadata": {
            "tags": []
          }
        }
      ]
    },
    {
      "cell_type": "code",
      "metadata": {
        "id": "HJfegnGTVbn4",
        "colab_type": "code",
        "outputId": "e8a14419-cca9-44e4-9b63-a2766f83d96f",
        "colab": {
          "base_uri": "https://localhost:8080/",
          "height": 34
        }
      },
      "source": [
        "lengths = np.array([lengths])\n",
        "np.percentile(lengths, q=95)"
      ],
      "execution_count": 21,
      "outputs": [
        {
          "output_type": "execute_result",
          "data": {
            "text/plain": [
              "12.0"
            ]
          },
          "metadata": {
            "tags": []
          },
          "execution_count": 21
        }
      ]
    },
    {
      "cell_type": "code",
      "metadata": {
        "id": "iakvAEJFrdmf",
        "colab_type": "code",
        "colab": {}
      },
      "source": [
        "class LoadData(Dataset):\n",
        "    \n",
        "    def __init__(self, x_data, y_data, char2index=char2index, sequence_length=12,\\\n",
        "                 pad_token='PAD', verbose=True):\n",
        "        \n",
        "        super().__init__()\n",
        "        \n",
        "        self.x_data = []\n",
        "        self.y_data = y_data\n",
        "\n",
        "        self.char2index = char2index\n",
        "\n",
        "        self.sequence_length = sequence_length\n",
        "        self.pad_token = pad_token\n",
        "        self.pad_index = self.char2index[self.pad_token]\n",
        "\n",
        "        self.load(x_data, verbose=verbose)\n",
        "\n",
        "    def preprocess(self, word):\n",
        "      return [c for c in word]\n",
        "\n",
        "    def indexing(self, chars):\n",
        "        return [self.char2index[char] for char in chars if char in self.char2index]\n",
        "\n",
        "    def load(self, data, verbose=True):\n",
        "        data_iterator = tqdm(data, desc='Loading data', disable=not verbose)\n",
        "        \n",
        "        for word in data_iterator:\n",
        "            chars = self.preprocess(word)\n",
        "            indexed_chars = self.indexing(chars)\n",
        "            self.x_data.append(indexed_chars)\n",
        "\n",
        "    def padding(self, sequence):\n",
        "        if len(sequence) > self.sequence_length:\n",
        "          sequence = sequence[:self.sequence_length]\n",
        "        elif len(sequence) < self.sequence_length:\n",
        "          sequence = sequence + [self.pad_index] * (self.sequence_length - len(sequence))\n",
        "        return sequence\n",
        "\n",
        "    def __len__(self):\n",
        "        return len(self.x_data)\n",
        "    \n",
        "    def __getitem__(self, idx):\n",
        "        x = self.x_data[idx]\n",
        "        x = self.padding(x)\n",
        "        x = torch.Tensor(x).long()\n",
        "        y = self.y_data[idx]\n",
        "        \n",
        "        return x, y"
      ],
      "execution_count": 0,
      "outputs": []
    },
    {
      "cell_type": "code",
      "metadata": {
        "id": "qwQ5SqRvvvUb",
        "colab_type": "code",
        "outputId": "0d63a65d-23bc-4f86-94f9-dd4284300648",
        "colab": {
          "base_uri": "https://localhost:8080/",
          "height": 34
        }
      },
      "source": [
        "train_dataset = LoadData(list(multihot_train.keys()), list(multihot_train.values()))"
      ],
      "execution_count": 23,
      "outputs": [
        {
          "output_type": "stream",
          "text": [
            "Loading data: 100%|██████████| 43886/43886 [00:00<00:00, 310829.79it/s]\n"
          ],
          "name": "stderr"
        }
      ]
    },
    {
      "cell_type": "code",
      "metadata": {
        "id": "PGDwm6_F_oWN",
        "colab_type": "code",
        "outputId": "b6f63f0d-b4b0-416d-ae3f-287d57b69bf8",
        "colab": {
          "base_uri": "https://localhost:8080/",
          "height": 34
        }
      },
      "source": [
        "test_dataset = LoadData(list(multihot_test.keys()), list(multihot_test.values()))"
      ],
      "execution_count": 24,
      "outputs": [
        {
          "output_type": "stream",
          "text": [
            "Loading data: 100%|██████████| 8768/8768 [00:00<00:00, 226735.91it/s]\n"
          ],
          "name": "stderr"
        }
      ]
    },
    {
      "cell_type": "code",
      "metadata": {
        "id": "jwzAGeOfbyTp",
        "colab_type": "code",
        "colab": {
          "base_uri": "https://localhost:8080/",
          "height": 34
        },
        "outputId": "e73ebd64-d471-49f9-8f99-0e43ba074684"
      },
      "source": [
        "dev_dataset = LoadData(list(multihot_dev.keys()), list(multihot_dev.values()))"
      ],
      "execution_count": 25,
      "outputs": [
        {
          "output_type": "stream",
          "text": [
            "Loading data: 100%|██████████| 999/999 [00:00<00:00, 141219.03it/s]\n"
          ],
          "name": "stderr"
        }
      ]
    },
    {
      "cell_type": "code",
      "metadata": {
        "id": "NqDyI6ysxKxI",
        "colab_type": "code",
        "colab": {}
      },
      "source": [
        "train_data_loader = DataLoader(train_dataset, batch_size=64)\n",
        "test_data_loader = DataLoader(test_dataset, batch_size=64)\n",
        "dev_data_loader = DataLoader(dev_dataset, batch_size=64)"
      ],
      "execution_count": 0,
      "outputs": []
    },
    {
      "cell_type": "markdown",
      "metadata": {
        "id": "K60Gye3yfo6R",
        "colab_type": "text"
      },
      "source": [
        "Веса классов"
      ]
    },
    {
      "cell_type": "code",
      "metadata": {
        "id": "wqQiNfDdsTrk",
        "colab_type": "code",
        "outputId": "fec346c0-b296-4c1f-f97d-a9b6c156abd0",
        "colab": {
          "base_uri": "https://localhost:8080/",
          "height": 34
        }
      },
      "source": [
        "from sklearn.utils.class_weight import compute_class_weight\n",
        "\n",
        "weights = compute_class_weight('balanced', np.unique(data.pos_num), data.pos_num)\n",
        "weights = torch.FloatTensor(weights)\n",
        "weights"
      ],
      "execution_count": 27,
      "outputs": [
        {
          "output_type": "execute_result",
          "data": {
            "text/plain": [
              "tensor([ 0.4648,  0.6228,  4.7785, 29.8298])"
            ]
          },
          "metadata": {
            "tags": []
          },
          "execution_count": 27
        }
      ]
    },
    {
      "cell_type": "markdown",
      "metadata": {
        "id": "nQjHAZ3MzBi1",
        "colab_type": "text"
      },
      "source": [
        "# Модель"
      ]
    },
    {
      "cell_type": "code",
      "metadata": {
        "id": "UArPpzKJz7eh",
        "colab_type": "code",
        "colab": {}
      },
      "source": [
        "from torch import nn"
      ],
      "execution_count": 0,
      "outputs": []
    },
    {
      "cell_type": "code",
      "metadata": {
        "id": "QmsWKJiRzDR8",
        "colab_type": "code",
        "colab": {}
      },
      "source": [
        "class POSTagger(nn.Module):\n",
        "\n",
        "  def __init__(self, embedding_dim=64, vocab_size=len(char2index), hidden_dim=64, \n",
        "               ngrams=[2,3,4], seq_len=12, n_classes=4, keep_proba=0.4):\n",
        "\n",
        "    super().__init__()\n",
        "\n",
        "    self.vocab_size = vocab_size\n",
        "    self.embedding_dim = embedding_dim\n",
        "    self.hidden_dim = hidden_dim\n",
        "\n",
        "    self.dropout = nn.Dropout(p=keep_proba)\n",
        "\n",
        "    self.embedding_layer = nn.Embedding(num_embeddings=self.vocab_size, \\\n",
        "                                        embedding_dim=self.embedding_dim)\n",
        "    \n",
        "    self.lstm_layer = nn.LSTM(self.embedding_dim, self.hidden_dim, batch_first=True, bidirectional=True)\n",
        "\n",
        "    # Attention layers\n",
        "    self.key = nn.Linear(in_features=self.hidden_dim*2, out_features=self.hidden_dim*2)\n",
        "    self.query = nn.Linear(in_features=self.hidden_dim*2, out_features=self.hidden_dim*2)\n",
        "    self.value = nn.Linear(in_features=self.hidden_dim*2, out_features=self.hidden_dim*2)\n",
        "\n",
        "    self.convs = nn.ModuleList([nn.Conv1d(in_channels=self.hidden_dim*2, \n",
        "                                          out_channels=self.hidden_dim, \n",
        "                                          kernel_size=n) for n in ngrams])\n",
        "    \n",
        "    self.pooling = nn.ModuleList([nn.MaxPool1d(kernel_size=seq_len-n+1) for n in ngrams])\n",
        "    self.linear = nn.Linear(in_features=len(ngrams) * self.hidden_dim, out_features=n_classes)\n",
        "    self.sigmoid = nn.Sigmoid()\n",
        "\n",
        "  def forward(self, x):\n",
        "    x = self.embedding_layer(x)\n",
        "    lstm_x, mem = self.lstm_layer(x)\n",
        "\n",
        "    x_key = self.key(lstm_x)\n",
        "    x_query = self.query(lstm_x)\n",
        "    x_value = self.value(lstm_x)\n",
        "\n",
        "    attention_scores = torch.bmm(x_query, x_key.transpose(1, 2)) / self.hidden_dim\n",
        "    attention_distribution = torch.nn.functional.softmax(attention_scores, dim=2)\n",
        "\n",
        "    x_attn = torch.bmm(attention_distribution, x_value)\n",
        "    x_transposed = x_attn.transpose(1, 2)\n",
        "\n",
        "    conved = [conv(x_transposed) for conv in self.convs]\n",
        "    pooled = [pool(conv).squeeze(-1) for pool, conv in zip(self.pooling, conved)]\n",
        "    cat = self.dropout(torch.cat(pooled, 1))\n",
        "    out = self.linear(cat)\n",
        "\n",
        "    return self.sigmoid(out)"
      ],
      "execution_count": 0,
      "outputs": []
    },
    {
      "cell_type": "code",
      "metadata": {
        "id": "Ya_HMsZrY5Dd",
        "colab_type": "code",
        "colab": {}
      },
      "source": [
        "def score_model(preds, targets, thresholds=[0.4]*4):\n",
        "  precisions, recalls, fscores = [], [], []\n",
        "  for pred, target in zip(preds, targets):\n",
        "    tp, fp, tn, fn = [], [], [], []\n",
        "    for class_idx in range(len(pred)):\n",
        "\n",
        "      class_is_predicted = pred[class_idx] >= thresholds[class_idx]\n",
        "      class_is_required = bool(target[class_idx])\n",
        "      if class_is_predicted:\n",
        "        if class_is_required:\n",
        "          tp.append(class_idx)\n",
        "        else:\n",
        "          fp.append(class_idx)\n",
        "      else:\n",
        "        if not class_is_required:\n",
        "          tn.append(class_idx)\n",
        "        else:\n",
        "          fn.append(class_idx)\n",
        "\n",
        "    precision = len(tp) / (len(tp) + len(fp)) if any((tp, fp)) else 0\n",
        "    recall = len(tp) / (len(tp) + len(fn)) if any((tp, fn)) else 0\n",
        "    fscore = 2 * precision* recall / (precision + recall) if any((precision, recall)) else 0\n",
        "\n",
        "    precisions.append(precision)\n",
        "    recalls.append(recall)\n",
        "    fscores.append(fscore)\n",
        "\n",
        "  return np.mean(precisions), np.mean(recalls), np.mean(fscores)"
      ],
      "execution_count": 0,
      "outputs": []
    },
    {
      "cell_type": "code",
      "metadata": {
        "id": "AlbUKkWFEwWe",
        "colab_type": "code",
        "colab": {}
      },
      "source": [
        "model = POSTagger()\n",
        "\n",
        "criterion = nn.BCELoss(weight=weights)\n",
        "optimizer = torch.optim.Adam(params=model.parameters())"
      ],
      "execution_count": 0,
      "outputs": []
    },
    {
      "cell_type": "code",
      "metadata": {
        "id": "-XH15CwcFAKe",
        "colab_type": "code",
        "outputId": "242df2c8-81d2-49b6-feab-578426bc46d5",
        "colab": {
          "base_uri": "https://localhost:8080/",
          "height": 374
        }
      },
      "source": [
        "epochs = 15\n",
        "losses = []\n",
        "best_test_loss = 10.\n",
        "\n",
        "for n_epoch in range(epochs):\n",
        "    precisions, recalls, fscores = [], [], []\n",
        "    train_losses, test_losses = [], []\n",
        "    \n",
        "    progress_bar = tqdm(total=len(train_data_loader.dataset), desc='Epoch {}'.format(n_epoch + 1))\n",
        "    \n",
        "    for x, y in train_data_loader:     \n",
        "        optimizer.zero_grad()\n",
        "        \n",
        "        pred = model(x)\n",
        "        loss = criterion(pred, y)\n",
        "        \n",
        "        loss.backward()\n",
        "        \n",
        "        optimizer.step()\n",
        "        \n",
        "        train_losses.append(loss.item())\n",
        "        losses.append(loss.item())\n",
        "        \n",
        "        progress_bar.set_postfix(train_loss = np.mean(losses[-500:]))\n",
        "\n",
        "        progress_bar.update(x.shape[0])\n",
        "        \n",
        "    progress_bar.close()\n",
        "\n",
        "    for x, y in dev_data_loader:\n",
        "  \n",
        "      with torch.no_grad():\n",
        "            \n",
        "        pred = model(x)\n",
        "        loss = criterion(pred, y)\n",
        "\n",
        "        test_losses.append(loss.item())\n",
        "\n",
        "        precision, recall, fscore = score_model(pred, y)\n",
        "\n",
        "        precisions.append(precision)\n",
        "        recalls.append(recall)\n",
        "        fscores.append(fscore)\n",
        "\n",
        "    mean_test_loss = np.mean(test_losses)\n",
        "\n",
        "    precision = np.mean(precisions)\n",
        "    recall = np.mean(recalls)\n",
        "    fscore = np.mean(fscores)\n",
        "\n",
        "    print()\n",
        "    print('Losses: train - {:.3f}, dev - {:.3f}'.format(np.mean(train_losses), mean_test_loss))\n",
        "    print('Dev: precision - {:.3f}, recall - {:.3f}, fscore - {:.3f}'.format(precision, recall, fscore))\n",
        "\n",
        "    if mean_test_loss < best_test_loss:\n",
        "        best_test_loss = mean_test_loss\n",
        "    else:\n",
        "        print('Early stopping')\n",
        "        break"
      ],
      "execution_count": 35,
      "outputs": [
        {
          "output_type": "stream",
          "text": [
            "Epoch 1: 100%|██████████| 43886/43886 [00:31<00:00, 1372.01it/s, train_loss=1]\n",
            "Epoch 2:   0%|          | 192/43886 [00:00<00:31, 1401.04it/s, train_loss=0.996]"
          ],
          "name": "stderr"
        },
        {
          "output_type": "stream",
          "text": [
            "\n",
            "Losses: train - 1.052, dev - 0.764\n",
            "Dev: precision - 0.746, recall - 0.786, fscore - 0.756\n"
          ],
          "name": "stdout"
        },
        {
          "output_type": "stream",
          "text": [
            "Epoch 2: 100%|██████████| 43886/43886 [00:32<00:00, 1363.37it/s, train_loss=0.887]\n",
            "Epoch 3:   0%|          | 192/43886 [00:00<00:31, 1395.01it/s, train_loss=0.883]"
          ],
          "name": "stderr"
        },
        {
          "output_type": "stream",
          "text": [
            "\n",
            "Losses: train - 0.902, dev - 0.716\n",
            "Dev: precision - 0.790, recall - 0.834, fscore - 0.802\n"
          ],
          "name": "stdout"
        },
        {
          "output_type": "stream",
          "text": [
            "Epoch 3: 100%|██████████| 43886/43886 [00:31<00:00, 1362.10it/s, train_loss=0.824]\n",
            "Epoch 4:   0%|          | 192/43886 [00:00<00:32, 1358.09it/s, train_loss=0.821]"
          ],
          "name": "stderr"
        },
        {
          "output_type": "stream",
          "text": [
            "\n",
            "Losses: train - 0.833, dev - 0.701\n",
            "Dev: precision - 0.807, recall - 0.860, fscore - 0.822\n"
          ],
          "name": "stdout"
        },
        {
          "output_type": "stream",
          "text": [
            "Epoch 4: 100%|██████████| 43886/43886 [00:31<00:00, 1361.13it/s, train_loss=0.767]\n",
            "Epoch 5:   0%|          | 192/43886 [00:00<00:30, 1420.28it/s, train_loss=0.764]"
          ],
          "name": "stderr"
        },
        {
          "output_type": "stream",
          "text": [
            "\n",
            "Losses: train - 0.778, dev - 0.698\n",
            "Dev: precision - 0.816, recall - 0.864, fscore - 0.829\n"
          ],
          "name": "stdout"
        },
        {
          "output_type": "stream",
          "text": [
            "Epoch 5: 100%|██████████| 43886/43886 [00:31<00:00, 1372.30it/s, train_loss=0.719]\n"
          ],
          "name": "stderr"
        },
        {
          "output_type": "stream",
          "text": [
            "\n",
            "Losses: train - 0.731, dev - 0.699\n",
            "Dev: precision - 0.819, recall - 0.873, fscore - 0.834\n",
            "Early stopping\n"
          ],
          "name": "stdout"
        }
      ]
    },
    {
      "cell_type": "markdown",
      "metadata": {
        "id": "nyYWi0f5YubV",
        "colab_type": "text"
      },
      "source": [
        "# test"
      ]
    },
    {
      "cell_type": "code",
      "metadata": {
        "id": "bDW9VVQXYven",
        "colab_type": "code",
        "colab": {
          "base_uri": "https://localhost:8080/",
          "height": 34
        },
        "outputId": "93ff97df-f974-4922-93f6-a710c84c48cc"
      },
      "source": [
        "precisions, recalls, fscores = [], [], []\n",
        "for x, y in test_data_loader:\n",
        "  with torch.no_grad():        \n",
        "        pred = model(x)\n",
        "\n",
        "        precision, recall, fscore = score_model(pred, y)\n",
        "\n",
        "        precisions.append(precision)\n",
        "        recalls.append(recall)\n",
        "        fscores.append(fscore)\n",
        "\n",
        "precision = np.mean(precisions)\n",
        "recall = np.mean(recalls)\n",
        "fscore = np.mean(fscores)\n",
        "\n",
        "print('Test: precision - {:.3f}, recall - {:.3f}, fscore - {:.3f}'.format(precision, recall, fscore))"
      ],
      "execution_count": 36,
      "outputs": [
        {
          "output_type": "stream",
          "text": [
            "Test: precision - 0.778, recall - 0.844, fscore - 0.798\n"
          ],
          "name": "stdout"
        }
      ]
    }
  ]
}