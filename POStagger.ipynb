{
  "nbformat": 4,
  "nbformat_minor": 0,
  "metadata": {
    "colab": {
      "name": "POStagger.ipynb",
      "provenance": [],
      "collapsed_sections": []
    },
    "kernelspec": {
      "name": "python3",
      "display_name": "Python 3"
    },
    "accelerator": "GPU"
  },
  "cells": [
    {
      "cell_type": "code",
      "metadata": {
        "id": "BVLciLNFwPM6",
        "colab_type": "code",
        "colab": {
          "base_uri": "https://localhost:8080/",
          "height": 598
        },
        "outputId": "784ec289-c2aa-4e93-c6bb-84624c0a3083"
      },
      "source": [
        "!wget https://raw.githubusercontent.com/HSE-CROSS-LING-DL/cma/master/data/trk-uncovered-train-transliterated.csv -O train.csv\n",
        "!wget https://raw.githubusercontent.com/HSE-CROSS-LING-DL/cma/master/data/trk-uncovered-dev-transliterated.csv -O dev.csv\n",
        "!wget https://raw.githubusercontent.com/HSE-CROSS-LING-DL/cma/master/data/trk-uncovered-test-transliterated.csv -O test.csv"
      ],
      "execution_count": 103,
      "outputs": [
        {
          "output_type": "stream",
          "text": [
            "--2019-12-19 13:07:43--  https://raw.githubusercontent.com/HSE-CROSS-LING-DL/cma/master/data/trk-uncovered-train-transliterated.csv\n",
            "Resolving raw.githubusercontent.com (raw.githubusercontent.com)... 151.101.0.133, 151.101.64.133, 151.101.128.133, ...\n",
            "Connecting to raw.githubusercontent.com (raw.githubusercontent.com)|151.101.0.133|:443... connected.\n",
            "HTTP request sent, awaiting response... 200 OK\n",
            "Length: 5650505 (5.4M) [text/plain]\n",
            "Saving to: ‘train.csv’\n",
            "\n",
            "\rtrain.csv             0%[                    ]       0  --.-KB/s               \rtrain.csv           100%[===================>]   5.39M  --.-KB/s    in 0.07s   \n",
            "\n",
            "2019-12-19 13:07:44 (79.5 MB/s) - ‘train.csv’ saved [5650505/5650505]\n",
            "\n",
            "--2019-12-19 13:07:44--  https://raw.githubusercontent.com/HSE-CROSS-LING-DL/cma/master/data/trk-uncovered-dev-transliterated.csv\n",
            "Resolving raw.githubusercontent.com (raw.githubusercontent.com)... 151.101.0.133, 151.101.64.133, 151.101.128.133, ...\n",
            "Connecting to raw.githubusercontent.com (raw.githubusercontent.com)|151.101.0.133|:443... connected.\n",
            "HTTP request sent, awaiting response... 200 OK\n",
            "Length: 92536 (90K) [text/plain]\n",
            "Saving to: ‘dev.csv’\n",
            "\n",
            "dev.csv             100%[===================>]  90.37K  --.-KB/s    in 0.01s   \n",
            "\n",
            "2019-12-19 13:07:45 (6.04 MB/s) - ‘dev.csv’ saved [92536/92536]\n",
            "\n",
            "--2019-12-19 13:07:46--  https://raw.githubusercontent.com/HSE-CROSS-LING-DL/cma/master/data/trk-uncovered-test-transliterated.csv\n",
            "Resolving raw.githubusercontent.com (raw.githubusercontent.com)... 151.101.0.133, 151.101.64.133, 151.101.128.133, ...\n",
            "Connecting to raw.githubusercontent.com (raw.githubusercontent.com)|151.101.0.133|:443... connected.\n",
            "HTTP request sent, awaiting response... 200 OK\n",
            "Length: 877772 (857K) [text/plain]\n",
            "Saving to: ‘test.csv’\n",
            "\n",
            "test.csv            100%[===================>] 857.20K  --.-KB/s    in 0.04s   \n",
            "\n",
            "2019-12-19 13:07:47 (19.1 MB/s) - ‘test.csv’ saved [877772/877772]\n",
            "\n"
          ],
          "name": "stdout"
        }
      ]
    },
    {
      "cell_type": "code",
      "metadata": {
        "id": "6cbfFqc8wqIN",
        "colab_type": "code",
        "colab": {}
      },
      "source": [
        "import pandas as pd\n",
        "import numpy as np\n",
        "from tqdm import tqdm\n",
        "import torch"
      ],
      "execution_count": 0,
      "outputs": []
    },
    {
      "cell_type": "code",
      "metadata": {
        "id": "sk9ByVKVxDA6",
        "colab_type": "code",
        "colab": {}
      },
      "source": [
        "data = pd.read_csv('train.csv')\n",
        "dev = pd.read_csv('dev.csv')\n",
        "test = pd.read_csv('test.csv')"
      ],
      "execution_count": 0,
      "outputs": []
    },
    {
      "cell_type": "code",
      "metadata": {
        "id": "DxabTNWpdvQ2",
        "colab_type": "code",
        "outputId": "d5d9feb7-dad5-4cf9-ed2e-9ed719b39705",
        "colab": {
          "base_uri": "https://localhost:8080/",
          "height": 34
        }
      },
      "source": [
        "data.shape, dev.shape, test.shape"
      ],
      "execution_count": 155,
      "outputs": [
        {
          "output_type": "execute_result",
          "data": {
            "text/plain": [
              "((79228, 5), (1245, 5), (12926, 5))"
            ]
          },
          "metadata": {
            "tags": []
          },
          "execution_count": 155
        }
      ]
    },
    {
      "cell_type": "code",
      "metadata": {
        "id": "XZMjbrnrUuls",
        "colab_type": "code",
        "colab": {}
      },
      "source": [
        "data = pd.concat([data, dev], ignore_index=True)"
      ],
      "execution_count": 0,
      "outputs": []
    },
    {
      "cell_type": "code",
      "metadata": {
        "id": "SvZGOtqaUwbh",
        "colab_type": "code",
        "colab": {}
      },
      "source": [
        "data = data.sample(frac=1).reset_index(drop=True)"
      ],
      "execution_count": 0,
      "outputs": []
    },
    {
      "cell_type": "code",
      "metadata": {
        "id": "Ld2jRMn521iy",
        "colab_type": "code",
        "outputId": "596c9ba9-27d2-42c9-e35a-29c7cfcb8dcb",
        "colab": {
          "base_uri": "https://localhost:8080/",
          "height": 34
        }
      },
      "source": [
        "data = data.dropna()\n",
        "data = data.reset_index(drop=True)\n",
        "data.shape"
      ],
      "execution_count": 189,
      "outputs": [
        {
          "output_type": "execute_result",
          "data": {
            "text/plain": [
              "(80473, 6)"
            ]
          },
          "metadata": {
            "tags": []
          },
          "execution_count": 189
        }
      ]
    },
    {
      "cell_type": "code",
      "metadata": {
        "id": "RG24GN92xGOT",
        "colab_type": "code",
        "outputId": "84342388-685c-42ff-f9b2-b49be95f8959",
        "colab": {
          "base_uri": "https://localhost:8080/",
          "height": 34
        }
      },
      "source": [
        "test = test.dropna()\n",
        "test = test.reset_index(drop=True)\n",
        "test.shape"
      ],
      "execution_count": 190,
      "outputs": [
        {
          "output_type": "execute_result",
          "data": {
            "text/plain": [
              "(12926, 6)"
            ]
          },
          "metadata": {
            "tags": []
          },
          "execution_count": 190
        }
      ]
    },
    {
      "cell_type": "code",
      "metadata": {
        "id": "B7gPKat9xNHR",
        "colab_type": "code",
        "outputId": "8eaf973f-3375-4c11-8cdf-646d6542c3ae",
        "colab": {
          "base_uri": "https://localhost:8080/",
          "height": 102
        }
      },
      "source": [
        "data['pos'].value_counts() * 100 / data.shape[0]"
      ],
      "execution_count": 191,
      "outputs": [
        {
          "output_type": "execute_result",
          "data": {
            "text/plain": [
              "NOUN    53.902551\n",
              "VERB    40.044487\n",
              "ADJ      5.216657\n",
              "ADV      0.836305\n",
              "Name: pos, dtype: float64"
            ]
          },
          "metadata": {
            "tags": []
          },
          "execution_count": 191
        }
      ]
    },
    {
      "cell_type": "code",
      "metadata": {
        "id": "naTZ_tQtSqlc",
        "colab_type": "code",
        "colab": {
          "base_uri": "https://localhost:8080/",
          "height": 102
        },
        "outputId": "6d4263be-3f52-4e5a-b25d-00b5d20b5a2d"
      },
      "source": [
        "test['pos'].value_counts() * 100 / test.shape[0]"
      ],
      "execution_count": 192,
      "outputs": [
        {
          "output_type": "execute_result",
          "data": {
            "text/plain": [
              "NOUN    68.280984\n",
              "VERB    27.587808\n",
              "ADJ      3.496828\n",
              "ADV      0.634380\n",
              "Name: pos, dtype: float64"
            ]
          },
          "metadata": {
            "tags": []
          },
          "execution_count": 192
        }
      ]
    },
    {
      "cell_type": "code",
      "metadata": {
        "id": "19Qug3FxySTU",
        "colab_type": "code",
        "outputId": "1a12fcac-9cba-46c5-acc7-1adccb22199d",
        "colab": {
          "base_uri": "https://localhost:8080/",
          "height": 204
        }
      },
      "source": [
        "data.head()"
      ],
      "execution_count": 193,
      "outputs": [
        {
          "output_type": "execute_result",
          "data": {
            "text/html": [
              "<div>\n",
              "<style scoped>\n",
              "    .dataframe tbody tr th:only-of-type {\n",
              "        vertical-align: middle;\n",
              "    }\n",
              "\n",
              "    .dataframe tbody tr th {\n",
              "        vertical-align: top;\n",
              "    }\n",
              "\n",
              "    .dataframe thead th {\n",
              "        text-align: right;\n",
              "    }\n",
              "</style>\n",
              "<table border=\"1\" class=\"dataframe\">\n",
              "  <thead>\n",
              "    <tr style=\"text-align: right;\">\n",
              "      <th></th>\n",
              "      <th>lang</th>\n",
              "      <th>word</th>\n",
              "      <th>lemma</th>\n",
              "      <th>pos</th>\n",
              "      <th>morph</th>\n",
              "      <th>pos_num</th>\n",
              "    </tr>\n",
              "  </thead>\n",
              "  <tbody>\n",
              "    <tr>\n",
              "      <th>0</th>\n",
              "      <td>tur</td>\n",
              "      <td>саğланан</td>\n",
              "      <td>саğла</td>\n",
              "      <td>VERB</td>\n",
              "      <td>Tense=Pres|Valency=2|VerbForm=Part|Voice=Pass</td>\n",
              "      <td>1</td>\n",
              "    </tr>\n",
              "    <tr>\n",
              "      <th>1</th>\n",
              "      <td>tat</td>\n",
              "      <td>факультетында</td>\n",
              "      <td>факультет</td>\n",
              "      <td>NOUN</td>\n",
              "      <td>Case=Loc|Number[psor]=Sing,Plur|Person[psor]=3</td>\n",
              "      <td>0</td>\n",
              "    </tr>\n",
              "    <tr>\n",
              "      <th>2</th>\n",
              "      <td>tur</td>\n",
              "      <td>гöстермеси</td>\n",
              "      <td>гöстер</td>\n",
              "      <td>VERB</td>\n",
              "      <td>Case=Nom|Number[psor]=Sing,Plur|Person[psor]=3...</td>\n",
              "      <td>1</td>\n",
              "    </tr>\n",
              "    <tr>\n",
              "      <th>3</th>\n",
              "      <td>kaz</td>\n",
              "      <td>араласқан</td>\n",
              "      <td>аралас</td>\n",
              "      <td>VERB</td>\n",
              "      <td>Tense=Past|Valency=1|VerbForm=Part</td>\n",
              "      <td>1</td>\n",
              "    </tr>\n",
              "    <tr>\n",
              "      <th>4</th>\n",
              "      <td>kir</td>\n",
              "      <td>өтүшөт</td>\n",
              "      <td>өт</td>\n",
              "      <td>VERB</td>\n",
              "      <td>Number=Plur|Person=3|Tense=Aor|Valency=2|VerbF...</td>\n",
              "      <td>1</td>\n",
              "    </tr>\n",
              "  </tbody>\n",
              "</table>\n",
              "</div>"
            ],
            "text/plain": [
              "  lang  ... pos_num\n",
              "0  tur  ...       1\n",
              "1  tat  ...       0\n",
              "2  tur  ...       1\n",
              "3  kaz  ...       1\n",
              "4  kir  ...       1\n",
              "\n",
              "[5 rows x 6 columns]"
            ]
          },
          "metadata": {
            "tags": []
          },
          "execution_count": 193
        }
      ]
    },
    {
      "cell_type": "markdown",
      "metadata": {
        "id": "qbAI1pLE2d3v",
        "colab_type": "text"
      },
      "source": [
        "POS-теги:"
      ]
    },
    {
      "cell_type": "code",
      "metadata": {
        "id": "_MwGXMx8xIOP",
        "colab_type": "code",
        "colab": {}
      },
      "source": [
        "pos_mapper = {pos: n for n, pos in enumerate(data.pos.unique())}\n",
        "data['pos_num'] = data.pos.map(pos_mapper)\n",
        "test['pos_num'] = test.pos.map(pos_mapper)"
      ],
      "execution_count": 0,
      "outputs": []
    },
    {
      "cell_type": "code",
      "metadata": {
        "id": "zVQkyec02-L6",
        "colab_type": "code",
        "outputId": "21c35525-3190-48c6-d6b0-28ff17eeb946",
        "colab": {
          "base_uri": "https://localhost:8080/",
          "height": 204
        }
      },
      "source": [
        "test.head()"
      ],
      "execution_count": 195,
      "outputs": [
        {
          "output_type": "execute_result",
          "data": {
            "text/html": [
              "<div>\n",
              "<style scoped>\n",
              "    .dataframe tbody tr th:only-of-type {\n",
              "        vertical-align: middle;\n",
              "    }\n",
              "\n",
              "    .dataframe tbody tr th {\n",
              "        vertical-align: top;\n",
              "    }\n",
              "\n",
              "    .dataframe thead th {\n",
              "        text-align: right;\n",
              "    }\n",
              "</style>\n",
              "<table border=\"1\" class=\"dataframe\">\n",
              "  <thead>\n",
              "    <tr style=\"text-align: right;\">\n",
              "      <th></th>\n",
              "      <th>lang</th>\n",
              "      <th>word</th>\n",
              "      <th>lemma</th>\n",
              "      <th>pos</th>\n",
              "      <th>morph</th>\n",
              "      <th>pos_num</th>\n",
              "    </tr>\n",
              "  </thead>\n",
              "  <tbody>\n",
              "    <tr>\n",
              "      <th>0</th>\n",
              "      <td>krc</td>\n",
              "      <td>джыл</td>\n",
              "      <td>джыл</td>\n",
              "      <td>NOUN</td>\n",
              "      <td>Case=Nom</td>\n",
              "      <td>1</td>\n",
              "    </tr>\n",
              "    <tr>\n",
              "      <th>1</th>\n",
              "      <td>krc</td>\n",
              "      <td>эм</td>\n",
              "      <td>эм</td>\n",
              "      <td>ADV</td>\n",
              "      <td>_</td>\n",
              "      <td>3</td>\n",
              "    </tr>\n",
              "    <tr>\n",
              "      <th>2</th>\n",
              "      <td>krc</td>\n",
              "      <td>эм</td>\n",
              "      <td>эм</td>\n",
              "      <td>NOUN</td>\n",
              "      <td>Case=Nom</td>\n",
              "      <td>1</td>\n",
              "    </tr>\n",
              "    <tr>\n",
              "      <th>3</th>\n",
              "      <td>krc</td>\n",
              "      <td>джылны</td>\n",
              "      <td>джыл</td>\n",
              "      <td>NOUN</td>\n",
              "      <td>Case=Acc</td>\n",
              "      <td>1</td>\n",
              "    </tr>\n",
              "    <tr>\n",
              "      <th>4</th>\n",
              "      <td>krc</td>\n",
              "      <td>джылны</td>\n",
              "      <td>джыл</td>\n",
              "      <td>NOUN</td>\n",
              "      <td>Case=Gen</td>\n",
              "      <td>1</td>\n",
              "    </tr>\n",
              "  </tbody>\n",
              "</table>\n",
              "</div>"
            ],
            "text/plain": [
              "  lang    word lemma   pos     morph  pos_num\n",
              "0  krc    джыл  джыл  NOUN  Case=Nom        1\n",
              "1  krc      эм    эм   ADV         _        3\n",
              "2  krc      эм    эм  NOUN  Case=Nom        1\n",
              "3  krc  джылны  джыл  NOUN  Case=Acc        1\n",
              "4  krc  джылны  джыл  NOUN  Case=Gen        1"
            ]
          },
          "metadata": {
            "tags": []
          },
          "execution_count": 195
        }
      ]
    },
    {
      "cell_type": "code",
      "metadata": {
        "id": "i8d5PzCYvkYS",
        "colab_type": "code",
        "outputId": "eed49c70-c08f-4477-9668-e1efa57d7995",
        "colab": {
          "base_uri": "https://localhost:8080/",
          "height": 34
        }
      },
      "source": [
        "multihot_train = {}\n",
        "for word, pos_num in tqdm(zip(data.word, data.pos_num)):\n",
        "  if word in multihot_train:\n",
        "    multihot_train[word][pos_num] = 1\n",
        "  else:\n",
        "    multihot_train[word] = torch.Tensor(np.zeros(4))\n",
        "    multihot_train[word][pos_num] = 1"
      ],
      "execution_count": 196,
      "outputs": [
        {
          "output_type": "stream",
          "text": [
            "80473it [00:01, 68420.86it/s]\n"
          ],
          "name": "stderr"
        }
      ]
    },
    {
      "cell_type": "code",
      "metadata": {
        "id": "EK6NplMwI00K",
        "colab_type": "code",
        "outputId": "cf8282c1-2d91-4d8e-cf80-1c1dd618af7b",
        "colab": {
          "base_uri": "https://localhost:8080/",
          "height": 34
        }
      },
      "source": [
        "multihot_test = {}\n",
        "for word, pos_num in tqdm(zip(test.word, test.pos_num)):\n",
        "  if word in multihot_test:\n",
        "    multihot_test[word][pos_num] = 1\n",
        "  else:\n",
        "    multihot_test[word] = torch.Tensor(np.zeros(4))\n",
        "    multihot_test[word][pos_num] = 1"
      ],
      "execution_count": 197,
      "outputs": [
        {
          "output_type": "stream",
          "text": [
            "12926it [00:00, 45789.87it/s]\n"
          ],
          "name": "stderr"
        }
      ]
    },
    {
      "cell_type": "markdown",
      "metadata": {
        "id": "CfDzMkKBrR_L",
        "colab_type": "text"
      },
      "source": [
        "Data Loader"
      ]
    },
    {
      "cell_type": "code",
      "metadata": {
        "id": "YcIcfh7krTpr",
        "colab_type": "code",
        "colab": {}
      },
      "source": [
        "from torch.utils.data import Dataset, DataLoader"
      ],
      "execution_count": 0,
      "outputs": []
    },
    {
      "cell_type": "code",
      "metadata": {
        "id": "Hg9vt8dHlcGK",
        "colab_type": "code",
        "outputId": "426f0128-f1a9-466b-e7b5-afc090d077df",
        "colab": {
          "base_uri": "https://localhost:8080/",
          "height": 34
        }
      },
      "source": [
        "char2index = {'PAD': 0}\n",
        "MAX_LEN = 0\n",
        "lengths = []\n",
        "\n",
        "for word in tqdm(data.word):\n",
        "  l = len(word)\n",
        "  lengths.append(l)\n",
        "  if l > MAX_LEN:\n",
        "    MAX_LEN = l\n",
        "  \n",
        "  for char in word:\n",
        "    if char not in char2index:\n",
        "      char2index[char] = len(char2index)"
      ],
      "execution_count": 215,
      "outputs": [
        {
          "output_type": "stream",
          "text": [
            "100%|██████████| 80473/80473 [00:00<00:00, 561323.36it/s]\n"
          ],
          "name": "stderr"
        }
      ]
    },
    {
      "cell_type": "code",
      "metadata": {
        "id": "Vmjb_QtMrHfT",
        "colab_type": "code",
        "outputId": "e7f451c1-8c48-4b4b-c7aa-e972f6b63702",
        "colab": {
          "base_uri": "https://localhost:8080/",
          "height": 295
        }
      },
      "source": [
        "from matplotlib import pyplot as plt\n",
        "\n",
        "plt.title('Распределение длин слов')\n",
        "plt.xlabel('Длина слова')\n",
        "plt.hist(lengths)\n",
        "plt.show()"
      ],
      "execution_count": 216,
      "outputs": [
        {
          "output_type": "display_data",
          "data": {
            "image/png": "[encoded data removed]",
            "text/plain": [
              "<Figure size 432x288 with 1 Axes>"
            ]
          },
          "metadata": {
            "tags": []
          }
        }
      ]
    },
    {
      "cell_type": "code",
      "metadata": {
        "id": "HJfegnGTVbn4",
        "colab_type": "code",
        "colab": {
          "base_uri": "https://localhost:8080/",
          "height": 34
        },
        "outputId": "63872d2d-7def-4b60-f47c-28d36302bfea"
      },
      "source": [
        "lengths = np.array([lengths])\n",
        "np.percentile(lengths, q=95)"
      ],
      "execution_count": 217,
      "outputs": [
        {
          "output_type": "execute_result",
          "data": {
            "text/plain": [
              "12.0"
            ]
          },
          "metadata": {
            "tags": []
          },
          "execution_count": 217
        }
      ]
    },
    {
      "cell_type": "code",
      "metadata": {
        "id": "iakvAEJFrdmf",
        "colab_type": "code",
        "colab": {}
      },
      "source": [
        "class LoadData(Dataset):\n",
        "    \n",
        "    def __init__(self, x_data, y_data, char2index=char2index, sequence_length=12,\\\n",
        "                 pad_token='PAD', verbose=True):\n",
        "        \n",
        "        super().__init__()\n",
        "        \n",
        "        self.x_data = []\n",
        "        self.y_data = y_data\n",
        "\n",
        "        self.char2index = char2index\n",
        "\n",
        "        self.sequence_length = sequence_length\n",
        "        self.pad_token = pad_token\n",
        "        self.pad_index = self.char2index[self.pad_token]\n",
        "\n",
        "        self.load(x_data, verbose=verbose)\n",
        "\n",
        "    def preprocess(self, word):\n",
        "      return [c for c in word]\n",
        "\n",
        "    def indexing(self, chars):\n",
        "        return [self.char2index[char] for char in chars if char in self.char2index]\n",
        "\n",
        "    def load(self, data, verbose=True):\n",
        "        data_iterator = tqdm(data, desc='Loading data', disable=not verbose)\n",
        "        \n",
        "        for word in data_iterator:\n",
        "            chars = self.preprocess(word)\n",
        "            indexed_chars = self.indexing(chars)\n",
        "            self.x_data.append(indexed_chars)\n",
        "\n",
        "    def padding(self, sequence):\n",
        "        if len(sequence) > self.sequence_length:\n",
        "          sequence = sequence[:self.sequence_length]\n",
        "        elif len(sequence) < self.sequence_length:\n",
        "          sequence = sequence + [self.pad_index] * (self.sequence_length - len(sequence))\n",
        "        return sequence\n",
        "\n",
        "    def __len__(self):\n",
        "        return len(self.x_data)\n",
        "    \n",
        "    def __getitem__(self, idx):\n",
        "        x = self.x_data[idx]\n",
        "        x = self.padding(x)\n",
        "        x = torch.Tensor(x).long()\n",
        "        y = self.y_data[idx]\n",
        "        \n",
        "        return x, y"
      ],
      "execution_count": 0,
      "outputs": []
    },
    {
      "cell_type": "code",
      "metadata": {
        "id": "qwQ5SqRvvvUb",
        "colab_type": "code",
        "outputId": "5fc0c519-9c1d-4c4c-d145-3b4d35572ab7",
        "colab": {
          "base_uri": "https://localhost:8080/",
          "height": 34
        }
      },
      "source": [
        "train_dataset = LoadData(list(multihot_train.keys()), list(multihot_train.values()))"
      ],
      "execution_count": 229,
      "outputs": [
        {
          "output_type": "stream",
          "text": [
            "Loading data: 100%|██████████| 44707/44707 [00:00<00:00, 340053.62it/s]\n"
          ],
          "name": "stderr"
        }
      ]
    },
    {
      "cell_type": "code",
      "metadata": {
        "id": "PGDwm6_F_oWN",
        "colab_type": "code",
        "outputId": "156f6701-7726-4dfa-9ede-f338b1ff9b39",
        "colab": {
          "base_uri": "https://localhost:8080/",
          "height": 34
        }
      },
      "source": [
        "test_dataset = LoadData(list(multihot_test.keys()), list(multihot_test.values()))"
      ],
      "execution_count": 230,
      "outputs": [
        {
          "output_type": "stream",
          "text": [
            "Loading data: 100%|██████████| 8768/8768 [00:00<00:00, 286550.91it/s]\n"
          ],
          "name": "stderr"
        }
      ]
    },
    {
      "cell_type": "code",
      "metadata": {
        "id": "NqDyI6ysxKxI",
        "colab_type": "code",
        "colab": {}
      },
      "source": [
        "train_data_loader = DataLoader(train_dataset, batch_size=64)\n",
        "test_data_loader = DataLoader(test_dataset, batch_size=64)"
      ],
      "execution_count": 0,
      "outputs": []
    },
    {
      "cell_type": "markdown",
      "metadata": {
        "id": "nQjHAZ3MzBi1",
        "colab_type": "text"
      },
      "source": [
        "Модель"
      ]
    },
    {
      "cell_type": "code",
      "metadata": {
        "id": "UArPpzKJz7eh",
        "colab_type": "code",
        "colab": {}
      },
      "source": [
        "from torch import nn\n",
        "from sklearn.utils.multiclass import unique_labels\n",
        "from sklearn.metrics import label_ranking_loss"
      ],
      "execution_count": 0,
      "outputs": []
    },
    {
      "cell_type": "code",
      "metadata": {
        "id": "wqQiNfDdsTrk",
        "colab_type": "code",
        "outputId": "793ef802-e3c9-4c3f-be2e-96668a9a66bc",
        "colab": {
          "base_uri": "https://localhost:8080/",
          "height": 34
        }
      },
      "source": [
        "from sklearn.utils.class_weight import compute_class_weight\n",
        "\n",
        "weights = compute_class_weight('balanced', np.unique(data.pos_num), data.pos_num)\n",
        "weights = torch.FloatTensor(weights)\n",
        "weights"
      ],
      "execution_count": 233,
      "outputs": [
        {
          "output_type": "execute_result",
          "data": {
            "text/plain": [
              "tensor([ 0.6243,  0.4638,  4.7923, 29.8934])"
            ]
          },
          "metadata": {
            "tags": []
          },
          "execution_count": 233
        }
      ]
    },
    {
      "cell_type": "code",
      "metadata": {
        "id": "QmsWKJiRzDR8",
        "colab_type": "code",
        "colab": {}
      },
      "source": [
        "class POSTagger(nn.Module):\n",
        "\n",
        "  def __init__(self, embedding_dim=64, vocab_size=len(char2index), hidden_dim=64, \n",
        "               ngrams=[2,3,4], seq_len=12, n_classes=4, keep_proba=0.5):\n",
        "\n",
        "    super().__init__()\n",
        "\n",
        "    self.vocab_size = vocab_size\n",
        "    self.embedding_dim = embedding_dim\n",
        "    self.hidden_dim = hidden_dim\n",
        "\n",
        "    self.dropout = nn.Dropout(p=keep_proba)\n",
        "\n",
        "    self.embedding_layer = nn.Embedding(num_embeddings=self.vocab_size, \\\n",
        "                                        embedding_dim=self.embedding_dim)\n",
        "    \n",
        "    self.lstm_layer = nn.LSTM(self.embedding_dim, self.hidden_dim, batch_first=True, bidirectional=True)\n",
        "\n",
        "    # Attention layers\n",
        "    self.key = nn.Linear(in_features=self.hidden_dim*2, out_features=self.hidden_dim*2)\n",
        "    self.query = nn.Linear(in_features=self.hidden_dim*2, out_features=self.hidden_dim*2)\n",
        "    self.value = nn.Linear(in_features=self.hidden_dim*2, out_features=self.hidden_dim*2)\n",
        "\n",
        "    self.convs = nn.ModuleList([nn.Conv1d(in_channels=self.hidden_dim*2, \n",
        "                                          out_channels=self.hidden_dim, \n",
        "                                          kernel_size=n) for n in ngrams])\n",
        "    \n",
        "    self.pooling = nn.ModuleList([nn.MaxPool1d(kernel_size=seq_len-n+1) for n in ngrams])\n",
        "    self.linear = nn.Linear(in_features=len(ngrams) * self.hidden_dim, out_features=n_classes)\n",
        "    self.sigmoid = nn.Sigmoid()\n",
        "\n",
        "  def forward(self, x):\n",
        "    x = self.embedding_layer(x)\n",
        "    lstm_x, mem = self.lstm_layer(x)\n",
        "\n",
        "    x_key = self.key(lstm_x)\n",
        "    x_query = self.query(lstm_x)\n",
        "    x_value = self.value(lstm_x)\n",
        "\n",
        "    attention_scores = torch.bmm(x_query, x_key.transpose(1, 2)) / self.hidden_dim\n",
        "    attention_distribution = torch.nn.functional.softmax(attention_scores, dim=2)\n",
        "\n",
        "    x_attn = torch.bmm(attention_distribution, x_value)\n",
        "    x_transposed = x_attn.transpose(1, 2)\n",
        "\n",
        "    # lstm_transposed = lstm_x.transpose(1,2)\n",
        "    # conved = [conv(lstm_transposed) for conv in self.convs]\n",
        "    conved = [conv(x_transposed) for conv in self.convs]\n",
        "    pooled = [pool(conv).squeeze(-1) for pool, conv in zip(self.pooling, conved)]\n",
        "    cat = self.dropout(torch.cat(pooled, 1))\n",
        "    out = self.linear(cat)\n",
        "\n",
        "    return self.sigmoid(out)"
      ],
      "execution_count": 0,
      "outputs": []
    },
    {
      "cell_type": "code",
      "metadata": {
        "id": "Ya_HMsZrY5Dd",
        "colab_type": "code",
        "colab": {}
      },
      "source": [
        "def score_model(preds, targets, thresholds=[0.4, 0.4, 0.4, 0.4]):\n",
        "  precisions, recalls, fscores = [], [], []\n",
        "  for pred, target in zip(preds, targets):\n",
        "    tp, fp, tn, fn = [], [], [], []\n",
        "    for class_idx in range(len(pred)):\n",
        "\n",
        "      class_is_predicted = pred[class_idx] >= thresholds[class_idx]\n",
        "      class_is_required = bool(target[class_idx])\n",
        "      if class_is_predicted:\n",
        "        if class_is_required:\n",
        "          tp.append(class_idx)\n",
        "        else:\n",
        "          fp.append(class_idx)\n",
        "      else:\n",
        "        if not class_is_required:\n",
        "          tn.append(class_idx)\n",
        "        else:\n",
        "          fn.append(class_idx)\n",
        "\n",
        "    precision = len(tp) / (len(tp) + len(fp)) if any((tp, fp)) else 0\n",
        "    recall = len(tp) / (len(tp) + len(fn)) if any((tp, fn)) else 0\n",
        "    fscore = 2 * precision* recall / (precision + recall) if any((precision, recall)) else 0\n",
        "\n",
        "    precisions.append(precision)\n",
        "    recalls.append(recall)\n",
        "    fscores.append(fscore)\n",
        "\n",
        "  return np.mean(precisions), np.mean(recalls), np.mean(fscores)"
      ],
      "execution_count": 0,
      "outputs": []
    },
    {
      "cell_type": "code",
      "metadata": {
        "id": "AlbUKkWFEwWe",
        "colab_type": "code",
        "colab": {}
      },
      "source": [
        "model = POSTagger()\n",
        "\n",
        "criterion = nn.BCELoss(weight=weights)\n",
        "optimizer = torch.optim.Adam(params=model.parameters())"
      ],
      "execution_count": 0,
      "outputs": []
    },
    {
      "cell_type": "code",
      "metadata": {
        "id": "-XH15CwcFAKe",
        "colab_type": "code",
        "outputId": "c0a4fdb6-dcc2-4ca4-856c-28f81195f5f8",
        "colab": {
          "base_uri": "https://localhost:8080/",
          "height": 374
        }
      },
      "source": [
        "epochs = 15\n",
        "losses = []\n",
        "best_test_loss = 10.\n",
        "\n",
        "for n_epoch in range(epochs):\n",
        "    precisions, recalls, fscores = [], [], []\n",
        "    train_losses = []\n",
        "    test_losses = []\n",
        "    test_preds = []\n",
        "    test_targets = []\n",
        "    test_pred_class = []\n",
        "    \n",
        "    progress_bar = tqdm(total=len(train_data_loader.dataset), desc='Epoch {}'.format(n_epoch + 1))\n",
        "    \n",
        "    for x, y in train_data_loader:     \n",
        "        optimizer.zero_grad()\n",
        "        \n",
        "        pred = model(x)\n",
        "        loss = criterion(pred, y)\n",
        "        \n",
        "        loss.backward()\n",
        "        \n",
        "        optimizer.step()\n",
        "        \n",
        "        train_losses.append(loss.item())\n",
        "        losses.append(loss.item())\n",
        "        \n",
        "        progress_bar.set_postfix(train_loss = np.mean(losses[-500:]))\n",
        "\n",
        "        progress_bar.update(x.shape[0])\n",
        "        \n",
        "    progress_bar.close()\n",
        "    \n",
        "    for x, y in test_data_loader:\n",
        "      with torch.no_grad():\n",
        "            \n",
        "        pred = model(x)\n",
        "        loss = criterion(pred, y)\n",
        "\n",
        "        test_losses.append(loss.item())\n",
        "\n",
        "        precision, recall, fscore = score_model(pred, y)\n",
        "\n",
        "        precisions.append(precision)\n",
        "        recalls.append(recall)\n",
        "        fscores.append(fscore)\n",
        "\n",
        "    mean_test_loss = np.mean(test_losses)\n",
        "\n",
        "    precision = np.mean(precisions)\n",
        "    recall = np.mean(recalls)\n",
        "    fscore = np.mean(fscores)\n",
        "    \n",
        "    print()\n",
        "    print('Losses: train - {:.3f}, test - {:.3f}'.format(np.mean(train_losses), mean_test_loss))\n",
        "\n",
        "    print('Test: precision - {:.3f}, recall - {:.3f}, fscore - {:.3f}'.format(precision, recall, fscore))\n",
        "\n",
        "    if mean_test_loss < best_test_loss:\n",
        "        best_test_loss = mean_test_loss\n",
        "    else:\n",
        "        print('Early stopping')\n",
        "        break"
      ],
      "execution_count": 240,
      "outputs": [
        {
          "output_type": "stream",
          "text": [
            "Epoch 1: 100%|██████████| 44707/44707 [00:28<00:00, 1551.81it/s, train_loss=0.924]\n",
            "Epoch 2:   0%|          | 192/44707 [00:00<00:28, 1564.31it/s, train_loss=0.929]"
          ],
          "name": "stderr"
        },
        {
          "output_type": "stream",
          "text": [
            "\n",
            "Losses: train - 1.047, test - 0.641\n",
            "Test: precision - 0.704, recall - 0.711, fscore - 0.703\n"
          ],
          "name": "stdout"
        },
        {
          "output_type": "stream",
          "text": [
            "Epoch 2: 100%|██████████| 44707/44707 [00:28<00:00, 1526.99it/s, train_loss=0.816]\n",
            "Epoch 3:   1%|          | 256/44707 [00:00<00:28, 1587.14it/s, train_loss=0.82]"
          ],
          "name": "stderr"
        },
        {
          "output_type": "stream",
          "text": [
            "\n",
            "Losses: train - 0.902, test - 0.590\n",
            "Test: precision - 0.745, recall - 0.773, fscore - 0.751\n"
          ],
          "name": "stdout"
        },
        {
          "output_type": "stream",
          "text": [
            "Epoch 3: 100%|██████████| 44707/44707 [00:28<00:00, 1584.14it/s, train_loss=0.764]\n",
            "Epoch 4:   0%|          | 192/44707 [00:00<00:29, 1494.27it/s, train_loss=0.768]"
          ],
          "name": "stderr"
        },
        {
          "output_type": "stream",
          "text": [
            "\n",
            "Losses: train - 0.838, test - 0.589\n",
            "Test: precision - 0.753, recall - 0.774, fscore - 0.757\n"
          ],
          "name": "stdout"
        },
        {
          "output_type": "stream",
          "text": [
            "Epoch 4: 100%|██████████| 44707/44707 [00:27<00:00, 1608.16it/s, train_loss=0.723]\n",
            "Epoch 5:   0%|          | 192/44707 [00:00<00:28, 1544.82it/s, train_loss=0.727]"
          ],
          "name": "stderr"
        },
        {
          "output_type": "stream",
          "text": [
            "\n",
            "Losses: train - 0.791, test - 0.585\n",
            "Test: precision - 0.756, recall - 0.773, fscore - 0.758\n"
          ],
          "name": "stdout"
        },
        {
          "output_type": "stream",
          "text": [
            "Epoch 5: 100%|██████████| 44707/44707 [00:27<00:00, 1595.50it/s, train_loss=0.679]\n"
          ],
          "name": "stderr"
        },
        {
          "output_type": "stream",
          "text": [
            "\n",
            "Losses: train - 0.745, test - 0.595\n",
            "Test: precision - 0.760, recall - 0.775, fscore - 0.762\n",
            "Early stopping\n"
          ],
          "name": "stdout"
        }
      ]
    }
  ]
}