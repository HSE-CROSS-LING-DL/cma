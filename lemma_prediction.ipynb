{
  "nbformat": 4,
  "nbformat_minor": 0,
  "metadata": {
    "accelerator": "GPU",
    "colab": {
      "name": "lemma_prediction.ipynb",
      "provenance": [],
      "collapsed_sections": []
    },
    "kernelspec": {
      "name": "python3",
      "display_name": "Python 3"
    },
    "language_info": {
      "codemirror_mode": {
        "name": "ipython",
        "version": 3
      },
      "file_extension": ".py",
      "mimetype": "text/x-python",
      "name": "python",
      "nbconvert_exporter": "python",
      "pygments_lexer": "ipython3",
      "version": "3.7.4"
    }
  },
  "cells": [
    {
      "cell_type": "code",
      "metadata": {
        "colab_type": "code",
        "id": "BVLciLNFwPM6",
        "colab": {}
      },
      "source": [
        "!wget -q https://raw.githubusercontent.com/HSE-CROSS-LING-DL/cma/master/data/trk-uncovered-train-transliterated.csv -O train.csv\n",
        "!wget -q https://raw.githubusercontent.com/HSE-CROSS-LING-DL/cma/master/data/trk-uncovered-test-transliterated.csv -O test.csv\n",
        "!wget -q https://raw.githubusercontent.com/HSE-CROSS-LING-DL/cma/master/data/trk-uncovered-dev-transliterated.csv -O dev.csv"
      ],
      "execution_count": 0,
      "outputs": []
    },
    {
      "cell_type": "code",
      "metadata": {
        "colab_type": "code",
        "id": "6cbfFqc8wqIN",
        "colab": {}
      },
      "source": [
        "import pandas as pd\n",
        "from tqdm import tqdm\n",
        "import torch\n",
        "import torch.nn as nn\n",
        "from torch import optim\n",
        "import torch.nn.functional as F"
      ],
      "execution_count": 0,
      "outputs": []
    },
    {
      "cell_type": "code",
      "metadata": {
        "id": "wu7qJKzPVH0q",
        "colab_type": "code",
        "outputId": "790ad1bd-525b-4e6e-df4d-635c2c194a31",
        "colab": {
          "base_uri": "https://localhost:8080/",
          "height": 190
        }
      },
      "source": [
        "!head test.csv"
      ],
      "execution_count": 3,
      "outputs": [
        {
          "output_type": "stream",
          "text": [
            "lang,word,lemma,pos,morph\n",
            "krc,джыл,джыл,NOUN,Case=Nom\n",
            "krc,эм,эм,ADV,_\n",
            "krc,эм,эм,NOUN,Case=Nom\n",
            "krc,джылны,джыл,NOUN,Case=Acc\n",
            "krc,джылны,джыл,NOUN,Case=Gen\n",
            "krc,болгъанды,бол,VERB,Number=Sing|Person=3|Tense=Past|Valency=1|VerbForm=Fin\n",
            "krc,болгъанды,бол,VERB,Case=Nom|Tense=Past|Valency=1|VerbForm=Vnoun\n",
            "krc,дери,де,VERB,\"Case=Nom|Number[psor]=Sing,Plur|Person[psor]=3|Tense=Aor|Valency=2|VerbForm=Vnoun\"\n",
            "krc,кёре,кёр,VERB,Aspect=Impf|Valency=2|VerbForm=Conv\n"
          ],
          "name": "stdout"
        }
      ]
    },
    {
      "cell_type": "code",
      "metadata": {
        "colab_type": "code",
        "id": "sk9ByVKVxDA6",
        "colab": {}
      },
      "source": [
        "train_ = pd.read_csv('train.csv')\n",
        "dev = pd.read_csv(\"dev.csv\")\n",
        "test = pd.read_csv('test.csv', sep=\",\")\n",
        "data = train_[train_.lang!=\"bak\"]"
      ],
      "execution_count": 0,
      "outputs": []
    },
    {
      "cell_type": "code",
      "metadata": {
        "colab_type": "code",
        "id": "DxabTNWpdvQ2",
        "outputId": "5dbae2fd-3d02-4739-ecab-a9503fae01ad",
        "colab": {
          "base_uri": "https://localhost:8080/",
          "height": 34
        }
      },
      "source": [
        "data.shape"
      ],
      "execution_count": 5,
      "outputs": [
        {
          "output_type": "execute_result",
          "data": {
            "text/plain": [
              "(64637, 5)"
            ]
          },
          "metadata": {
            "tags": []
          },
          "execution_count": 5
        }
      ]
    },
    {
      "cell_type": "code",
      "metadata": {
        "colab_type": "code",
        "id": "Ld2jRMn521iy",
        "outputId": "7ce07cbd-3bb6-40d2-b9c6-fe9dedae5be0",
        "colab": {
          "base_uri": "https://localhost:8080/",
          "height": 34
        }
      },
      "source": [
        "data = data.dropna()\n",
        "data = data.reset_index(drop=True)\n",
        "data.shape"
      ],
      "execution_count": 6,
      "outputs": [
        {
          "output_type": "execute_result",
          "data": {
            "text/plain": [
              "(64637, 5)"
            ]
          },
          "metadata": {
            "tags": []
          },
          "execution_count": 6
        }
      ]
    },
    {
      "cell_type": "code",
      "metadata": {
        "colab_type": "code",
        "id": "RG24GN92xGOT",
        "outputId": "f6766062-acaf-4063-887d-bc3345130e99",
        "colab": {
          "base_uri": "https://localhost:8080/",
          "height": 34
        }
      },
      "source": [
        "test = test.dropna()\n",
        "test = test.reset_index(drop=True)\n",
        "test.shape"
      ],
      "execution_count": 7,
      "outputs": [
        {
          "output_type": "execute_result",
          "data": {
            "text/plain": [
              "(12926, 5)"
            ]
          },
          "metadata": {
            "tags": []
          },
          "execution_count": 7
        }
      ]
    },
    {
      "cell_type": "code",
      "metadata": {
        "id": "I1kyf8_vgkGi",
        "colab_type": "code",
        "outputId": "d1664cdc-1025-4952-abb5-c474d05e3024",
        "colab": {
          "base_uri": "https://localhost:8080/",
          "height": 34
        }
      },
      "source": [
        "dev = dev.dropna()\n",
        "dev = dev.reset_index(drop=True)\n",
        "dev.shape"
      ],
      "execution_count": 8,
      "outputs": [
        {
          "output_type": "execute_result",
          "data": {
            "text/plain": [
              "(1245, 5)"
            ]
          },
          "metadata": {
            "tags": []
          },
          "execution_count": 8
        }
      ]
    },
    {
      "cell_type": "markdown",
      "metadata": {
        "id": "QsTmSChS3bRY",
        "colab_type": "text"
      },
      "source": [
        "### Additional preprocessing: reducing output features"
      ]
    },
    {
      "cell_type": "code",
      "metadata": {
        "id": "MUDEd1IYEaPY",
        "colab_type": "code",
        "colab": {}
      },
      "source": [
        "post = {\n",
        "    \"2\": \"\",\n",
        "    \"j\": \"й\",\n",
        "    \"c\": \"с\",\n",
        "    \"j\": \"ж\",\n",
        "    'ö': \"ё\",\n",
        "    \"ü\": \"ю\",\n",
        "    \"ğ\": \"г\",\n",
        "    \"ş\": \"ш\",\n",
        "    \"і\": \"и\",\n",
        "    \"ı\": \"ы\",\n",
        "    \"қ\": \"к\",\n",
        "    \"ң\": \"н\",\n",
        "    \"ҫ\": \"ч\",\n",
        "    \"ұ\": \"у\",\n",
        "    \"ү\": \"у\",\n",
        "    \"ә\": \"\",\n",
        "    'ө': \"ё\",\n",
        "    \"ё\": \"е\",\n",
        "    \"w\": \"в\",\n",
        "    \"â\": \"а\",\n",
        "    \"u\": \"у\",\n",
        "    \"î\": \"и\"\n",
        "}\n",
        "\n",
        "def p(word):\n",
        "    for char in post:\n",
        "        word = word.replace(char, post[char])\n",
        "    return word\n",
        "\n",
        "def convert(word):\n",
        "    chars = [char.strip() for char in word.replace(\"ъ\", \"\").strip()]\n",
        "    word = [char2index[char] if char in char2index else char2index[\"UNK\"] for char in chars]\n",
        "    return word"
      ],
      "execution_count": 0,
      "outputs": []
    },
    {
      "cell_type": "code",
      "metadata": {
        "id": "pcai0lKc4dPY",
        "colab_type": "code",
        "outputId": "e1eb8f9e-f775-4c29-bccb-41a795462ef5",
        "colab": {
          "base_uri": "https://localhost:8080/",
          "height": 34
        }
      },
      "source": [
        "char2index = {\"PAD\": 0, \"EOS\": 1, \"UNK\": 2}\n",
        "lengths = []\n",
        "\n",
        "\n",
        "for word in tqdm(\n",
        "    list(data.word.map(lambda x: p(x))) + \n",
        "    list(data.lemma.map(lambda x: p(x)))):\n",
        "    l = len(word)\n",
        "    lengths.append(l)\n",
        "    for char in word:\n",
        "        if char not in char2index:\n",
        "            char2index[char] = len(char2index)"
      ],
      "execution_count": 10,
      "outputs": [
        {
          "output_type": "stream",
          "text": [
            "100%|██████████| 129274/129274 [00:00<00:00, 780134.38it/s]\n"
          ],
          "name": "stderr"
        }
      ]
    },
    {
      "cell_type": "code",
      "metadata": {
        "id": "UsUMCXmtd9XU",
        "colab_type": "code",
        "colab": {
          "base_uri": "https://localhost:8080/",
          "height": 34
        },
        "outputId": "4e4821b0-ea3e-4578-871d-ce3475382bb6"
      },
      "source": [
        "test_lengths = []\n",
        "\n",
        "for word in tqdm(\n",
        "    set(test.word).union(set(test.lemma))\n",
        "    ):\n",
        "    l = len(word)\n",
        "    test_lengths.append(l)"
      ],
      "execution_count": 11,
      "outputs": [
        {
          "output_type": "stream",
          "text": [
            "100%|██████████| 9232/9232 [00:00<00:00, 1738665.28it/s]\n"
          ],
          "name": "stderr"
        }
      ]
    },
    {
      "cell_type": "code",
      "metadata": {
        "colab_type": "code",
        "id": "zVQkyec02-L6",
        "outputId": "71c11e54-8a5d-4537-ad4a-cca77d1d74f4",
        "colab": {
          "base_uri": "https://localhost:8080/",
          "height": 206
        }
      },
      "source": [
        "data = data[[\"lang\", \"word\", \"lemma\"]]\n",
        "data[\"word2char\"] = data.word.map(lambda x: p(x)).apply(convert)\n",
        "data[\"lemma2char\"] = data.lemma.map(lambda x: p(x)).apply(convert)\n",
        "data.head()"
      ],
      "execution_count": 12,
      "outputs": [
        {
          "output_type": "execute_result",
          "data": {
            "text/html": [
              "<div>\n",
              "<style scoped>\n",
              "    .dataframe tbody tr th:only-of-type {\n",
              "        vertical-align: middle;\n",
              "    }\n",
              "\n",
              "    .dataframe tbody tr th {\n",
              "        vertical-align: top;\n",
              "    }\n",
              "\n",
              "    .dataframe thead th {\n",
              "        text-align: right;\n",
              "    }\n",
              "</style>\n",
              "<table border=\"1\" class=\"dataframe\">\n",
              "  <thead>\n",
              "    <tr style=\"text-align: right;\">\n",
              "      <th></th>\n",
              "      <th>lang</th>\n",
              "      <th>word</th>\n",
              "      <th>lemma</th>\n",
              "      <th>word2char</th>\n",
              "      <th>lemma2char</th>\n",
              "    </tr>\n",
              "  </thead>\n",
              "  <tbody>\n",
              "    <tr>\n",
              "      <th>0</th>\n",
              "      <td>tat</td>\n",
              "      <td>казак</td>\n",
              "      <td>казак</td>\n",
              "      <td>[3, 4, 5, 4, 3]</td>\n",
              "      <td>[3, 4, 5, 4, 3]</td>\n",
              "    </tr>\n",
              "    <tr>\n",
              "      <th>1</th>\n",
              "      <td>tur</td>\n",
              "      <td>мuамеле</td>\n",
              "      <td>мuамеле</td>\n",
              "      <td>[6, 7, 4, 6, 8, 9, 8]</td>\n",
              "      <td>[6, 7, 4, 6, 8, 9, 8]</td>\n",
              "    </tr>\n",
              "    <tr>\n",
              "      <th>2</th>\n",
              "      <td>tat</td>\n",
              "      <td>заманы</td>\n",
              "      <td>заман</td>\n",
              "      <td>[5, 4, 6, 4, 10, 11]</td>\n",
              "      <td>[5, 4, 6, 4, 10]</td>\n",
              "    </tr>\n",
              "    <tr>\n",
              "      <th>3</th>\n",
              "      <td>tur</td>\n",
              "      <td>конuт</td>\n",
              "      <td>конuт</td>\n",
              "      <td>[3, 12, 10, 7, 13]</td>\n",
              "      <td>[3, 12, 10, 7, 13]</td>\n",
              "    </tr>\n",
              "    <tr>\n",
              "      <th>4</th>\n",
              "      <td>tur</td>\n",
              "      <td>корuмасы</td>\n",
              "      <td>корu</td>\n",
              "      <td>[3, 12, 14, 7, 6, 4, 15, 11]</td>\n",
              "      <td>[3, 12, 14, 7]</td>\n",
              "    </tr>\n",
              "  </tbody>\n",
              "</table>\n",
              "</div>"
            ],
            "text/plain": [
              "  lang      word    lemma                     word2char             lemma2char\n",
              "0  tat     казак    казак               [3, 4, 5, 4, 3]        [3, 4, 5, 4, 3]\n",
              "1  tur   мuамеле  мuамеле         [6, 7, 4, 6, 8, 9, 8]  [6, 7, 4, 6, 8, 9, 8]\n",
              "2  tat    заманы    заман          [5, 4, 6, 4, 10, 11]       [5, 4, 6, 4, 10]\n",
              "3  tur     конuт    конuт            [3, 12, 10, 7, 13]     [3, 12, 10, 7, 13]\n",
              "4  tur  корuмасы     корu  [3, 12, 14, 7, 6, 4, 15, 11]         [3, 12, 14, 7]"
            ]
          },
          "metadata": {
            "tags": []
          },
          "execution_count": 12
        }
      ]
    },
    {
      "cell_type": "code",
      "metadata": {
        "id": "5gvK3UGDgq4e",
        "colab_type": "code",
        "outputId": "3fcce9b4-6603-4743-c5e0-c34cfb9f6073",
        "colab": {
          "base_uri": "https://localhost:8080/",
          "height": 206
        }
      },
      "source": [
        "dev = dev[[\"lang\", \"word\", \"lemma\"]]\n",
        "dev[\"word2char\"] = dev.word.map(lambda x: p(x)).apply(convert)\n",
        "dev[\"lemma2char\"] = dev.lemma.map(lambda x: p(x)).apply(convert)\n",
        "dev.head()"
      ],
      "execution_count": 13,
      "outputs": [
        {
          "output_type": "execute_result",
          "data": {
            "text/html": [
              "<div>\n",
              "<style scoped>\n",
              "    .dataframe tbody tr th:only-of-type {\n",
              "        vertical-align: middle;\n",
              "    }\n",
              "\n",
              "    .dataframe tbody tr th {\n",
              "        vertical-align: top;\n",
              "    }\n",
              "\n",
              "    .dataframe thead th {\n",
              "        text-align: right;\n",
              "    }\n",
              "</style>\n",
              "<table border=\"1\" class=\"dataframe\">\n",
              "  <thead>\n",
              "    <tr style=\"text-align: right;\">\n",
              "      <th></th>\n",
              "      <th>lang</th>\n",
              "      <th>word</th>\n",
              "      <th>lemma</th>\n",
              "      <th>word2char</th>\n",
              "      <th>lemma2char</th>\n",
              "    </tr>\n",
              "  </thead>\n",
              "  <tbody>\n",
              "    <tr>\n",
              "      <th>0</th>\n",
              "      <td>crh</td>\n",
              "      <td>егленcелер</td>\n",
              "      <td>егленcе</td>\n",
              "      <td>[8, 20, 9, 8, 10, 15, 8, 9, 8, 14]</td>\n",
              "      <td>[8, 20, 9, 8, 10, 15, 8]</td>\n",
              "    </tr>\n",
              "    <tr>\n",
              "      <th>1</th>\n",
              "      <td>crh</td>\n",
              "      <td>сüргüнликниң</td>\n",
              "      <td>сüргüнлик</td>\n",
              "      <td>[15, 28, 14, 20, 28, 10, 9, 24, 3, 10, 24, 10]</td>\n",
              "      <td>[15, 28, 14, 20, 28, 10, 9, 24, 3]</td>\n",
              "    </tr>\n",
              "    <tr>\n",
              "      <th>2</th>\n",
              "      <td>crh</td>\n",
              "      <td>монархийада</td>\n",
              "      <td>монархийа</td>\n",
              "      <td>[6, 12, 10, 4, 14, 32, 24, 27, 4, 16, 4]</td>\n",
              "      <td>[6, 12, 10, 4, 14, 32, 24, 27, 4]</td>\n",
              "    </tr>\n",
              "    <tr>\n",
              "      <th>3</th>\n",
              "      <td>crh</td>\n",
              "      <td>кöстергенлери</td>\n",
              "      <td>кöстер</td>\n",
              "      <td>[3, 8, 15, 13, 8, 14, 20, 8, 10, 9, 8, 14, 24]</td>\n",
              "      <td>[3, 8, 15, 13, 8, 14]</td>\n",
              "    </tr>\n",
              "    <tr>\n",
              "      <th>4</th>\n",
              "      <td>crh</td>\n",
              "      <td>öксüз</td>\n",
              "      <td>öксüз</td>\n",
              "      <td>[8, 3, 15, 28, 5]</td>\n",
              "      <td>[8, 3, 15, 28, 5]</td>\n",
              "    </tr>\n",
              "  </tbody>\n",
              "</table>\n",
              "</div>"
            ],
            "text/plain": [
              "  lang  ...                          lemma2char\n",
              "0  crh  ...            [8, 20, 9, 8, 10, 15, 8]\n",
              "1  crh  ...  [15, 28, 14, 20, 28, 10, 9, 24, 3]\n",
              "2  crh  ...   [6, 12, 10, 4, 14, 32, 24, 27, 4]\n",
              "3  crh  ...               [3, 8, 15, 13, 8, 14]\n",
              "4  crh  ...                   [8, 3, 15, 28, 5]\n",
              "\n",
              "[5 rows x 5 columns]"
            ]
          },
          "metadata": {
            "tags": []
          },
          "execution_count": 13
        }
      ]
    },
    {
      "cell_type": "code",
      "metadata": {
        "colab_type": "code",
        "id": "4bMlaNmr_fAo",
        "outputId": "c85e15fb-76de-4ff3-b1a2-50eb1cac5e81",
        "colab": {
          "base_uri": "https://localhost:8080/",
          "height": 206
        }
      },
      "source": [
        "test = test[[\"lang\", \"word\", \"lemma\"]]\n",
        "test[\"word2char\"] = test.word.map(lambda x: p(x)).apply(convert)\n",
        "test[\"lemma2char\"] = test.lemma.map(lambda x: p(x)).apply(convert)\n",
        "test.head()"
      ],
      "execution_count": 14,
      "outputs": [
        {
          "output_type": "execute_result",
          "data": {
            "text/html": [
              "<div>\n",
              "<style scoped>\n",
              "    .dataframe tbody tr th:only-of-type {\n",
              "        vertical-align: middle;\n",
              "    }\n",
              "\n",
              "    .dataframe tbody tr th {\n",
              "        vertical-align: top;\n",
              "    }\n",
              "\n",
              "    .dataframe thead th {\n",
              "        text-align: right;\n",
              "    }\n",
              "</style>\n",
              "<table border=\"1\" class=\"dataframe\">\n",
              "  <thead>\n",
              "    <tr style=\"text-align: right;\">\n",
              "      <th></th>\n",
              "      <th>lang</th>\n",
              "      <th>word</th>\n",
              "      <th>lemma</th>\n",
              "      <th>word2char</th>\n",
              "      <th>lemma2char</th>\n",
              "    </tr>\n",
              "  </thead>\n",
              "  <tbody>\n",
              "    <tr>\n",
              "      <th>0</th>\n",
              "      <td>krc</td>\n",
              "      <td>джыл</td>\n",
              "      <td>джыл</td>\n",
              "      <td>[16, 17, 11, 9]</td>\n",
              "      <td>[16, 17, 11, 9]</td>\n",
              "    </tr>\n",
              "    <tr>\n",
              "      <th>1</th>\n",
              "      <td>krc</td>\n",
              "      <td>эм</td>\n",
              "      <td>эм</td>\n",
              "      <td>[22, 6]</td>\n",
              "      <td>[22, 6]</td>\n",
              "    </tr>\n",
              "    <tr>\n",
              "      <th>2</th>\n",
              "      <td>krc</td>\n",
              "      <td>эм</td>\n",
              "      <td>эм</td>\n",
              "      <td>[22, 6]</td>\n",
              "      <td>[22, 6]</td>\n",
              "    </tr>\n",
              "    <tr>\n",
              "      <th>3</th>\n",
              "      <td>krc</td>\n",
              "      <td>джылны</td>\n",
              "      <td>джыл</td>\n",
              "      <td>[16, 17, 11, 9, 10, 11]</td>\n",
              "      <td>[16, 17, 11, 9]</td>\n",
              "    </tr>\n",
              "    <tr>\n",
              "      <th>4</th>\n",
              "      <td>krc</td>\n",
              "      <td>джылны</td>\n",
              "      <td>джыл</td>\n",
              "      <td>[16, 17, 11, 9, 10, 11]</td>\n",
              "      <td>[16, 17, 11, 9]</td>\n",
              "    </tr>\n",
              "  </tbody>\n",
              "</table>\n",
              "</div>"
            ],
            "text/plain": [
              "  lang    word lemma                word2char       lemma2char\n",
              "0  krc    джыл  джыл          [16, 17, 11, 9]  [16, 17, 11, 9]\n",
              "1  krc      эм    эм                  [22, 6]          [22, 6]\n",
              "2  krc      эм    эм                  [22, 6]          [22, 6]\n",
              "3  krc  джылны  джыл  [16, 17, 11, 9, 10, 11]  [16, 17, 11, 9]\n",
              "4  krc  джылны  джыл  [16, 17, 11, 9, 10, 11]  [16, 17, 11, 9]"
            ]
          },
          "metadata": {
            "tags": []
          },
          "execution_count": 14
        }
      ]
    },
    {
      "cell_type": "code",
      "metadata": {
        "id": "dtH70p85w2yG",
        "colab_type": "code",
        "outputId": "8c17fbd4-fbeb-4c84-c985-2060639d52cb",
        "colab": {
          "base_uri": "https://localhost:8080/",
          "height": 294
        }
      },
      "source": [
        "from matplotlib import pyplot as plt\n",
        "import numpy as np\n",
        "\n",
        "\n",
        "plt.title('Распределение длин слов: train')\n",
        "plt.xlabel('Длина слова')\n",
        "plt.hist(lengths)\n",
        "plt.show()"
      ],
      "execution_count": 15,
      "outputs": [
        {
          "output_type": "display_data",
          "data": {
            "image/png": "[encoded data removed]",
            "text/plain": [
              "<Figure size 432x288 with 1 Axes>"
            ]
          },
          "metadata": {
            "tags": []
          }
        }
      ]
    },
    {
      "cell_type": "code",
      "metadata": {
        "id": "jmkYHA0-d7zw",
        "colab_type": "code",
        "colab": {
          "base_uri": "https://localhost:8080/",
          "height": 34
        },
        "outputId": "4bac114c-e5de-4966-faf1-86df009a9e54"
      },
      "source": [
        "# test\n",
        "lengths = np.array([test_lengths])\n",
        "np.percentile(test_lengths, q=95)"
      ],
      "execution_count": 16,
      "outputs": [
        {
          "output_type": "execute_result",
          "data": {
            "text/plain": [
              "13.0"
            ]
          },
          "metadata": {
            "tags": []
          },
          "execution_count": 16
        }
      ]
    },
    {
      "cell_type": "code",
      "metadata": {
        "id": "PcwximnUerED",
        "colab_type": "code",
        "colab": {
          "base_uri": "https://localhost:8080/",
          "height": 294
        },
        "outputId": "4977cb28-a765-4d69-8a43-807db507d14e"
      },
      "source": [
        "plt.title('Распределение длин слов: test')\n",
        "plt.xlabel('Длина слова')\n",
        "plt.hist(test_lengths)\n",
        "plt.show()"
      ],
      "execution_count": 17,
      "outputs": [
        {
          "output_type": "display_data",
          "data": {
            "image/png": "[encoded data removed]",
            "text/plain": [
              "<Figure size 432x288 with 1 Axes>"
            ]
          },
          "metadata": {
            "tags": []
          }
        }
      ]
    },
    {
      "cell_type": "markdown",
      "metadata": {
        "colab_type": "text",
        "id": "CfDzMkKBrR_L"
      },
      "source": [
        "## Data Loader"
      ]
    },
    {
      "cell_type": "code",
      "metadata": {
        "colab_type": "code",
        "id": "YcIcfh7krTpr",
        "colab": {}
      },
      "source": [
        "import torch\n",
        "from torch.utils.data import Dataset, DataLoader\n",
        "from torch import nn\n",
        "import numpy as np\n",
        "from sklearn.metrics import *\n",
        "\n",
        "\n",
        "class CharLevelData(Dataset):\n",
        "    def __init__(self, x_data, y_data, x_len, y_len, pad_index, eos_index):\n",
        "        super(CharLevelData, self).__init__()\n",
        "        self.x_data = x_data\n",
        "        self.y_data = y_data\n",
        "        self.x_len = x_len\n",
        "        self.y_len = y_len\n",
        "        self.pad_index = pad_index\n",
        "        self.eos_index = eos_index\n",
        "\n",
        "    def __len__(self):\n",
        "        return len(self.x_data)\n",
        "    \n",
        "    def __getitem__(self, index):\n",
        "        encoder_sequence = self.x_data[index][:self.x_len]\n",
        "        decoder_sequence = self.y_data[index][:self.y_len]\n",
        "        \n",
        "        target_sequence = decoder_sequence[:] + [self.eos_index]\n",
        "        decoder_sequence = decoder_sequence[:]\n",
        "        \n",
        "        encoder_pads = [self.pad_index] * (self.x_len - len(encoder_sequence))\n",
        "        decoder_pads = [self.pad_index] * (self.y_len - len(decoder_sequence))\n",
        "        target_pads = [self.pad_index] * (self.y_len - len(decoder_sequence))\n",
        "        \n",
        "        encoder_sequence = torch.tensor(encoder_sequence + encoder_pads).long()\n",
        "        decoder_sequence = torch.tensor(decoder_sequence + decoder_pads).long()\n",
        "        target_sequence = torch.tensor(target_sequence + target_pads).long()\n",
        "        \n",
        "        return encoder_sequence, decoder_sequence, target_sequence"
      ],
      "execution_count": 0,
      "outputs": []
    },
    {
      "cell_type": "code",
      "metadata": {
        "id": "BYp6FTBT49Mv",
        "colab_type": "code",
        "colab": {}
      },
      "source": [
        "pad_index = 0\n",
        "eos_index = 1\n",
        "sos_index = 2\n",
        "x_len = 10\n",
        "y_len = 10"
      ],
      "execution_count": 0,
      "outputs": []
    },
    {
      "cell_type": "code",
      "metadata": {
        "colab_type": "code",
        "id": "qwQ5SqRvvvUb",
        "colab": {}
      },
      "source": [
        "train_dataset = CharLevelData(data.word2char, data.lemma2char, x_len, y_len, pad_index, eos_index)\n",
        "test_dataset = CharLevelData(test.word2char, test.lemma2char, x_len, y_len, pad_index, eos_index)\n",
        "dev_dataset = CharLevelData(dev.word2char, dev.lemma2char, x_len, y_len, pad_index, eos_index)"
      ],
      "execution_count": 0,
      "outputs": []
    },
    {
      "cell_type": "code",
      "metadata": {
        "colab_type": "code",
        "id": "NqDyI6ysxKxI",
        "colab": {}
      },
      "source": [
        "train_loader = DataLoader(train_dataset, batch_size=256, shuffle=True)\n",
        "test_loader = DataLoader(test_dataset, batch_size=256, shuffle=True)\n",
        "dev_loader = DataLoader(dev_dataset, batch_size=256, shuffle=True)"
      ],
      "execution_count": 0,
      "outputs": []
    },
    {
      "cell_type": "markdown",
      "metadata": {
        "colab_type": "text",
        "id": "nQjHAZ3MzBi1"
      },
      "source": [
        "## Модель"
      ]
    },
    {
      "cell_type": "code",
      "metadata": {
        "id": "IHw0x6l1t7Sg",
        "colab_type": "code",
        "colab": {}
      },
      "source": [
        "from tqdm import tqdm_notebook\n",
        "\n",
        "\n",
        "device = torch.device(\"cuda\" if torch.cuda.is_available() else \"cpu\")"
      ],
      "execution_count": 0,
      "outputs": []
    },
    {
      "cell_type": "code",
      "metadata": {
        "id": "TvKTov3SxsTX",
        "colab_type": "code",
        "colab": {}
      },
      "source": [
        "for x, y, z in train_loader:\n",
        "    break"
      ],
      "execution_count": 0,
      "outputs": []
    },
    {
      "cell_type": "code",
      "metadata": {
        "id": "J5LPEceo9jql",
        "colab_type": "code",
        "outputId": "5769c70a-e11a-46ae-b8dd-3e17c16522ab",
        "colab": {
          "base_uri": "https://localhost:8080/",
          "height": 138
        }
      },
      "source": [
        "x"
      ],
      "execution_count": 24,
      "outputs": [
        {
          "output_type": "execute_result",
          "data": {
            "text/plain": [
              "tensor([[17,  4,  5,  ...,  0,  0,  0],\n",
              "        [24, 36, 15,  ..., 15, 13, 24],\n",
              "        [ 4, 21, 11,  ...,  0,  0,  0],\n",
              "        ...,\n",
              "        [18, 11, 34,  ...,  8, 10,  0],\n",
              "        [12,  3, 18,  ...,  0,  0,  0],\n",
              "        [27, 28,  3,  ..., 24,  0,  0]])"
            ]
          },
          "metadata": {
            "tags": []
          },
          "execution_count": 24
        }
      ]
    },
    {
      "cell_type": "code",
      "metadata": {
        "id": "kAQgaxlO9sPy",
        "colab_type": "code",
        "outputId": "c79a3ffd-2fe1-40a6-ae7b-f66d381e559d",
        "colab": {
          "base_uri": "https://localhost:8080/",
          "height": 138
        }
      },
      "source": [
        "y"
      ],
      "execution_count": 25,
      "outputs": [
        {
          "output_type": "execute_result",
          "data": {
            "text/plain": [
              "tensor([[17,  4,  5,  ...,  0,  0,  0],\n",
              "        [24, 36, 15,  ..., 15, 13, 24],\n",
              "        [ 4, 21, 11,  ...,  0,  0,  0],\n",
              "        ...,\n",
              "        [18, 11, 34,  ...,  0,  0,  0],\n",
              "        [12,  3, 18,  ...,  0,  0,  0],\n",
              "        [27, 28,  3,  ...,  0,  0,  0]])"
            ]
          },
          "metadata": {
            "tags": []
          },
          "execution_count": 25
        }
      ]
    },
    {
      "cell_type": "code",
      "metadata": {
        "id": "_n4Tbl19HEfj",
        "colab_type": "code",
        "outputId": "52b63504-4702-4f0e-df4d-f39f75ba6055",
        "colab": {
          "base_uri": "https://localhost:8080/",
          "height": 138
        }
      },
      "source": [
        "z"
      ],
      "execution_count": 26,
      "outputs": [
        {
          "output_type": "execute_result",
          "data": {
            "text/plain": [
              "tensor([[17,  4,  5,  ...,  0,  0,  0],\n",
              "        [24, 36, 15,  ..., 13, 24,  1],\n",
              "        [ 4, 21, 11,  ...,  0,  0,  0],\n",
              "        ...,\n",
              "        [18, 11, 34,  ...,  0,  0,  0],\n",
              "        [12,  3, 18,  ...,  0,  0,  0],\n",
              "        [27, 28,  3,  ...,  0,  0,  0]])"
            ]
          },
          "metadata": {
            "tags": []
          },
          "execution_count": 26
        }
      ]
    },
    {
      "cell_type": "code",
      "metadata": {
        "id": "ILodCHFYHFBT",
        "colab_type": "code",
        "outputId": "604889f5-7ce3-43b0-aee4-c5e592b8fa56",
        "colab": {
          "base_uri": "https://localhost:8080/",
          "height": 34
        }
      },
      "source": [
        "x.shape, y.shape, z.shape"
      ],
      "execution_count": 27,
      "outputs": [
        {
          "output_type": "execute_result",
          "data": {
            "text/plain": [
              "(torch.Size([256, 10]), torch.Size([256, 10]), torch.Size([256, 11]))"
            ]
          },
          "metadata": {
            "tags": []
          },
          "execution_count": 27
        }
      ]
    },
    {
      "cell_type": "code",
      "metadata": {
        "id": "DTY5DIGmxyIs",
        "colab_type": "code",
        "colab": {}
      },
      "source": [
        "config = {\n",
        "    \"embedding_size\": 300,\n",
        "    \"vocab_size\": len(char2index),\n",
        "    \"hidden_size\": 300,\n",
        "    \"num_layers\": 2,\n",
        "    \"dropout\": 0.3,\n",
        "    \"pad_index\": pad_index\n",
        "}\n",
        "\n",
        "\n",
        "def get_model_params(config):\n",
        "    embedding_size = config.get(\"embedding_size\")\n",
        "    vocab_size = config.get(\"vocab_size\")\n",
        "    hidden_size = config.get(\"hidden_size\")\n",
        "    num_layers = config.get(\"num_layers\")\n",
        "    dropout = config.get(\"dropout\")\n",
        "    pad_index = config.get(\"pad_index\")\n",
        "    return embedding_size, vocab_size, hidden_size, num_layers, dropout, pad_index"
      ],
      "execution_count": 0,
      "outputs": []
    },
    {
      "cell_type": "code",
      "metadata": {
        "id": "V5vkHzprxuhF",
        "colab_type": "code",
        "colab": {}
      },
      "source": [
        "embedding_size, vocab_size, hidden_size, num_layers, dropout, pad_index = get_model_params(config)"
      ],
      "execution_count": 0,
      "outputs": []
    },
    {
      "cell_type": "code",
      "metadata": {
        "id": "i_KMsNGv_0LQ",
        "colab_type": "code",
        "colab": {}
      },
      "source": [
        "class SpatialDropout(torch.nn.Dropout2d):\n",
        "    def __init__(self, p=0.5):\n",
        "        super().__init__()\n",
        "        self.p = p\n",
        "    \n",
        "    def forward(self, x):\n",
        "        x = x.unsqueeze(2)    # (N, T, 1, K)\n",
        "        x = x.permute(0, 3, 2, 1)  # (N, K, 1, T)\n",
        "        x = super(SpatialDropout, self).forward(x)  # (N, K, 1, T), some features are masked\n",
        "        x = x.permute(0, 3, 2, 1)  # (N, T, 1, K)\n",
        "        x = x.squeeze(2)  # (N, T, K)\n",
        "        return x\n",
        "\n",
        "\n",
        "class GRULMT(torch.nn.Module):\n",
        "    def __init__(self, embedding_size, vocab_size, hidden_size, num_layers, dropout, pad_index):\n",
        "        super(GRULmt, self).__init__()\n",
        "        self.dropout = dropout\n",
        "        self.embedding_layer = torch.nn.Embedding(vocab_size, embedding_size, pad_index)\n",
        "        self.embedding_dropout = SpatialDropout(p=self.dropout)\n",
        "        self.encoder = torch.nn.GRU(embedding_size, hidden_size, \n",
        "                                    num_layers=num_layers, dropout=self.dropout, batch_first=True,\n",
        "                                    bidirectional=False)\n",
        "        self.decoder = torch.nn.GRU(hidden_size, hidden_size, \n",
        "                                    num_layers=num_layers, dropout=self.dropout, batch_first=True)\n",
        "        self.head = torch.nn.Linear(hidden_size, vocab_size)\n",
        "        \n",
        "    def forward(self, x, y):\n",
        "        x = self.embedding_layer(x)\n",
        "        x = self.embedding_dropout(x)\n",
        "        y = self.embedding_layer(y)\n",
        "\n",
        "        x_hidden, _ = self.encoder(x)\n",
        "        y = torch.cat([x_hidden[:, -1, :].unsqueeze(1), y], dim=1)\n",
        "        \n",
        "        y_hidden, _ = self.decoder(y, _)\n",
        "        prediction = self.head(y_hidden)\n",
        "\n",
        "        return prediction\n",
        "\n",
        "class BiGRULMT(torch.nn.Module):\n",
        "    def __init__(self, embedding_size, vocab_size, hidden_size, num_layers, dropout, pad_index):\n",
        "        super(BiGRULMT, self).__init__()\n",
        "        self.dropout = dropout\n",
        "        self.encoder_embedding = torch.nn.Embedding(vocab_size, embedding_size, pad_index)\n",
        "        self.decoder_embedding = torch.nn.Embedding(vocab_size, embedding_size * 2, pad_index)\n",
        "        self.embedding_dropout = SpatialDropout(p=self.dropout)\n",
        "        self.encoder = torch.nn.GRU(embedding_size, hidden_size, \n",
        "                                    num_layers=num_layers, dropout=self.dropout, batch_first=True,\n",
        "                                    bidirectional=True)\n",
        "        self.decoder = torch.nn.GRU(hidden_size * 2, hidden_size, \n",
        "                                    num_layers=num_layers * 2, dropout=self.dropout, batch_first=True)\n",
        "        self.head = torch.nn.Linear(hidden_size, vocab_size)\n",
        "        \n",
        "    def forward(self, x, y):\n",
        "        x = self.encoder_embedding(x)\n",
        "        x = self.embedding_dropout(x)\n",
        "        y = self.decoder_embedding(y)\n",
        "\n",
        "        x_hidden, _ = self.encoder(x)\n",
        "        y = torch.cat([x_hidden[:, -1, :].unsqueeze(1), y], dim=1)\n",
        "        \n",
        "        y_hidden, _ = self.decoder(y, _)\n",
        "        prediction = self.head(y_hidden)\n",
        "\n",
        "        return prediction"
      ],
      "execution_count": 0,
      "outputs": []
    },
    {
      "cell_type": "code",
      "metadata": {
        "id": "vRQvW_h7A3tT",
        "colab_type": "code",
        "colab": {}
      },
      "source": [
        "def train(model, iterator, criterion, optimizer):\n",
        "    \n",
        "    model.train()\n",
        "\n",
        "    losses_list = []\n",
        "    epoch_loss = 0\n",
        "    progress_bar = tqdm(iterator, total=len(iterator))\n",
        "    \n",
        "    for x, y, z in progress_bar:\n",
        "        \n",
        "        optimizer.zero_grad()\n",
        "        x = x.to(device)\n",
        "        y = y.to(device)\n",
        "        z = z.to(device)\n",
        "\n",
        "        output = model(x, y)\n",
        "\n",
        "        output = output.view(-1, output.size(-1))\n",
        "        z = z.view(-1)\n",
        "        \n",
        "        loss = criterion(output, z)\n",
        "        losses_list.append(loss.item())\n",
        "        \n",
        "        loss.backward()\n",
        "        optimizer.step()\n",
        "        \n",
        "        progress_bar.set_postfix(train_loss = np.mean(losses_list[-500:]))\n",
        "\n",
        "        progress_bar.update(x.shape[0])\n",
        "    progress_bar.close()\n",
        "    return losses_list\n",
        "\n",
        "def bi_train(model, iterator, criterion, encoder_optimizer, decoder_optimizer, clip):\n",
        "    \n",
        "    model.train()\n",
        "\n",
        "    losses_list = []\n",
        "    epoch_loss = 0\n",
        "    progress_bar = tqdm(iterator, total=len(iterator))\n",
        "    \n",
        "    for x, y, z in progress_bar:\n",
        "        \n",
        "        encoder_optimizer.zero_grad()\n",
        "        decoder_optimizer.zero_grad()\n",
        "        x = x.to(device)\n",
        "        y = y.to(device)\n",
        "        z = z.to(device)\n",
        "\n",
        "        output = model(x, y)\n",
        "\n",
        "        output = output.view(-1, output.size(-1))\n",
        "        z = z.view(-1)\n",
        "        \n",
        "        loss = criterion(output, z)\n",
        "        losses_list.append(loss.item())\n",
        "        \n",
        "        loss.backward()\n",
        "        if clip:\n",
        "            torch.nn.utils.clip_grad_norm_(model.parameters(), clip)\n",
        "        encoder_optimizer.step()\n",
        "        decoder_optimizer.step()\n",
        "        \n",
        "        progress_bar.set_postfix(train_loss = np.mean(losses_list[-500:]))\n",
        "\n",
        "        progress_bar.update(x.shape[0])\n",
        "    progress_bar.close()\n",
        "    return losses_list"
      ],
      "execution_count": 0,
      "outputs": []
    },
    {
      "cell_type": "code",
      "metadata": {
        "id": "pT1MGeApA_Jv",
        "colab_type": "code",
        "outputId": "b87691f1-73a4-4f01-a838-b0c0d5bca084",
        "colab": {
          "base_uri": "https://localhost:8080/",
          "height": 156
        }
      },
      "source": [
        "model = BiGRULMT(embedding_size, vocab_size, hidden_size, num_layers, dropout, pad_index)\n",
        "model.to(device)"
      ],
      "execution_count": 32,
      "outputs": [
        {
          "output_type": "execute_result",
          "data": {
            "text/plain": [
              "BiGRULMT(\n",
              "  (encoder_embedding): Embedding(41, 300, padding_idx=0)\n",
              "  (decoder_embedding): Embedding(41, 600, padding_idx=0)\n",
              "  (embedding_dropout): SpatialDropout(p=0.3, inplace=False)\n",
              "  (encoder): GRU(300, 300, num_layers=2, batch_first=True, dropout=0.3, bidirectional=True)\n",
              "  (decoder): GRU(600, 300, num_layers=4, batch_first=True, dropout=0.3)\n",
              "  (head): Linear(in_features=300, out_features=41, bias=True)\n",
              ")"
            ]
          },
          "metadata": {
            "tags": []
          },
          "execution_count": 32
        }
      ]
    },
    {
      "cell_type": "code",
      "metadata": {
        "id": "-4Ou4zzrBFVo",
        "colab_type": "code",
        "colab": {}
      },
      "source": [
        "optimizer = optim.Adam(model.parameters())\n",
        "\n",
        "encoder_optimizer = optim.Adam(model.encoder.parameters())\n",
        "decoder_optimizer = optim.Adam(model.decoder.parameters())\n",
        "\n",
        "criterion = nn.CrossEntropyLoss(ignore_index=pad_index)"
      ],
      "execution_count": 0,
      "outputs": []
    },
    {
      "cell_type": "code",
      "metadata": {
        "id": "WSnXol25S5MC",
        "colab_type": "code",
        "colab": {}
      },
      "source": [
        "# bi_train(model, train_loader, criterion, encoder_optimizer, decoder_optimizer, clip=False)"
      ],
      "execution_count": 0,
      "outputs": []
    },
    {
      "cell_type": "code",
      "metadata": {
        "id": "xvpTyR-o-m9J",
        "colab_type": "code",
        "colab": {}
      },
      "source": [
        "for instance in list(tqdm._instances):\n",
        "    tqdm._decr_instances(instance)"
      ],
      "execution_count": 0,
      "outputs": []
    },
    {
      "cell_type": "code",
      "metadata": {
        "id": "7q3XOeRzA8C9",
        "colab_type": "code",
        "colab": {}
      },
      "source": [
        "index2char = {index: char for char, index in char2index.items()}"
      ],
      "execution_count": 0,
      "outputs": []
    },
    {
      "cell_type": "code",
      "metadata": {
        "id": "1Wa4yb8GAsfw",
        "colab_type": "code",
        "colab": {}
      },
      "source": [
        "def original_input(batch):\n",
        "    original = []\n",
        "    for elem in batch:\n",
        "        original_elem = \"\"\n",
        "        for index in elem:\n",
        "            index = index.tolist()\n",
        "            if index not in (pad_index, eos_index):\n",
        "                original_elem += index2char[index]\n",
        "        original.append(original_elem)\n",
        "    return original\n",
        "\n",
        "\n",
        "def original_output(batch):\n",
        "    original = []\n",
        "    for elem in batch:\n",
        "        elem = elem.argmax(dim=1).tolist()\n",
        "        original_elem = \"\".join([index2char[index] for index in elem\n",
        "                        if index not in (pad_index, eos_index)])\n",
        "        original.append(original_elem)\n",
        "    return original"
      ],
      "execution_count": 0,
      "outputs": []
    },
    {
      "cell_type": "code",
      "metadata": {
        "id": "af3F0rrV6uNA",
        "colab_type": "code",
        "colab": {}
      },
      "source": [
        "import warnings\n",
        "warnings.filterwarnings(\"ignore\")"
      ],
      "execution_count": 0,
      "outputs": []
    },
    {
      "cell_type": "code",
      "metadata": {
        "id": "Os_M_fQ8BI19",
        "colab_type": "code",
        "outputId": "cf591a06-50a0-4a81-c748-28d21d5eaca9",
        "colab": {
          "base_uri": "https://localhost:8080/",
          "height": 797
        }
      },
      "source": [
        "epochs = 20\n",
        "clip = None\n",
        "losses = []\n",
        "best_test_loss = 10.\n",
        "\n",
        "\n",
        "for n_epoch in range(epochs):\n",
        "\n",
        "    precisions, recalls, fscores = [], [], []\n",
        "    train_losses, test_losses = [], []\n",
        "\n",
        "    progress_bar = tqdm(total=len(train_loader.dataset), desc='Epoch {}'.format(n_epoch + 1))\n",
        "    \n",
        "    for instance in list(tqdm._instances):\n",
        "        tqdm._decr_instances(instance)\n",
        "\n",
        "    #curr_epoch_losses = train(model, train_loader, criterion, optimizer)\n",
        "    curr_epoch_losses = bi_train(model, train_loader, criterion, encoder_optimizer, decoder_optimizer, clip)\n",
        "    losses.extend(curr_epoch_losses)\n",
        "\n",
        "    model.eval()\n",
        "\n",
        "    for x, y, z in test_loader:\n",
        "        \n",
        "        x = x.to(device)\n",
        "        y = y.to(device)\n",
        "        z = z.to(device)\n",
        "\n",
        "        with torch.no_grad():\n",
        "\n",
        "            output = model(x, y)\n",
        "            \n",
        "            eval_x = original_output(output)\n",
        "            eval_y = original_input(y)\n",
        "\n",
        "            output = output.view(-1, output.size(-1))\n",
        "\n",
        "            z = z.view(-1)\n",
        "            loss = criterion(output, z)\n",
        "\n",
        "            test_losses.append(loss.item())\n",
        "            F = f1_score(eval_x, eval_y, average=\"macro\")\n",
        "            fscores.append(F)\n",
        "\n",
        "    mean_test_loss = np.mean(test_losses)\n",
        "    fscore = np.mean(fscores)\n",
        "\n",
        "\n",
        "    print()\n",
        "    print('Losses: train - {:.3f}, test - {:.3f}'.format(np.mean(curr_epoch_losses), mean_test_loss))\n",
        "    print(\"F1-score: {:.3f}\".format(fscore))\n",
        "\n",
        "    if mean_test_loss < best_test_loss:\n",
        "        best_test_loss = mean_test_loss\n",
        "    else:\n",
        "        print('Early stopping')\n",
        "        break"
      ],
      "execution_count": 39,
      "outputs": [
        {
          "output_type": "stream",
          "text": [
            "100%|██████████| 253/253 [00:15<00:00, 16.30it/s, train_loss=1.35]\n",
            "Epoch 2:   0%|          | 0/64637 [00:00<?, ?it/s]\n",
            "512it [00:00, 4042.60it/s, train_loss=0.657]"
          ],
          "name": "stderr"
        },
        {
          "output_type": "stream",
          "text": [
            "\n",
            "Losses: train - 1.346, test - 0.771\n",
            "F1-score: 0.141\n"
          ],
          "name": "stdout"
        },
        {
          "output_type": "stream",
          "text": [
            "100%|██████████| 253/253 [00:15<00:00, 16.65it/s, train_loss=0.47]\n",
            "Epoch 3:   0%|          | 0/64637 [00:00<?, ?it/s]\n",
            "512it [00:00, 3764.21it/s, train_loss=0.353]"
          ],
          "name": "stderr"
        },
        {
          "output_type": "stream",
          "text": [
            "\n",
            "Losses: train - 0.470, test - 0.487\n",
            "F1-score: 0.222\n"
          ],
          "name": "stdout"
        },
        {
          "output_type": "stream",
          "text": [
            "100%|██████████| 253/253 [00:15<00:00, 16.42it/s, train_loss=0.31]\n",
            "Epoch 4:   0%|          | 0/64637 [00:00<?, ?it/s]\n",
            "512it [00:00, 3942.55it/s, train_loss=0.268]"
          ],
          "name": "stderr"
        },
        {
          "output_type": "stream",
          "text": [
            "\n",
            "Losses: train - 0.310, test - 0.438\n",
            "F1-score: 0.179\n"
          ],
          "name": "stdout"
        },
        {
          "output_type": "stream",
          "text": [
            "100%|██████████| 253/253 [00:15<00:00, 16.53it/s, train_loss=0.245]\n",
            "Epoch 5:   0%|          | 0/64637 [00:00<?, ?it/s]\n",
            "512it [00:00, 4187.87it/s, train_loss=0.213]"
          ],
          "name": "stderr"
        },
        {
          "output_type": "stream",
          "text": [
            "\n",
            "Losses: train - 0.245, test - 0.381\n",
            "F1-score: 0.263\n"
          ],
          "name": "stdout"
        },
        {
          "output_type": "stream",
          "text": [
            "100%|██████████| 253/253 [00:15<00:00, 16.65it/s, train_loss=0.207]\n",
            "Epoch 6:   0%|          | 0/64637 [00:00<?, ?it/s]\n",
            "512it [00:00, 3565.19it/s, train_loss=0.187]"
          ],
          "name": "stderr"
        },
        {
          "output_type": "stream",
          "text": [
            "\n",
            "Losses: train - 0.207, test - 0.357\n",
            "F1-score: 0.247\n"
          ],
          "name": "stdout"
        },
        {
          "output_type": "stream",
          "text": [
            "100%|██████████| 253/253 [00:15<00:00, 16.41it/s, train_loss=0.183]\n",
            "Epoch 7:   0%|          | 0/64637 [00:00<?, ?it/s]\n",
            "512it [00:00, 4429.57it/s, train_loss=0.162]"
          ],
          "name": "stderr"
        },
        {
          "output_type": "stream",
          "text": [
            "\n",
            "Losses: train - 0.183, test - 0.342\n",
            "F1-score: 0.247\n"
          ],
          "name": "stdout"
        },
        {
          "output_type": "stream",
          "text": [
            "100%|██████████| 253/253 [00:15<00:00, 16.44it/s, train_loss=0.167]\n",
            "Epoch 8:   0%|          | 0/64637 [00:00<?, ?it/s]\n",
            "512it [00:00, 4266.83it/s, train_loss=0.17] "
          ],
          "name": "stderr"
        },
        {
          "output_type": "stream",
          "text": [
            "\n",
            "Losses: train - 0.167, test - 0.339\n",
            "F1-score: 0.192\n"
          ],
          "name": "stdout"
        },
        {
          "output_type": "stream",
          "text": [
            "100%|██████████| 253/253 [00:15<00:00, 16.49it/s, train_loss=0.154]\n",
            "Epoch 9:   0%|          | 0/64637 [00:00<?, ?it/s]\n",
            "512it [00:00, 3911.19it/s, train_loss=0.142]"
          ],
          "name": "stderr"
        },
        {
          "output_type": "stream",
          "text": [
            "\n",
            "Losses: train - 0.154, test - 0.331\n",
            "F1-score: 0.243\n"
          ],
          "name": "stdout"
        },
        {
          "output_type": "stream",
          "text": [
            "100%|██████████| 253/253 [00:15<00:00, 16.43it/s, train_loss=0.145]\n"
          ],
          "name": "stderr"
        },
        {
          "output_type": "stream",
          "text": [
            "\n",
            "Losses: train - 0.145, test - 0.345\n",
            "F1-score: 0.230\n",
            "Early stopping\n"
          ],
          "name": "stdout"
        }
      ]
    },
    {
      "cell_type": "code",
      "metadata": {
        "id": "EO2m-aXkuz5V",
        "colab_type": "code",
        "outputId": "3c256813-9440-4d1d-deb3-d0229c173cb8",
        "colab": {
          "base_uri": "https://localhost:8080/",
          "height": 52
        }
      },
      "source": [
        "model.eval()\n",
        "\n",
        "test_losses, fscores = [], []\n",
        "\n",
        "for x, y, z in dev_loader:\n",
        "        \n",
        "    x = x.to(device)\n",
        "    y = y.to(device)\n",
        "    z = z.to(device)\n",
        "\n",
        "    with torch.no_grad():\n",
        "\n",
        "        output = model(x, y)\n",
        "            \n",
        "        eval_x = original_output(output)\n",
        "        eval_y = original_input(y)\n",
        "\n",
        "        output = output.view(-1, output.size(-1))\n",
        "\n",
        "        z = z.view(-1)\n",
        "        loss = criterion(output, z)\n",
        "\n",
        "        test_losses.append(loss.item())\n",
        "        F = f1_score(eval_x, eval_y, average=\"macro\")\n",
        "        fscores.append(F)\n",
        "\n",
        "mean_test_loss = np.mean(test_losses)\n",
        "fscore = np.mean(fscores)\n",
        "\n",
        "\n",
        "print()\n",
        "print(\"F1-score: {:.3f}\".format(fscore))"
      ],
      "execution_count": 44,
      "outputs": [
        {
          "output_type": "stream",
          "text": [
            "\n",
            "F1-score: 0.256\n"
          ],
          "name": "stdout"
        }
      ]
    },
    {
      "cell_type": "code",
      "metadata": {
        "id": "s69L1IW2gXRs",
        "colab_type": "code",
        "colab": {
          "base_uri": "https://localhost:8080/",
          "height": 746
        },
        "outputId": "6efd6cac-7aad-4d09-a303-9be7a97dbd81"
      },
      "source": [
        "plt.figure(figsize=(12, 12))\n",
        "plt.plot(losses)\n",
        "plt.grid()\n",
        "plt.title('Training process')\n",
        "plt.xlabel('Iterations')\n",
        "plt.ylabel('Loss function')"
      ],
      "execution_count": 45,
      "outputs": [
        {
          "output_type": "execute_result",
          "data": {
            "text/plain": [
              "Text(0, 0.5, 'Loss function')"
            ]
          },
          "metadata": {
            "tags": []
          },
          "execution_count": 45
        },
        {
          "output_type": "display_data",
          "data": {
            "image/png": "[encoded data removed]",
            "text/plain": [
              "<Figure size 864x864 with 1 Axes>"
            ]
          },
          "metadata": {
            "tags": []
          }
        }
      ]
    }
  ]
}