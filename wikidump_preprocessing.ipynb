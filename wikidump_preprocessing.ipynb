{
 "cells": [
  {
   "cell_type": "code",
   "execution_count": 1,
   "metadata": {
    "colab": {},
    "colab_type": "code",
    "id": "w-9GNYQuG_Ze"
   },
   "outputs": [],
   "source": [
    "languages = ('bak_', 'kaz_', 'kir_', 'tat_', 'tur_', 'crh_', 'krc_') \n",
    "normalized_file_extension = \"txt_norm\"\n",
    "normalized_wikis_dir = 'tur-wikis'"
   ]
  },
  {
   "cell_type": "code",
   "execution_count": 2,
   "metadata": {
    "colab": {},
    "colab_type": "code",
    "id": "YIQHaUuJG9ve"
   },
   "outputs": [],
   "source": [
    "def good_line(line) -> bool:\n",
    "    return line.strip() and len(line) > 40"
   ]
  },
  {
   "cell_type": "code",
   "execution_count": null,
   "metadata": {
    "colab": {
     "base_uri": "https://localhost:8080/"
    },
    "colab_type": "code",
    "id": "Y0EeMCiVBSvr",
    "outputId": "cbcfd5d0-c752-46aa-fa3f-4cafe04cc5df"
   },
   "outputs": [],
   "source": [
    "for language in languages:    \n",
    "    src_f = open(f\"{normalized_wikis_dir}/{language}.{normalized_file_extension}\", 'r', encoding=\"utf-8\")\n",
    "    tgt_f = open(f\"{normalized_wikis_dir}/{language}.no_headers\", 'w', encoding=\"utf-8\")\n",
    "    prev_line_was_empty = True\n",
    "    for line in src_f:\n",
    "        if not prev_line_was_empty and good_line(line):\n",
    "            print(line, file=tgt_f, end='')\n",
    "        prev_line_was_empty = not bool(line.strip())\n",
    "    src_f.close()\n",
    "    tgt_f.close()"
   ]
  },
  {
   "cell_type": "code",
   "execution_count": 3,
   "metadata": {
    "colab": {
     "base_uri": "https://localhost:8080/"
    },
    "colab_type": "code",
    "id": "hFDAM4USHTSl",
    "outputId": "70c187b3-165f-419d-f002-daf9f1b68c5e"
   },
   "outputs": [],
   "source": [
    "for language in languages:\n",
    "    !cat {normalized_wikis_dir}/{language}.no_headers | sed -e \"s|^|{language}    |\" >> pre_shuffled_data.tsv\n",
    "\n",
    "!shuf pre_shuffled_data.tsv > shuffled_data.tsv\n",
    "!rm pre_shuffled_data.tsv"
   ]
  },
  {
   "cell_type": "code",
   "execution_count": 4,
   "metadata": {
    "colab": {
     "base_uri": "https://localhost:8080/",
     "height": 207
    },
    "colab_type": "code",
    "id": "xt805g7_ENHt",
    "outputId": "20d62bdb-9fa1-4866-ff34-edc0ce9c5839"
   },
   "outputs": [
    {
     "name": "stdout",
     "output_type": "stream",
     "text": [
      "head: shuffled_.tsv: No such file or directory\r\n"
     ]
    }
   ],
   "source": [
    "!head shuffled_data.tsv"
   ]
  },
  {
   "cell_type": "code",
   "execution_count": 16,
   "metadata": {
    "colab": {
     "base_uri": "https://localhost:8080/",
     "height": 102
    },
    "colab_type": "code",
    "id": "phbeAS9yJZlt",
    "outputId": "fc3ebae8-c81c-4fe0-923e-1b7e933985c2"
   },
   "outputs": [
    {
     "name": "stdout",
     "output_type": "stream",
     "text": [
      "there are   188872 samples of language bak_\n",
      "there are   586993 samples of language kaz_\n",
      "there are   157554 samples of language kir_\n",
      "there are   200933 samples of language tat_\n",
      "there are  1133899 samples of language tur_\n",
      "there are     5997 samples of language crh_\n",
      "there are     6598 samples of language krc_\n"
     ]
    }
   ],
   "source": [
    "for language in languages:\n",
    "    !echo \"there are $(grep ^{language} shuffled_data.tsv | wc -l ) samples of language {language}\""
   ]
  }
 ],
 "metadata": {
  "colab": {
   "name": "shuffle tur wiki.ipynb",
   "provenance": []
  },
  "kernelspec": {
   "display_name": "Python 3",
   "language": "python",
   "name": "python3"
  },
  "language_info": {
   "codemirror_mode": {
    "name": "ipython",
    "version": 3
   },
   "file_extension": ".py",
   "mimetype": "text/x-python",
   "name": "python",
   "nbconvert_exporter": "python",
   "pygments_lexer": "ipython3",
   "version": "3.6.8"
  }
 },
 "nbformat": 4,
 "nbformat_minor": 1
}
